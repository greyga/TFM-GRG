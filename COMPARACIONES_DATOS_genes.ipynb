{
  "cells": [
    {
      "cell_type": "markdown",
      "metadata": {
        "id": "view-in-github",
        "colab_type": "text"
      },
      "source": [
        "<a href=\"https://colab.research.google.com/github/greyga/TFM-GRG/blob/main/COMPARACIONES_DATOS_genes.ipynb\" target=\"_parent\"><img src=\"https://colab.research.google.com/assets/colab-badge.svg\" alt=\"Open In Colab\"/></a>"
      ]
    },
    {
      "cell_type": "code",
      "execution_count": null,
      "metadata": {
        "colab": {
          "base_uri": "https://localhost:8080/"
        },
        "id": "00bROMdVR_Tc",
        "outputId": "33eaf565-8160-4cb7-93ab-49912abc08e4"
      },
      "outputs": [
        {
          "output_type": "stream",
          "name": "stdout",
          "text": [
            "  Variante Ranking Phenotypic_Score\n",
            "1   PTGER2       1             0.92\n",
            "2    TBX21       2             0.92\n",
            "3     HNMT       8             0.50\n",
            "4    ADRB2      18             0.00\n",
            "5   PLA2G7      21             0.50\n"
          ]
        }
      ],
      "source": [
        "# Crear el DataFrame \"datos_Asthma\"\n",
        "datos_Asthma <- data.frame(\n",
        "  Variante = c(\"PTGER2\", \"TBX21\", \"HNMT\", \"ADRB2\", \"PLA2G7\"),\n",
        "  Ranking = c(1, 2, 8, 18, 21),\n",
        "  Phenotypic_Score = c(0.92, 0.92, 0.50, 0.00, 0.50),\n",
        "  stringsAsFactors = FALSE\n",
        ")\n",
        "\n",
        "# Imprimir el DataFrame \"datos_Asthma\"\n",
        "print(datos_Asthma)"
      ]
    },
    {
      "cell_type": "code",
      "execution_count": null,
      "metadata": {
        "colab": {
          "base_uri": "https://localhost:8080/"
        },
        "id": "JxHdS5nPtzUO",
        "outputId": "45d4a37f-678f-433b-ead1-be1f8a0f9df3"
      },
      "outputs": [
        {
          "output_type": "stream",
          "name": "stdout",
          "text": [
            "'data.frame':\t5 obs. of  3 variables:\n",
            " $ Variante        : chr  \"PTGER2\" \"TBX21\" \"HNMT\" \"ADRB2\" ...\n",
            " $ Ranking         : num  1 2 8 18 21\n",
            " $ Phenotypic_Score: num  0.92 0.92 0.5 0 0.5\n"
          ]
        }
      ],
      "source": [
        "str(datos_Asthma)"
      ]
    },
    {
      "cell_type": "code",
      "execution_count": null,
      "metadata": {
        "colab": {
          "base_uri": "https://localhost:8080/"
        },
        "id": "jmX3tFcGUXeb",
        "outputId": "6caf68ae-ca15-46b9-8424-00b668576e88"
      },
      "outputs": [
        {
          "output_type": "stream",
          "name": "stdout",
          "text": [
            "  Variante Ranking Phenotypic_Score\n",
            "1   PTGER2       3                0\n",
            "2    TBX21       4                0\n",
            "3     HNMT      10                0\n",
            "4    ADRB2      11                0\n",
            "5   PLA2G7      21                0\n"
          ]
        }
      ],
      "source": [
        "# Crear el DataFrame \"datos_Sin_HPO\"\n",
        "datos_Sin_HPO <- data.frame(\n",
        "  Variante = c(\"PTGER2\", \"TBX21\", \"HNMT\", \"ADRB2\", \"PLA2G7\"),\n",
        "  Ranking = c(3, 4, 10, 11, 21),\n",
        "  Phenotypic_Score = c (0.0, 0.0 ,0.0 , 0.0 ,0.0),\n",
        "  stringsAsFactors = FALSE\n",
        ")\n",
        "\n",
        "# Imprimir el DataFrame \"datos_Sin_HPO\"\n",
        "print(datos_Sin_HPO)\n"
      ]
    },
    {
      "cell_type": "code",
      "execution_count": null,
      "metadata": {
        "colab": {
          "base_uri": "https://localhost:8080/"
        },
        "id": "lRIcvdZBUZc6",
        "outputId": "f19c9db9-9fd0-4ec3-8408-bd423f9d8dd9"
      },
      "outputs": [
        {
          "output_type": "stream",
          "name": "stdout",
          "text": [
            "  Variante Ranking Phenotypic_Score\n",
            "1   PTGER2       1              1.0\n",
            "2    TBX21       2              1.0\n",
            "3     HNMT       8              0.5\n",
            "4    ADRB2      18              0.0\n",
            "5   PLA2G7      21              0.5\n"
          ]
        }
      ],
      "source": [
        "# Crear el DataFrame \"datos_Asthma_ARS\"\n",
        "datos_Asthma_ARS <- data.frame(\n",
        "  Variante = c(\"PTGER2\", \"TBX21\", \"HNMT\", \"ADRB2\", \"PLA2G7\"),\n",
        "  Ranking = c(1, 2, 8, 18, 21),\n",
        "  Phenotypic_Score = c(1, 1, 0.5, 0.0, 0.5),\n",
        "  stringsAsFactors = FALSE\n",
        ")\n",
        "\n",
        "# Imprimir el DataFrame \"datos_Asthma_ARS\"\n",
        "print(datos_Asthma_ARS)\n"
      ]
    },
    {
      "cell_type": "code",
      "execution_count": null,
      "metadata": {
        "colab": {
          "base_uri": "https://localhost:8080/"
        },
        "id": "24z6_V6AVY4s",
        "outputId": "dfe76d33-f486-4c72-e7f2-86523813e93c"
      },
      "outputs": [
        {
          "output_type": "stream",
          "name": "stdout",
          "text": [
            "  Variante Ranking Phenotypic_Score\n",
            "1   PTGER2       1              1.0\n",
            "2    TBX21       2              1.0\n",
            "3     HNMT       8              0.5\n",
            "4    ADRB2      18              0.0\n",
            "5   PLA2G7      21              0.5\n"
          ]
        }
      ],
      "source": [
        "# Crear el DataFrame \"datos_Asthma_ARP\"\n",
        "datos_Asthma_ARP <- data.frame(\n",
        "  Variante = c(\"PTGER2\", \"TBX21\", \"HNMT\", \"ADRB2\", \"PLA2G7\"),\n",
        "  Ranking = c(1, 2, 8, 18, 21),\n",
        "  Phenotypic_Score = c(1, 1, 0.5, 0.0, 0.5),\n",
        "  stringsAsFactors = FALSE\n",
        ")\n",
        "\n",
        "# Imprimir el DataFrame \"datos_Asthma_ARP\"\n",
        "print(datos_Asthma_ARP)\n"
      ]
    },
    {
      "cell_type": "code",
      "execution_count": null,
      "metadata": {
        "colab": {
          "base_uri": "https://localhost:8080/"
        },
        "id": "v9UhUz9VVmVm",
        "outputId": "b25bd2b0-e38a-4a21-d630-344935841122"
      },
      "outputs": [
        {
          "output_type": "stream",
          "name": "stdout",
          "text": [
            "  Variante Ranking Phenotypic_Score\n",
            "1   PTGER2       1              1.0\n",
            "2    TBX21       2              1.0\n",
            "3     HNMT       8              0.5\n",
            "4    ADRB2      16              0.0\n",
            "5   PLA2G7      21              0.5\n"
          ]
        }
      ],
      "source": [
        "# Crear el DataFrame \"datos_Ab_Resp_system\"\n",
        "datos_Ab_Resp_system <- data.frame(\n",
        "  Variante = c(\"PTGER2\", \"TBX21\", \"HNMT\", \"ADRB2\", \"PLA2G7\"),\n",
        "  Ranking = c(1, 2, 8, 16, 21),\n",
        "  Phenotypic_Score = c(1, 1, 0.5, 0.0, 0.5),\n",
        "  stringsAsFactors = FALSE\n",
        ")\n",
        "\n",
        "# Imprimir el DataFrame \"datos_Ab_Resp_system\"\n",
        "print(datos_Ab_Resp_system)\n"
      ]
    },
    {
      "cell_type": "code",
      "execution_count": null,
      "metadata": {
        "colab": {
          "base_uri": "https://localhost:8080/"
        },
        "id": "FA_tTiCRW_lW",
        "outputId": "645136ad-f007-42ac-f49a-0f14f4f2864b"
      },
      "outputs": [
        {
          "output_type": "stream",
          "name": "stdout",
          "text": [
            "  Variante Ranking Phenotypic_Score\n",
            "1   PTGER2       1             0.93\n",
            "2    TBX21       2             0.93\n",
            "3     HNMT       8             0.50\n",
            "4    ADRB2      16             0.00\n",
            "5   PLA2G7      21             0.50\n"
          ]
        }
      ],
      "source": [
        "# Crear el DataFrame \"datos_Asthma_Ig_hypers\"\n",
        "datos_Asthma_Ig_hypers <- data.frame(\n",
        "  Variante = c(\"PTGER2\", \"TBX21\", \"HNMT\", \"ADRB2\", \"PLA2G7\"),\n",
        "  Ranking = c(1, 2, 8, 16, 21),\n",
        "  Phenotypic_Score = c(0.93, 0.93, 0.5, 0.0, 0.5),\n",
        "  stringsAsFactors = FALSE\n",
        ")\n",
        "\n",
        "# Imprimir el DataFrame \"datos_Asthma_Ig_hypers\"\n",
        "print(datos_Asthma_Ig_hypers)\n"
      ]
    },
    {
      "cell_type": "code",
      "execution_count": null,
      "metadata": {
        "colab": {
          "base_uri": "https://localhost:8080/"
        },
        "id": "rE5MZ3I9W_D8",
        "outputId": "8fbced54-e590-45f6-96f2-26d1ae516052"
      },
      "outputs": [
        {
          "output_type": "stream",
          "name": "stdout",
          "text": [
            "  Variante Ranking Phenotypic_Score\n",
            "1   PTGER2       1              1.0\n",
            "2    TBX21       2              1.0\n",
            "3     HNMT       8              0.5\n",
            "4    ADRB2      16              0.0\n",
            "5   PLA2G7      21              0.5\n"
          ]
        }
      ],
      "source": [
        "# Crear el DataFrame \"datos_Asthma_Abnormality_Igsystem\"\n",
        "datos_Asthma_Abnormality_Igsystem <- data.frame(\n",
        "  Variante = c(\"PTGER2\", \"TBX21\", \"HNMT\", \"ADRB2\", \"PLA2G7\"),\n",
        "  Ranking = c(1, 2, 8, 16, 21),\n",
        "  Phenotypic_Score = c(1, 1, 0.5, 0.0, 0.5),\n",
        "  stringsAsFactors = FALSE\n",
        ")\n",
        "\n",
        "# Imprimir el DataFrame \"datos_Asthma_Abnormality_Igsystem\"\n",
        "print(datos_Asthma_Abnormality_Igsystem)\n"
      ]
    },
    {
      "cell_type": "code",
      "source": [
        "# Crear el DataFrame \"datos_Ab_endocrine_system\"\n",
        "datos_Ab_endocrine_system <- data.frame(\n",
        "  Variante = c(\"PTGER2\", \"TBX21\", \"HNMT\", \"ADRB2\", \"PLA2G7\"),\n",
        "  Ranking = c(3, 8, 9, 17, 21),\n",
        "  Phenotypic_Score = c(0.5, 0.5, 0.5, 0.0, 0.5),\n",
        "  stringsAsFactors = FALSE\n",
        ")\n",
        "\n",
        "# Imprimir el DataFrame \"Ab_endocrine_system\"\n",
        "print(datos_Ab_endocrine_system)\n"
      ],
      "metadata": {
        "colab": {
          "base_uri": "https://localhost:8080/"
        },
        "id": "gAJq4XP7HGdX",
        "outputId": "dcc21185-001c-49f6-ec37-6853316a6ee8"
      },
      "execution_count": null,
      "outputs": [
        {
          "output_type": "stream",
          "name": "stdout",
          "text": [
            "  Variante Ranking Phenotypic_Score\n",
            "1   PTGER2       3              0.5\n",
            "2    TBX21       8              0.5\n",
            "3     HNMT       9              0.5\n",
            "4    ADRB2      17              0.0\n",
            "5   PLA2G7      21              0.5\n"
          ]
        }
      ]
    },
    {
      "cell_type": "code",
      "source": [
        "# Crear el DataFrame \"datos_all_HPOS\"\n",
        "datos_all_HPOS <- data.frame(\n",
        "  Variante = c(\"PTGER2\", \"TBX21\", \"HNMT\", \"ADRB2\", \"PLA2G7\"),\n",
        "  Ranking = c(4, 5, 10, 17, 21),\n",
        "  Phenotypic_Score = c(0.67, 0.97, 0.5, 0.0, 0.5),\n",
        "  stringsAsFactors = FALSE\n",
        ")\n",
        "\n",
        "# Imprimir el DataFrame \"all_HPOS\"\n",
        "print(datos_all_HPOS)\n"
      ],
      "metadata": {
        "colab": {
          "base_uri": "https://localhost:8080/"
        },
        "id": "TSWUxVsPHkry",
        "outputId": "06e51cd1-bda0-40f7-fad1-92fbdc405bb3"
      },
      "execution_count": null,
      "outputs": [
        {
          "output_type": "stream",
          "name": "stdout",
          "text": [
            "  Variante Ranking Phenotypic_Score\n",
            "1   PTGER2       4             0.67\n",
            "2    TBX21       5             0.97\n",
            "3     HNMT      10             0.50\n",
            "4    ADRB2      17             0.00\n",
            "5   PLA2G7      21             0.50\n"
          ]
        }
      ]
    },
    {
      "cell_type": "code",
      "source": [
        "# Crear el DataFrame \"datos_Decreased_T4\"\n",
        "datos_Decreased_T4 <- data.frame(\n",
        "  Variante = c(\"PTGER2\", \"TBX21\", \"HNMT\", \"ADRB2\", \"PLA2G7\"),\n",
        "  Ranking = c(5, 10, 9, 17, 21),\n",
        "  Phenotypic_Score = c(0.5, 0.5, 0.5, 0.0, 0.5),\n",
        "  stringsAsFactors = FALSE\n",
        ")\n",
        "\n",
        "# Imprimir el DataFrame \"datos_Decreased_T4\"\n",
        "print(datos_Decreased_T4)\n"
      ],
      "metadata": {
        "colab": {
          "base_uri": "https://localhost:8080/"
        },
        "id": "1T_YxHulHuwp",
        "outputId": "a36e46fd-bc32-4e2c-f156-30b29c6f4746"
      },
      "execution_count": null,
      "outputs": [
        {
          "output_type": "stream",
          "name": "stdout",
          "text": [
            "  Variante Ranking Phenotypic_Score\n",
            "1   PTGER2       5              0.5\n",
            "2    TBX21      10              0.5\n",
            "3     HNMT       9              0.5\n",
            "4    ADRB2      17              0.0\n",
            "5   PLA2G7      21              0.5\n"
          ]
        }
      ]
    },
    {
      "cell_type": "markdown",
      "source": [
        "COMPARACIONES ESTADISTICAS"
      ],
      "metadata": {
        "id": "fe9u9UnvQKrd"
      }
    },
    {
      "cell_type": "code",
      "source": [
        "# Comparación de Rankings utilizando la prueba de Mann-Whitney\n",
        "mw_ranking_results <- list()\n",
        "dataframes <- list(datos_Sin_HPO, datos_Asthma, datos_Asthma_ARS, datos_Asthma_ARP, datos_Ab_Resp_system, datos_Asthma_Ig_hypers, datos_Asthma_Abnormality_Igsystem, datos_Ab_endocrine_system, datos_all_HPOS, datos_Decreased_T4)\n",
        "\n",
        "# Asignar nombres a los dataframes\n",
        "names(dataframes) <- c(\"datos_Sin_HPO\", \"datos_Asthma\", \"datos_Asthma_ARS\", \"datos_Asthma_ARP\", \"datos_Ab_Resp_system\", \"datos_Asthma_Ig_hypers\", \"datos_Asthma_Abnormality_Igsystem\", \"datos_Ab_endocrine_system\", \"datos_all_HPOS\", \"datos_Decreased_T4\")\n",
        "\n",
        "cat(\"Comparación de Rankings utilizando la prueba de Mann-Whitney:\\n\")\n",
        "counter <- 1\n",
        "\n",
        "for (i in 1:(length(dataframes) - 1)) {\n",
        "  for (j in (i+1):length(dataframes)) {\n",
        "    df1 <- dataframes[[i]]\n",
        "    df2 <- dataframes[[j]]\n",
        "    comparison <- try(wilcox.test(df1$Ranking, df2$Ranking, exact = FALSE), silent = TRUE)\n",
        "    if (inherits(comparison, \"try-error\")) {\n",
        "      cat(counter, \". No se pudo calcular el valor p para la comparación:\", names(dataframes)[i], \"con\", names(dataframes)[j], \"para el ranking usando Mann-Whitney.\\n\")\n",
        "    } else {\n",
        "      p_value <- comparison$p.value\n",
        "      comparison_name <- paste(names(dataframes)[i], \"con\", names(dataframes)[j])\n",
        "      mw_ranking_results[[comparison_name]] <- p_value\n",
        "      cat(counter, \". El valor p de la comparación\", names(dataframes)[i], \"con\", names(dataframes)[j], \"para el ranking usando Mann-Whitney es:\", p_value, \"\\n\")\n",
        "    }\n",
        "    counter <- counter + 1\n",
        "  }\n",
        "}\n",
        "\n",
        "# Comparación de Phenotypic Scores utilizando la prueba de Mann-Whitney\n",
        "mw_score_results <- list()\n",
        "\n",
        "cat(\"\\nComparación de Phenotypic Scores utilizando la prueba de Mann-Whitney:\\n\")\n",
        "counter <- 1\n",
        "\n",
        "for (i in 1:(length(dataframes) - 1)) {\n",
        "  for (j in (i+1):length(dataframes)) {\n",
        "    df1 <- dataframes[[i]]\n",
        "    df2 <- dataframes[[j]]\n",
        "    comparison <- try(wilcox.test(df1$Phenotypic_Score, df2$Phenotypic_Score, exact = FALSE), silent = TRUE)\n",
        "    if (inherits(comparison, \"try-error\")) {\n",
        "      cat(counter, \". No se pudo calcular el valor p para la comparación:\", names(dataframes)[i], \"con\", names(dataframes)[j], \"para el Phenotypic_score usando Mann-Whitney.\\n\")\n",
        "    } else {\n",
        "      p_value <- comparison$p.value\n",
        "      comparison_name <- paste(names(dataframes)[i], \"con\", names(dataframes)[j])\n",
        "      mw_score_results[[comparison_name]] <- p_value\n",
        "      cat(counter, \". El valor p de la comparación\", names(dataframes)[i], \"con\", names(dataframes)[j], \"para el Phenotypic_score usando Mann-Whitney es:\", p_value, \"\\n\")\n",
        "    }\n",
        "    counter <- counter + 1\n",
        "  }\n",
        "}\n",
        "\n",
        "# Comparación de Rankings utilizando el test de Chi-cuadrado\n",
        "chi2_ranking_results <- list()\n",
        "\n",
        "cat(\"\\nComparación de Rankings utilizando el test de Chi-cuadrado:\\n\")\n",
        "counter <- 1\n",
        "\n",
        "for (i in 1:(length(dataframes) - 1)) {\n",
        "  for (j in (i+1):length(dataframes)) {\n",
        "    df1 <- dataframes[[i]]\n",
        "    df2 <- dataframes[[j]]\n",
        "    contingency_table <- table(df1$Ranking, df2$Ranking)\n",
        "    comparison <- try(chisq.test(contingency_table), silent = TRUE)\n",
        "    if (inherits(comparison, \"try-error\")) {\n",
        "      cat(counter, \". No se pudo calcular el valor p para la comparación:\", names(dataframes)[i], \"con\", names(dataframes)[j], \"para el ranking usando Chi2.\\n\")\n",
        "    } else {\n",
        "      p_value <- comparison$p.value\n",
        "      comparison_name <- paste(names(dataframes)[i], \"con\", names(dataframes)[j])\n",
        "      chi2_ranking_results[[comparison_name]] <- p_value\n",
        "      cat(counter, \". El valor p de la comparación\", names(dataframes)[i], \"con\", names(dataframes)[j], \"para el ranking usando Chi2 es:\", p_value, \"\\n\")\n",
        "    }\n",
        "    counter <- counter + 1\n",
        "  }\n",
        "}\n",
        "\n",
        "# Comparación de Phenotypic Scores utilizando el test de Chi-cuadrado\n",
        "chi2_score_results <- list()\n",
        "\n",
        "cat(\"\\nComparación de Phenotypic Scores utilizando el test de Chi-cuadrado:\\n\")\n",
        "counter <- 1\n",
        "\n",
        "for (i in 1:(length(dataframes) - 1)) {\n",
        "  for (j in (i+1):length(dataframes)) {\n",
        "    df1 <- dataframes[[i]]\n",
        "    df2 <- dataframes[[j]]\n",
        "    contingency_table <- table(df1$Phenotypic_Score, df2$Phenotypic_Score)\n",
        "    comparison <- try(chisq.test(contingency_table), silent = TRUE)\n",
        "    if (inherits(comparison, \"try-error\")) {\n",
        "      cat(counter, \". No se pudo calcular el valor p para la comparación:\", names(dataframes)[i], \"con\", names(dataframes)[j], \"para el Phenotypic_score usando Chi2.\\n\")\n",
        "    } else {\n",
        "      p_value <- comparison$p.value\n",
        "      comparison_name <- paste(names(dataframes)[i], \"con\", names(dataframes)[j])\n",
        "      chi2_score_results[[comparison_name]] <- p_value\n",
        "      cat(counter, \". El valor p de la comparación\", names(dataframes)[i], \"con\", names(dataframes)[j], \"para el Phenotypic_score usando Chi2 es:\", p_value, \"\\n\")\n",
        "    }\n",
        "    counter <- counter + 1\n",
        "  }\n",
        "}\n"
      ],
      "metadata": {
        "colab": {
          "base_uri": "https://localhost:8080/"
        },
        "id": "aSqfGDP2VZE7",
        "outputId": "436a279e-fa06-49aa-f8e9-beb94ee62e15"
      },
      "execution_count": null,
      "outputs": [
        {
          "output_type": "stream",
          "name": "stdout",
          "text": [
            "Comparación de Rankings utilizando la prueba de Mann-Whitney:\n",
            "1 . El valor p de la comparación datos_Sin_HPO con datos_Asthma para el ranking usando Mann-Whitney es: 0.753298 \n",
            "2 . El valor p de la comparación datos_Sin_HPO con datos_Asthma_ARS para el ranking usando Mann-Whitney es: 0.753298 \n",
            "3 . El valor p de la comparación datos_Sin_HPO con datos_Asthma_ARP para el ranking usando Mann-Whitney es: 0.753298 \n",
            "4 . El valor p de la comparación datos_Sin_HPO con datos_Ab_Resp_system para el ranking usando Mann-Whitney es: 0.753298 \n",
            "5 . El valor p de la comparación datos_Sin_HPO con datos_Asthma_Ig_hypers para el ranking usando Mann-Whitney es: 0.753298 \n",
            "6 . El valor p de la comparación datos_Sin_HPO con datos_Asthma_Abnormality_Igsystem para el ranking usando Mann-Whitney es: 0.753298 \n",
            "7 . El valor p de la comparación datos_Sin_HPO con datos_Ab_endocrine_system para el ranking usando Mann-Whitney es: 1 \n",
            "8 . El valor p de la comparación datos_Sin_HPO con datos_all_HPOS para el ranking usando Mann-Whitney es: 0.7518296 \n",
            "9 . El valor p de la comparación datos_Sin_HPO con datos_Decreased_T4 para el ranking usando Mann-Whitney es: 0.6742359 \n",
            "10 . El valor p de la comparación datos_Asthma con datos_Asthma_ARS para el ranking usando Mann-Whitney es: 1 \n",
            "11 . El valor p de la comparación datos_Asthma con datos_Asthma_ARP para el ranking usando Mann-Whitney es: 1 \n",
            "12 . El valor p de la comparación datos_Asthma con datos_Ab_Resp_system para el ranking usando Mann-Whitney es: 1 \n",
            "13 . El valor p de la comparación datos_Asthma con datos_Asthma_Ig_hypers para el ranking usando Mann-Whitney es: 1 \n",
            "14 . El valor p de la comparación datos_Asthma con datos_Asthma_Abnormality_Igsystem para el ranking usando Mann-Whitney es: 1 \n",
            "15 . El valor p de la comparación datos_Asthma con datos_Ab_endocrine_system para el ranking usando Mann-Whitney es: 0.6742359 \n",
            "16 . El valor p de la comparación datos_Asthma con datos_all_HPOS para el ranking usando Mann-Whitney es: 0.753298 \n",
            "17 . El valor p de la comparación datos_Asthma con datos_Decreased_T4 para el ranking usando Mann-Whitney es: 0.6004018 \n",
            "18 . El valor p de la comparación datos_Asthma_ARS con datos_Asthma_ARP para el ranking usando Mann-Whitney es: 1 \n",
            "19 . El valor p de la comparación datos_Asthma_ARS con datos_Ab_Resp_system para el ranking usando Mann-Whitney es: 1 \n",
            "20 . El valor p de la comparación datos_Asthma_ARS con datos_Asthma_Ig_hypers para el ranking usando Mann-Whitney es: 1 \n",
            "21 . El valor p de la comparación datos_Asthma_ARS con datos_Asthma_Abnormality_Igsystem para el ranking usando Mann-Whitney es: 1 \n",
            "22 . El valor p de la comparación datos_Asthma_ARS con datos_Ab_endocrine_system para el ranking usando Mann-Whitney es: 0.6742359 \n",
            "23 . El valor p de la comparación datos_Asthma_ARS con datos_all_HPOS para el ranking usando Mann-Whitney es: 0.753298 \n",
            "24 . El valor p de la comparación datos_Asthma_ARS con datos_Decreased_T4 para el ranking usando Mann-Whitney es: 0.6004018 \n",
            "25 . El valor p de la comparación datos_Asthma_ARP con datos_Ab_Resp_system para el ranking usando Mann-Whitney es: 1 \n",
            "26 . El valor p de la comparación datos_Asthma_ARP con datos_Asthma_Ig_hypers para el ranking usando Mann-Whitney es: 1 \n",
            "27 . El valor p de la comparación datos_Asthma_ARP con datos_Asthma_Abnormality_Igsystem para el ranking usando Mann-Whitney es: 1 \n",
            "28 . El valor p de la comparación datos_Asthma_ARP con datos_Ab_endocrine_system para el ranking usando Mann-Whitney es: 0.6742359 \n",
            "29 . El valor p de la comparación datos_Asthma_ARP con datos_all_HPOS para el ranking usando Mann-Whitney es: 0.753298 \n",
            "30 . El valor p de la comparación datos_Asthma_ARP con datos_Decreased_T4 para el ranking usando Mann-Whitney es: 0.6004018 \n",
            "31 . El valor p de la comparación datos_Ab_Resp_system con datos_Asthma_Ig_hypers para el ranking usando Mann-Whitney es: 1 \n",
            "32 . El valor p de la comparación datos_Ab_Resp_system con datos_Asthma_Abnormality_Igsystem para el ranking usando Mann-Whitney es: 1 \n",
            "33 . El valor p de la comparación datos_Ab_Resp_system con datos_Ab_endocrine_system para el ranking usando Mann-Whitney es: 0.5283593 \n",
            "34 . El valor p de la comparación datos_Ab_Resp_system con datos_all_HPOS para el ranking usando Mann-Whitney es: 0.6004018 \n",
            "35 . El valor p de la comparación datos_Ab_Resp_system con datos_Decreased_T4 para el ranking usando Mann-Whitney es: 0.4633439 \n",
            "36 . El valor p de la comparación datos_Asthma_Ig_hypers con datos_Asthma_Abnormality_Igsystem para el ranking usando Mann-Whitney es: 1 \n",
            "37 . El valor p de la comparación datos_Asthma_Ig_hypers con datos_Ab_endocrine_system para el ranking usando Mann-Whitney es: 0.5283593 \n",
            "38 . El valor p de la comparación datos_Asthma_Ig_hypers con datos_all_HPOS para el ranking usando Mann-Whitney es: 0.6004018 \n",
            "39 . El valor p de la comparación datos_Asthma_Ig_hypers con datos_Decreased_T4 para el ranking usando Mann-Whitney es: 0.4633439 \n",
            "40 . El valor p de la comparación datos_Asthma_Abnormality_Igsystem con datos_Ab_endocrine_system para el ranking usando Mann-Whitney es: 0.5283593 \n",
            "41 . El valor p de la comparación datos_Asthma_Abnormality_Igsystem con datos_all_HPOS para el ranking usando Mann-Whitney es: 0.6004018 \n",
            "42 . El valor p de la comparación datos_Asthma_Abnormality_Igsystem con datos_Decreased_T4 para el ranking usando Mann-Whitney es: 0.4633439 \n",
            "43 . El valor p de la comparación datos_Ab_endocrine_system con datos_all_HPOS para el ranking usando Mann-Whitney es: 1 \n",
            "44 . El valor p de la comparación datos_Ab_endocrine_system con datos_Decreased_T4 para el ranking usando Mann-Whitney es: 0.7518296 \n",
            "45 . El valor p de la comparación datos_all_HPOS con datos_Decreased_T4 para el ranking usando Mann-Whitney es: 0.8325188 \n",
            "\n",
            "Comparación de Phenotypic Scores utilizando la prueba de Mann-Whitney:\n",
            "1 . El valor p de la comparación datos_Sin_HPO con datos_Asthma para el Phenotypic_score usando Mann-Whitney es: 0.02425141 \n",
            "2 . El valor p de la comparación datos_Sin_HPO con datos_Asthma_ARS para el Phenotypic_score usando Mann-Whitney es: 0.02425141 \n",
            "3 . El valor p de la comparación datos_Sin_HPO con datos_Asthma_ARP para el Phenotypic_score usando Mann-Whitney es: 0.02425141 \n",
            "4 . El valor p de la comparación datos_Sin_HPO con datos_Ab_Resp_system para el Phenotypic_score usando Mann-Whitney es: 0.02425141 \n",
            "5 . El valor p de la comparación datos_Sin_HPO con datos_Asthma_Ig_hypers para el Phenotypic_score usando Mann-Whitney es: 0.02425141 \n",
            "6 . El valor p de la comparación datos_Sin_HPO con datos_Asthma_Abnormality_Igsystem para el Phenotypic_score usando Mann-Whitney es: 0.02425141 \n",
            "7 . El valor p de la comparación datos_Sin_HPO con datos_Ab_endocrine_system para el Phenotypic_score usando Mann-Whitney es: 0.01996445 \n",
            "8 . El valor p de la comparación datos_Sin_HPO con datos_all_HPOS para el Phenotypic_score usando Mann-Whitney es: 0.02480842 \n",
            "9 . El valor p de la comparación datos_Sin_HPO con datos_Decreased_T4 para el Phenotypic_score usando Mann-Whitney es: 0.01996445 \n",
            "10 . El valor p de la comparación datos_Asthma con datos_Asthma_ARS para el Phenotypic_score usando Mann-Whitney es: 0.7440731 \n",
            "11 . El valor p de la comparación datos_Asthma con datos_Asthma_ARP para el Phenotypic_score usando Mann-Whitney es: 0.7440731 \n",
            "12 . El valor p de la comparación datos_Asthma con datos_Ab_Resp_system para el Phenotypic_score usando Mann-Whitney es: 0.7440731 \n",
            "13 . El valor p de la comparación datos_Asthma con datos_Asthma_Ig_hypers para el Phenotypic_score usando Mann-Whitney es: 0.7440731 \n",
            "14 . El valor p de la comparación datos_Asthma con datos_Asthma_Abnormality_Igsystem para el Phenotypic_score usando Mann-Whitney es: 0.7440731 \n",
            "15 . El valor p de la comparación datos_Asthma con datos_Ab_endocrine_system para el Phenotypic_score usando Mann-Whitney es: 0.4064834 \n",
            "16 . El valor p de la comparación datos_Asthma con datos_all_HPOS para el Phenotypic_score usando Mann-Whitney es: 1 \n",
            "17 . El valor p de la comparación datos_Asthma con datos_Decreased_T4 para el Phenotypic_score usando Mann-Whitney es: 0.4064834 \n",
            "18 . El valor p de la comparación datos_Asthma_ARS con datos_Asthma_ARP para el Phenotypic_score usando Mann-Whitney es: 1 \n",
            "19 . El valor p de la comparación datos_Asthma_ARS con datos_Ab_Resp_system para el Phenotypic_score usando Mann-Whitney es: 1 \n",
            "20 . El valor p de la comparación datos_Asthma_ARS con datos_Asthma_Ig_hypers para el Phenotypic_score usando Mann-Whitney es: 0.7440731 \n",
            "21 . El valor p de la comparación datos_Asthma_ARS con datos_Asthma_Abnormality_Igsystem para el Phenotypic_score usando Mann-Whitney es: 1 \n",
            "22 . El valor p de la comparación datos_Asthma_ARS con datos_Ab_endocrine_system para el Phenotypic_score usando Mann-Whitney es: 0.4064834 \n",
            "23 . El valor p de la comparación datos_Asthma_ARS con datos_all_HPOS para el Phenotypic_score usando Mann-Whitney es: 0.7448816 \n",
            "24 . El valor p de la comparación datos_Asthma_ARS con datos_Decreased_T4 para el Phenotypic_score usando Mann-Whitney es: 0.4064834 \n",
            "25 . El valor p de la comparación datos_Asthma_ARP con datos_Ab_Resp_system para el Phenotypic_score usando Mann-Whitney es: 1 \n",
            "26 . El valor p de la comparación datos_Asthma_ARP con datos_Asthma_Ig_hypers para el Phenotypic_score usando Mann-Whitney es: 0.7440731 \n",
            "27 . El valor p de la comparación datos_Asthma_ARP con datos_Asthma_Abnormality_Igsystem para el Phenotypic_score usando Mann-Whitney es: 1 \n",
            "28 . El valor p de la comparación datos_Asthma_ARP con datos_Ab_endocrine_system para el Phenotypic_score usando Mann-Whitney es: 0.4064834 \n",
            "29 . El valor p de la comparación datos_Asthma_ARP con datos_all_HPOS para el Phenotypic_score usando Mann-Whitney es: 0.7448816 \n",
            "30 . El valor p de la comparación datos_Asthma_ARP con datos_Decreased_T4 para el Phenotypic_score usando Mann-Whitney es: 0.4064834 \n",
            "31 . El valor p de la comparación datos_Ab_Resp_system con datos_Asthma_Ig_hypers para el Phenotypic_score usando Mann-Whitney es: 0.7440731 \n",
            "32 . El valor p de la comparación datos_Ab_Resp_system con datos_Asthma_Abnormality_Igsystem para el Phenotypic_score usando Mann-Whitney es: 1 \n",
            "33 . El valor p de la comparación datos_Ab_Resp_system con datos_Ab_endocrine_system para el Phenotypic_score usando Mann-Whitney es: 0.4064834 \n",
            "34 . El valor p de la comparación datos_Ab_Resp_system con datos_all_HPOS para el Phenotypic_score usando Mann-Whitney es: 0.7448816 \n",
            "35 . El valor p de la comparación datos_Ab_Resp_system con datos_Decreased_T4 para el Phenotypic_score usando Mann-Whitney es: 0.4064834 \n",
            "36 . El valor p de la comparación datos_Asthma_Ig_hypers con datos_Asthma_Abnormality_Igsystem para el Phenotypic_score usando Mann-Whitney es: 0.7440731 \n",
            "37 . El valor p de la comparación datos_Asthma_Ig_hypers con datos_Ab_endocrine_system para el Phenotypic_score usando Mann-Whitney es: 0.4064834 \n",
            "38 . El valor p de la comparación datos_Asthma_Ig_hypers con datos_all_HPOS para el Phenotypic_score usando Mann-Whitney es: 1 \n",
            "39 . El valor p de la comparación datos_Asthma_Ig_hypers con datos_Decreased_T4 para el Phenotypic_score usando Mann-Whitney es: 0.4064834 \n",
            "40 . El valor p de la comparación datos_Asthma_Abnormality_Igsystem con datos_Ab_endocrine_system para el Phenotypic_score usando Mann-Whitney es: 0.4064834 \n",
            "41 . El valor p de la comparación datos_Asthma_Abnormality_Igsystem con datos_all_HPOS para el Phenotypic_score usando Mann-Whitney es: 0.7448816 \n",
            "42 . El valor p de la comparación datos_Asthma_Abnormality_Igsystem con datos_Decreased_T4 para el Phenotypic_score usando Mann-Whitney es: 0.4064834 \n",
            "43 . El valor p de la comparación datos_Ab_endocrine_system con datos_all_HPOS para el Phenotypic_score usando Mann-Whitney es: 0.4083084 \n",
            "44 . El valor p de la comparación datos_Ab_endocrine_system con datos_Decreased_T4 para el Phenotypic_score usando Mann-Whitney es: 1 \n",
            "45 . El valor p de la comparación datos_all_HPOS con datos_Decreased_T4 para el Phenotypic_score usando Mann-Whitney es: 0.4083084 \n",
            "\n",
            "Comparación de Rankings utilizando el test de Chi-cuadrado:\n"
          ]
        },
        {
          "output_type": "stream",
          "name": "stderr",
          "text": [
            "Warning message in chisq.test(contingency_table):\n",
            "“Chi-squared approximation may be incorrect”\n"
          ]
        },
        {
          "output_type": "stream",
          "name": "stdout",
          "text": [
            "1 . El valor p de la comparación datos_Sin_HPO con datos_Asthma para el ranking usando Chi2 es: 0.2202206 \n"
          ]
        },
        {
          "output_type": "stream",
          "name": "stderr",
          "text": [
            "Warning message in chisq.test(contingency_table):\n",
            "“Chi-squared approximation may be incorrect”\n"
          ]
        },
        {
          "output_type": "stream",
          "name": "stdout",
          "text": [
            "2 . El valor p de la comparación datos_Sin_HPO con datos_Asthma_ARS para el ranking usando Chi2 es: 0.2202206 \n"
          ]
        },
        {
          "output_type": "stream",
          "name": "stderr",
          "text": [
            "Warning message in chisq.test(contingency_table):\n",
            "“Chi-squared approximation may be incorrect”\n"
          ]
        },
        {
          "output_type": "stream",
          "name": "stdout",
          "text": [
            "3 . El valor p de la comparación datos_Sin_HPO con datos_Asthma_ARP para el ranking usando Chi2 es: 0.2202206 \n"
          ]
        },
        {
          "output_type": "stream",
          "name": "stderr",
          "text": [
            "Warning message in chisq.test(contingency_table):\n",
            "“Chi-squared approximation may be incorrect”\n"
          ]
        },
        {
          "output_type": "stream",
          "name": "stdout",
          "text": [
            "4 . El valor p de la comparación datos_Sin_HPO con datos_Ab_Resp_system para el ranking usando Chi2 es: 0.2202206 \n"
          ]
        },
        {
          "output_type": "stream",
          "name": "stderr",
          "text": [
            "Warning message in chisq.test(contingency_table):\n",
            "“Chi-squared approximation may be incorrect”\n"
          ]
        },
        {
          "output_type": "stream",
          "name": "stdout",
          "text": [
            "5 . El valor p de la comparación datos_Sin_HPO con datos_Asthma_Ig_hypers para el ranking usando Chi2 es: 0.2202206 \n"
          ]
        },
        {
          "output_type": "stream",
          "name": "stderr",
          "text": [
            "Warning message in chisq.test(contingency_table):\n",
            "“Chi-squared approximation may be incorrect”\n"
          ]
        },
        {
          "output_type": "stream",
          "name": "stdout",
          "text": [
            "6 . El valor p de la comparación datos_Sin_HPO con datos_Asthma_Abnormality_Igsystem para el ranking usando Chi2 es: 0.2202206 \n"
          ]
        },
        {
          "output_type": "stream",
          "name": "stderr",
          "text": [
            "Warning message in chisq.test(contingency_table):\n",
            "“Chi-squared approximation may be incorrect”\n"
          ]
        },
        {
          "output_type": "stream",
          "name": "stdout",
          "text": [
            "7 . El valor p de la comparación datos_Sin_HPO con datos_Ab_endocrine_system para el ranking usando Chi2 es: 0.2202206 \n"
          ]
        },
        {
          "output_type": "stream",
          "name": "stderr",
          "text": [
            "Warning message in chisq.test(contingency_table):\n",
            "“Chi-squared approximation may be incorrect”\n"
          ]
        },
        {
          "output_type": "stream",
          "name": "stdout",
          "text": [
            "8 . El valor p de la comparación datos_Sin_HPO con datos_all_HPOS para el ranking usando Chi2 es: 0.2202206 \n"
          ]
        },
        {
          "output_type": "stream",
          "name": "stderr",
          "text": [
            "Warning message in chisq.test(contingency_table):\n",
            "“Chi-squared approximation may be incorrect”\n"
          ]
        },
        {
          "output_type": "stream",
          "name": "stdout",
          "text": [
            "9 . El valor p de la comparación datos_Sin_HPO con datos_Decreased_T4 para el ranking usando Chi2 es: 0.2202206 \n"
          ]
        },
        {
          "output_type": "stream",
          "name": "stderr",
          "text": [
            "Warning message in chisq.test(contingency_table):\n",
            "“Chi-squared approximation may be incorrect”\n"
          ]
        },
        {
          "output_type": "stream",
          "name": "stdout",
          "text": [
            "10 . El valor p de la comparación datos_Asthma con datos_Asthma_ARS para el ranking usando Chi2 es: 0.2202206 \n"
          ]
        },
        {
          "output_type": "stream",
          "name": "stderr",
          "text": [
            "Warning message in chisq.test(contingency_table):\n",
            "“Chi-squared approximation may be incorrect”\n"
          ]
        },
        {
          "output_type": "stream",
          "name": "stdout",
          "text": [
            "11 . El valor p de la comparación datos_Asthma con datos_Asthma_ARP para el ranking usando Chi2 es: 0.2202206 \n"
          ]
        },
        {
          "output_type": "stream",
          "name": "stderr",
          "text": [
            "Warning message in chisq.test(contingency_table):\n",
            "“Chi-squared approximation may be incorrect”\n"
          ]
        },
        {
          "output_type": "stream",
          "name": "stdout",
          "text": [
            "12 . El valor p de la comparación datos_Asthma con datos_Ab_Resp_system para el ranking usando Chi2 es: 0.2202206 \n"
          ]
        },
        {
          "output_type": "stream",
          "name": "stderr",
          "text": [
            "Warning message in chisq.test(contingency_table):\n",
            "“Chi-squared approximation may be incorrect”\n"
          ]
        },
        {
          "output_type": "stream",
          "name": "stdout",
          "text": [
            "13 . El valor p de la comparación datos_Asthma con datos_Asthma_Ig_hypers para el ranking usando Chi2 es: 0.2202206 \n"
          ]
        },
        {
          "output_type": "stream",
          "name": "stderr",
          "text": [
            "Warning message in chisq.test(contingency_table):\n",
            "“Chi-squared approximation may be incorrect”\n"
          ]
        },
        {
          "output_type": "stream",
          "name": "stdout",
          "text": [
            "14 . El valor p de la comparación datos_Asthma con datos_Asthma_Abnormality_Igsystem para el ranking usando Chi2 es: 0.2202206 \n"
          ]
        },
        {
          "output_type": "stream",
          "name": "stderr",
          "text": [
            "Warning message in chisq.test(contingency_table):\n",
            "“Chi-squared approximation may be incorrect”\n"
          ]
        },
        {
          "output_type": "stream",
          "name": "stdout",
          "text": [
            "15 . El valor p de la comparación datos_Asthma con datos_Ab_endocrine_system para el ranking usando Chi2 es: 0.2202206 \n"
          ]
        },
        {
          "output_type": "stream",
          "name": "stderr",
          "text": [
            "Warning message in chisq.test(contingency_table):\n",
            "“Chi-squared approximation may be incorrect”\n"
          ]
        },
        {
          "output_type": "stream",
          "name": "stdout",
          "text": [
            "16 . El valor p de la comparación datos_Asthma con datos_all_HPOS para el ranking usando Chi2 es: 0.2202206 \n"
          ]
        },
        {
          "output_type": "stream",
          "name": "stderr",
          "text": [
            "Warning message in chisq.test(contingency_table):\n",
            "“Chi-squared approximation may be incorrect”\n"
          ]
        },
        {
          "output_type": "stream",
          "name": "stdout",
          "text": [
            "17 . El valor p de la comparación datos_Asthma con datos_Decreased_T4 para el ranking usando Chi2 es: 0.2202206 \n"
          ]
        },
        {
          "output_type": "stream",
          "name": "stderr",
          "text": [
            "Warning message in chisq.test(contingency_table):\n",
            "“Chi-squared approximation may be incorrect”\n"
          ]
        },
        {
          "output_type": "stream",
          "name": "stdout",
          "text": [
            "18 . El valor p de la comparación datos_Asthma_ARS con datos_Asthma_ARP para el ranking usando Chi2 es: 0.2202206 \n"
          ]
        },
        {
          "output_type": "stream",
          "name": "stderr",
          "text": [
            "Warning message in chisq.test(contingency_table):\n",
            "“Chi-squared approximation may be incorrect”\n"
          ]
        },
        {
          "output_type": "stream",
          "name": "stdout",
          "text": [
            "19 . El valor p de la comparación datos_Asthma_ARS con datos_Ab_Resp_system para el ranking usando Chi2 es: 0.2202206 \n"
          ]
        },
        {
          "output_type": "stream",
          "name": "stderr",
          "text": [
            "Warning message in chisq.test(contingency_table):\n",
            "“Chi-squared approximation may be incorrect”\n"
          ]
        },
        {
          "output_type": "stream",
          "name": "stdout",
          "text": [
            "20 . El valor p de la comparación datos_Asthma_ARS con datos_Asthma_Ig_hypers para el ranking usando Chi2 es: 0.2202206 \n"
          ]
        },
        {
          "output_type": "stream",
          "name": "stderr",
          "text": [
            "Warning message in chisq.test(contingency_table):\n",
            "“Chi-squared approximation may be incorrect”\n"
          ]
        },
        {
          "output_type": "stream",
          "name": "stdout",
          "text": [
            "21 . El valor p de la comparación datos_Asthma_ARS con datos_Asthma_Abnormality_Igsystem para el ranking usando Chi2 es: 0.2202206 \n"
          ]
        },
        {
          "output_type": "stream",
          "name": "stderr",
          "text": [
            "Warning message in chisq.test(contingency_table):\n",
            "“Chi-squared approximation may be incorrect”\n"
          ]
        },
        {
          "output_type": "stream",
          "name": "stdout",
          "text": [
            "22 . El valor p de la comparación datos_Asthma_ARS con datos_Ab_endocrine_system para el ranking usando Chi2 es: 0.2202206 \n"
          ]
        },
        {
          "output_type": "stream",
          "name": "stderr",
          "text": [
            "Warning message in chisq.test(contingency_table):\n",
            "“Chi-squared approximation may be incorrect”\n"
          ]
        },
        {
          "output_type": "stream",
          "name": "stdout",
          "text": [
            "23 . El valor p de la comparación datos_Asthma_ARS con datos_all_HPOS para el ranking usando Chi2 es: 0.2202206 \n"
          ]
        },
        {
          "output_type": "stream",
          "name": "stderr",
          "text": [
            "Warning message in chisq.test(contingency_table):\n",
            "“Chi-squared approximation may be incorrect”\n"
          ]
        },
        {
          "output_type": "stream",
          "name": "stdout",
          "text": [
            "24 . El valor p de la comparación datos_Asthma_ARS con datos_Decreased_T4 para el ranking usando Chi2 es: 0.2202206 \n"
          ]
        },
        {
          "output_type": "stream",
          "name": "stderr",
          "text": [
            "Warning message in chisq.test(contingency_table):\n",
            "“Chi-squared approximation may be incorrect”\n"
          ]
        },
        {
          "output_type": "stream",
          "name": "stdout",
          "text": [
            "25 . El valor p de la comparación datos_Asthma_ARP con datos_Ab_Resp_system para el ranking usando Chi2 es: 0.2202206 \n"
          ]
        },
        {
          "output_type": "stream",
          "name": "stderr",
          "text": [
            "Warning message in chisq.test(contingency_table):\n",
            "“Chi-squared approximation may be incorrect”\n"
          ]
        },
        {
          "output_type": "stream",
          "name": "stdout",
          "text": [
            "26 . El valor p de la comparación datos_Asthma_ARP con datos_Asthma_Ig_hypers para el ranking usando Chi2 es: 0.2202206 \n"
          ]
        },
        {
          "output_type": "stream",
          "name": "stderr",
          "text": [
            "Warning message in chisq.test(contingency_table):\n",
            "“Chi-squared approximation may be incorrect”\n"
          ]
        },
        {
          "output_type": "stream",
          "name": "stdout",
          "text": [
            "27 . El valor p de la comparación datos_Asthma_ARP con datos_Asthma_Abnormality_Igsystem para el ranking usando Chi2 es: 0.2202206 \n"
          ]
        },
        {
          "output_type": "stream",
          "name": "stderr",
          "text": [
            "Warning message in chisq.test(contingency_table):\n",
            "“Chi-squared approximation may be incorrect”\n"
          ]
        },
        {
          "output_type": "stream",
          "name": "stdout",
          "text": [
            "28 . El valor p de la comparación datos_Asthma_ARP con datos_Ab_endocrine_system para el ranking usando Chi2 es: 0.2202206 \n"
          ]
        },
        {
          "output_type": "stream",
          "name": "stderr",
          "text": [
            "Warning message in chisq.test(contingency_table):\n",
            "“Chi-squared approximation may be incorrect”\n"
          ]
        },
        {
          "output_type": "stream",
          "name": "stdout",
          "text": [
            "29 . El valor p de la comparación datos_Asthma_ARP con datos_all_HPOS para el ranking usando Chi2 es: 0.2202206 \n"
          ]
        },
        {
          "output_type": "stream",
          "name": "stderr",
          "text": [
            "Warning message in chisq.test(contingency_table):\n",
            "“Chi-squared approximation may be incorrect”\n"
          ]
        },
        {
          "output_type": "stream",
          "name": "stdout",
          "text": [
            "30 . El valor p de la comparación datos_Asthma_ARP con datos_Decreased_T4 para el ranking usando Chi2 es: 0.2202206 \n"
          ]
        },
        {
          "output_type": "stream",
          "name": "stderr",
          "text": [
            "Warning message in chisq.test(contingency_table):\n",
            "“Chi-squared approximation may be incorrect”\n"
          ]
        },
        {
          "output_type": "stream",
          "name": "stdout",
          "text": [
            "31 . El valor p de la comparación datos_Ab_Resp_system con datos_Asthma_Ig_hypers para el ranking usando Chi2 es: 0.2202206 \n"
          ]
        },
        {
          "output_type": "stream",
          "name": "stderr",
          "text": [
            "Warning message in chisq.test(contingency_table):\n",
            "“Chi-squared approximation may be incorrect”\n"
          ]
        },
        {
          "output_type": "stream",
          "name": "stdout",
          "text": [
            "32 . El valor p de la comparación datos_Ab_Resp_system con datos_Asthma_Abnormality_Igsystem para el ranking usando Chi2 es: 0.2202206 \n"
          ]
        },
        {
          "output_type": "stream",
          "name": "stderr",
          "text": [
            "Warning message in chisq.test(contingency_table):\n",
            "“Chi-squared approximation may be incorrect”\n"
          ]
        },
        {
          "output_type": "stream",
          "name": "stdout",
          "text": [
            "33 . El valor p de la comparación datos_Ab_Resp_system con datos_Ab_endocrine_system para el ranking usando Chi2 es: 0.2202206 \n"
          ]
        },
        {
          "output_type": "stream",
          "name": "stderr",
          "text": [
            "Warning message in chisq.test(contingency_table):\n",
            "“Chi-squared approximation may be incorrect”\n"
          ]
        },
        {
          "output_type": "stream",
          "name": "stdout",
          "text": [
            "34 . El valor p de la comparación datos_Ab_Resp_system con datos_all_HPOS para el ranking usando Chi2 es: 0.2202206 \n"
          ]
        },
        {
          "output_type": "stream",
          "name": "stderr",
          "text": [
            "Warning message in chisq.test(contingency_table):\n",
            "“Chi-squared approximation may be incorrect”\n"
          ]
        },
        {
          "output_type": "stream",
          "name": "stdout",
          "text": [
            "35 . El valor p de la comparación datos_Ab_Resp_system con datos_Decreased_T4 para el ranking usando Chi2 es: 0.2202206 \n"
          ]
        },
        {
          "output_type": "stream",
          "name": "stderr",
          "text": [
            "Warning message in chisq.test(contingency_table):\n",
            "“Chi-squared approximation may be incorrect”\n"
          ]
        },
        {
          "output_type": "stream",
          "name": "stdout",
          "text": [
            "36 . El valor p de la comparación datos_Asthma_Ig_hypers con datos_Asthma_Abnormality_Igsystem para el ranking usando Chi2 es: 0.2202206 \n"
          ]
        },
        {
          "output_type": "stream",
          "name": "stderr",
          "text": [
            "Warning message in chisq.test(contingency_table):\n",
            "“Chi-squared approximation may be incorrect”\n"
          ]
        },
        {
          "output_type": "stream",
          "name": "stdout",
          "text": [
            "37 . El valor p de la comparación datos_Asthma_Ig_hypers con datos_Ab_endocrine_system para el ranking usando Chi2 es: 0.2202206 \n"
          ]
        },
        {
          "output_type": "stream",
          "name": "stderr",
          "text": [
            "Warning message in chisq.test(contingency_table):\n",
            "“Chi-squared approximation may be incorrect”\n"
          ]
        },
        {
          "output_type": "stream",
          "name": "stdout",
          "text": [
            "38 . El valor p de la comparación datos_Asthma_Ig_hypers con datos_all_HPOS para el ranking usando Chi2 es: 0.2202206 \n"
          ]
        },
        {
          "output_type": "stream",
          "name": "stderr",
          "text": [
            "Warning message in chisq.test(contingency_table):\n",
            "“Chi-squared approximation may be incorrect”\n"
          ]
        },
        {
          "output_type": "stream",
          "name": "stdout",
          "text": [
            "39 . El valor p de la comparación datos_Asthma_Ig_hypers con datos_Decreased_T4 para el ranking usando Chi2 es: 0.2202206 \n"
          ]
        },
        {
          "output_type": "stream",
          "name": "stderr",
          "text": [
            "Warning message in chisq.test(contingency_table):\n",
            "“Chi-squared approximation may be incorrect”\n"
          ]
        },
        {
          "output_type": "stream",
          "name": "stdout",
          "text": [
            "40 . El valor p de la comparación datos_Asthma_Abnormality_Igsystem con datos_Ab_endocrine_system para el ranking usando Chi2 es: 0.2202206 \n"
          ]
        },
        {
          "output_type": "stream",
          "name": "stderr",
          "text": [
            "Warning message in chisq.test(contingency_table):\n",
            "“Chi-squared approximation may be incorrect”\n"
          ]
        },
        {
          "output_type": "stream",
          "name": "stdout",
          "text": [
            "41 . El valor p de la comparación datos_Asthma_Abnormality_Igsystem con datos_all_HPOS para el ranking usando Chi2 es: 0.2202206 \n"
          ]
        },
        {
          "output_type": "stream",
          "name": "stderr",
          "text": [
            "Warning message in chisq.test(contingency_table):\n",
            "“Chi-squared approximation may be incorrect”\n"
          ]
        },
        {
          "output_type": "stream",
          "name": "stdout",
          "text": [
            "42 . El valor p de la comparación datos_Asthma_Abnormality_Igsystem con datos_Decreased_T4 para el ranking usando Chi2 es: 0.2202206 \n"
          ]
        },
        {
          "output_type": "stream",
          "name": "stderr",
          "text": [
            "Warning message in chisq.test(contingency_table):\n",
            "“Chi-squared approximation may be incorrect”\n"
          ]
        },
        {
          "output_type": "stream",
          "name": "stdout",
          "text": [
            "43 . El valor p de la comparación datos_Ab_endocrine_system con datos_all_HPOS para el ranking usando Chi2 es: 0.2202206 \n"
          ]
        },
        {
          "output_type": "stream",
          "name": "stderr",
          "text": [
            "Warning message in chisq.test(contingency_table):\n",
            "“Chi-squared approximation may be incorrect”\n"
          ]
        },
        {
          "output_type": "stream",
          "name": "stdout",
          "text": [
            "44 . El valor p de la comparación datos_Ab_endocrine_system con datos_Decreased_T4 para el ranking usando Chi2 es: 0.2202206 \n"
          ]
        },
        {
          "output_type": "stream",
          "name": "stderr",
          "text": [
            "Warning message in chisq.test(contingency_table):\n",
            "“Chi-squared approximation may be incorrect”\n"
          ]
        },
        {
          "output_type": "stream",
          "name": "stdout",
          "text": [
            "45 . El valor p de la comparación datos_all_HPOS con datos_Decreased_T4 para el ranking usando Chi2 es: 0.2202206 \n",
            "\n",
            "Comparación de Phenotypic Scores utilizando el test de Chi-cuadrado:\n"
          ]
        },
        {
          "output_type": "stream",
          "name": "stderr",
          "text": [
            "Warning message in chisq.test(contingency_table):\n",
            "“Chi-squared approximation may be incorrect”\n"
          ]
        },
        {
          "output_type": "stream",
          "name": "stdout",
          "text": [
            "1 . El valor p de la comparación datos_Sin_HPO con datos_Asthma para el Phenotypic_score usando Chi2 es: 0.8187308 \n"
          ]
        },
        {
          "output_type": "stream",
          "name": "stderr",
          "text": [
            "Warning message in chisq.test(contingency_table):\n",
            "“Chi-squared approximation may be incorrect”\n"
          ]
        },
        {
          "output_type": "stream",
          "name": "stdout",
          "text": [
            "2 . El valor p de la comparación datos_Sin_HPO con datos_Asthma_ARS para el Phenotypic_score usando Chi2 es: 0.8187308 \n"
          ]
        },
        {
          "output_type": "stream",
          "name": "stderr",
          "text": [
            "Warning message in chisq.test(contingency_table):\n",
            "“Chi-squared approximation may be incorrect”\n"
          ]
        },
        {
          "output_type": "stream",
          "name": "stdout",
          "text": [
            "3 . El valor p de la comparación datos_Sin_HPO con datos_Asthma_ARP para el Phenotypic_score usando Chi2 es: 0.8187308 \n"
          ]
        },
        {
          "output_type": "stream",
          "name": "stderr",
          "text": [
            "Warning message in chisq.test(contingency_table):\n",
            "“Chi-squared approximation may be incorrect”\n"
          ]
        },
        {
          "output_type": "stream",
          "name": "stdout",
          "text": [
            "4 . El valor p de la comparación datos_Sin_HPO con datos_Ab_Resp_system para el Phenotypic_score usando Chi2 es: 0.8187308 \n"
          ]
        },
        {
          "output_type": "stream",
          "name": "stderr",
          "text": [
            "Warning message in chisq.test(contingency_table):\n",
            "“Chi-squared approximation may be incorrect”\n"
          ]
        },
        {
          "output_type": "stream",
          "name": "stdout",
          "text": [
            "5 . El valor p de la comparación datos_Sin_HPO con datos_Asthma_Ig_hypers para el Phenotypic_score usando Chi2 es: 0.8187308 \n"
          ]
        },
        {
          "output_type": "stream",
          "name": "stderr",
          "text": [
            "Warning message in chisq.test(contingency_table):\n",
            "“Chi-squared approximation may be incorrect”\n"
          ]
        },
        {
          "output_type": "stream",
          "name": "stdout",
          "text": [
            "6 . El valor p de la comparación datos_Sin_HPO con datos_Asthma_Abnormality_Igsystem para el Phenotypic_score usando Chi2 es: 0.8187308 \n"
          ]
        },
        {
          "output_type": "stream",
          "name": "stderr",
          "text": [
            "Warning message in chisq.test(contingency_table):\n",
            "“Chi-squared approximation may be incorrect”\n"
          ]
        },
        {
          "output_type": "stream",
          "name": "stdout",
          "text": [
            "7 . El valor p de la comparación datos_Sin_HPO con datos_Ab_endocrine_system para el Phenotypic_score usando Chi2 es: 0.1797125 \n"
          ]
        },
        {
          "output_type": "stream",
          "name": "stderr",
          "text": [
            "Warning message in chisq.test(contingency_table):\n",
            "“Chi-squared approximation may be incorrect”\n"
          ]
        },
        {
          "output_type": "stream",
          "name": "stdout",
          "text": [
            "8 . El valor p de la comparación datos_Sin_HPO con datos_all_HPOS para el Phenotypic_score usando Chi2 es: 0.8964324 \n"
          ]
        },
        {
          "output_type": "stream",
          "name": "stderr",
          "text": [
            "Warning message in chisq.test(contingency_table):\n",
            "“Chi-squared approximation may be incorrect”\n"
          ]
        },
        {
          "output_type": "stream",
          "name": "stdout",
          "text": [
            "9 . El valor p de la comparación datos_Sin_HPO con datos_Decreased_T4 para el Phenotypic_score usando Chi2 es: 0.1797125 \n"
          ]
        },
        {
          "output_type": "stream",
          "name": "stderr",
          "text": [
            "Warning message in chisq.test(contingency_table):\n",
            "“Chi-squared approximation may be incorrect”\n"
          ]
        },
        {
          "output_type": "stream",
          "name": "stdout",
          "text": [
            "10 . El valor p de la comparación datos_Asthma con datos_Asthma_ARS para el Phenotypic_score usando Chi2 es: 0.04042768 \n"
          ]
        },
        {
          "output_type": "stream",
          "name": "stderr",
          "text": [
            "Warning message in chisq.test(contingency_table):\n",
            "“Chi-squared approximation may be incorrect”\n"
          ]
        },
        {
          "output_type": "stream",
          "name": "stdout",
          "text": [
            "11 . El valor p de la comparación datos_Asthma con datos_Asthma_ARP para el Phenotypic_score usando Chi2 es: 0.04042768 \n"
          ]
        },
        {
          "output_type": "stream",
          "name": "stderr",
          "text": [
            "Warning message in chisq.test(contingency_table):\n",
            "“Chi-squared approximation may be incorrect”\n"
          ]
        },
        {
          "output_type": "stream",
          "name": "stdout",
          "text": [
            "12 . El valor p de la comparación datos_Asthma con datos_Ab_Resp_system para el Phenotypic_score usando Chi2 es: 0.04042768 \n"
          ]
        },
        {
          "output_type": "stream",
          "name": "stderr",
          "text": [
            "Warning message in chisq.test(contingency_table):\n",
            "“Chi-squared approximation may be incorrect”\n"
          ]
        },
        {
          "output_type": "stream",
          "name": "stdout",
          "text": [
            "13 . El valor p de la comparación datos_Asthma con datos_Asthma_Ig_hypers para el Phenotypic_score usando Chi2 es: 0.04042768 \n"
          ]
        },
        {
          "output_type": "stream",
          "name": "stderr",
          "text": [
            "Warning message in chisq.test(contingency_table):\n",
            "“Chi-squared approximation may be incorrect”\n"
          ]
        },
        {
          "output_type": "stream",
          "name": "stdout",
          "text": [
            "14 . El valor p de la comparación datos_Asthma con datos_Asthma_Abnormality_Igsystem para el Phenotypic_score usando Chi2 es: 0.04042768 \n"
          ]
        },
        {
          "output_type": "stream",
          "name": "stderr",
          "text": [
            "Warning message in chisq.test(contingency_table):\n",
            "“Chi-squared approximation may be incorrect”\n"
          ]
        },
        {
          "output_type": "stream",
          "name": "stdout",
          "text": [
            "15 . El valor p de la comparación datos_Asthma con datos_Ab_endocrine_system para el Phenotypic_score usando Chi2 es: 0.082085 \n"
          ]
        },
        {
          "output_type": "stream",
          "name": "stderr",
          "text": [
            "Warning message in chisq.test(contingency_table):\n",
            "“Chi-squared approximation may be incorrect”\n"
          ]
        },
        {
          "output_type": "stream",
          "name": "stdout",
          "text": [
            "16 . El valor p de la comparación datos_Asthma con datos_all_HPOS para el Phenotypic_score usando Chi2 es: 0.124652 \n"
          ]
        },
        {
          "output_type": "stream",
          "name": "stderr",
          "text": [
            "Warning message in chisq.test(contingency_table):\n",
            "“Chi-squared approximation may be incorrect”\n"
          ]
        },
        {
          "output_type": "stream",
          "name": "stdout",
          "text": [
            "17 . El valor p de la comparación datos_Asthma con datos_Decreased_T4 para el Phenotypic_score usando Chi2 es: 0.082085 \n"
          ]
        },
        {
          "output_type": "stream",
          "name": "stderr",
          "text": [
            "Warning message in chisq.test(contingency_table):\n",
            "“Chi-squared approximation may be incorrect”\n"
          ]
        },
        {
          "output_type": "stream",
          "name": "stdout",
          "text": [
            "18 . El valor p de la comparación datos_Asthma_ARS con datos_Asthma_ARP para el Phenotypic_score usando Chi2 es: 0.04042768 \n"
          ]
        },
        {
          "output_type": "stream",
          "name": "stderr",
          "text": [
            "Warning message in chisq.test(contingency_table):\n",
            "“Chi-squared approximation may be incorrect”\n"
          ]
        },
        {
          "output_type": "stream",
          "name": "stdout",
          "text": [
            "19 . El valor p de la comparación datos_Asthma_ARS con datos_Ab_Resp_system para el Phenotypic_score usando Chi2 es: 0.04042768 \n"
          ]
        },
        {
          "output_type": "stream",
          "name": "stderr",
          "text": [
            "Warning message in chisq.test(contingency_table):\n",
            "“Chi-squared approximation may be incorrect”\n"
          ]
        },
        {
          "output_type": "stream",
          "name": "stdout",
          "text": [
            "20 . El valor p de la comparación datos_Asthma_ARS con datos_Asthma_Ig_hypers para el Phenotypic_score usando Chi2 es: 0.04042768 \n"
          ]
        },
        {
          "output_type": "stream",
          "name": "stderr",
          "text": [
            "Warning message in chisq.test(contingency_table):\n",
            "“Chi-squared approximation may be incorrect”\n"
          ]
        },
        {
          "output_type": "stream",
          "name": "stdout",
          "text": [
            "21 . El valor p de la comparación datos_Asthma_ARS con datos_Asthma_Abnormality_Igsystem para el Phenotypic_score usando Chi2 es: 0.04042768 \n"
          ]
        },
        {
          "output_type": "stream",
          "name": "stderr",
          "text": [
            "Warning message in chisq.test(contingency_table):\n",
            "“Chi-squared approximation may be incorrect”\n"
          ]
        },
        {
          "output_type": "stream",
          "name": "stdout",
          "text": [
            "22 . El valor p de la comparación datos_Asthma_ARS con datos_Ab_endocrine_system para el Phenotypic_score usando Chi2 es: 0.082085 \n"
          ]
        },
        {
          "output_type": "stream",
          "name": "stderr",
          "text": [
            "Warning message in chisq.test(contingency_table):\n",
            "“Chi-squared approximation may be incorrect”\n"
          ]
        },
        {
          "output_type": "stream",
          "name": "stdout",
          "text": [
            "23 . El valor p de la comparación datos_Asthma_ARS con datos_all_HPOS para el Phenotypic_score usando Chi2 es: 0.124652 \n"
          ]
        },
        {
          "output_type": "stream",
          "name": "stderr",
          "text": [
            "Warning message in chisq.test(contingency_table):\n",
            "“Chi-squared approximation may be incorrect”\n"
          ]
        },
        {
          "output_type": "stream",
          "name": "stdout",
          "text": [
            "24 . El valor p de la comparación datos_Asthma_ARS con datos_Decreased_T4 para el Phenotypic_score usando Chi2 es: 0.082085 \n"
          ]
        },
        {
          "output_type": "stream",
          "name": "stderr",
          "text": [
            "Warning message in chisq.test(contingency_table):\n",
            "“Chi-squared approximation may be incorrect”\n"
          ]
        },
        {
          "output_type": "stream",
          "name": "stdout",
          "text": [
            "25 . El valor p de la comparación datos_Asthma_ARP con datos_Ab_Resp_system para el Phenotypic_score usando Chi2 es: 0.04042768 \n"
          ]
        },
        {
          "output_type": "stream",
          "name": "stderr",
          "text": [
            "Warning message in chisq.test(contingency_table):\n",
            "“Chi-squared approximation may be incorrect”\n"
          ]
        },
        {
          "output_type": "stream",
          "name": "stdout",
          "text": [
            "26 . El valor p de la comparación datos_Asthma_ARP con datos_Asthma_Ig_hypers para el Phenotypic_score usando Chi2 es: 0.04042768 \n"
          ]
        },
        {
          "output_type": "stream",
          "name": "stderr",
          "text": [
            "Warning message in chisq.test(contingency_table):\n",
            "“Chi-squared approximation may be incorrect”\n"
          ]
        },
        {
          "output_type": "stream",
          "name": "stdout",
          "text": [
            "27 . El valor p de la comparación datos_Asthma_ARP con datos_Asthma_Abnormality_Igsystem para el Phenotypic_score usando Chi2 es: 0.04042768 \n"
          ]
        },
        {
          "output_type": "stream",
          "name": "stderr",
          "text": [
            "Warning message in chisq.test(contingency_table):\n",
            "“Chi-squared approximation may be incorrect”\n"
          ]
        },
        {
          "output_type": "stream",
          "name": "stdout",
          "text": [
            "28 . El valor p de la comparación datos_Asthma_ARP con datos_Ab_endocrine_system para el Phenotypic_score usando Chi2 es: 0.082085 \n"
          ]
        },
        {
          "output_type": "stream",
          "name": "stderr",
          "text": [
            "Warning message in chisq.test(contingency_table):\n",
            "“Chi-squared approximation may be incorrect”\n"
          ]
        },
        {
          "output_type": "stream",
          "name": "stdout",
          "text": [
            "29 . El valor p de la comparación datos_Asthma_ARP con datos_all_HPOS para el Phenotypic_score usando Chi2 es: 0.124652 \n"
          ]
        },
        {
          "output_type": "stream",
          "name": "stderr",
          "text": [
            "Warning message in chisq.test(contingency_table):\n",
            "“Chi-squared approximation may be incorrect”\n"
          ]
        },
        {
          "output_type": "stream",
          "name": "stdout",
          "text": [
            "30 . El valor p de la comparación datos_Asthma_ARP con datos_Decreased_T4 para el Phenotypic_score usando Chi2 es: 0.082085 \n"
          ]
        },
        {
          "output_type": "stream",
          "name": "stderr",
          "text": [
            "Warning message in chisq.test(contingency_table):\n",
            "“Chi-squared approximation may be incorrect”\n"
          ]
        },
        {
          "output_type": "stream",
          "name": "stdout",
          "text": [
            "31 . El valor p de la comparación datos_Ab_Resp_system con datos_Asthma_Ig_hypers para el Phenotypic_score usando Chi2 es: 0.04042768 \n"
          ]
        },
        {
          "output_type": "stream",
          "name": "stderr",
          "text": [
            "Warning message in chisq.test(contingency_table):\n",
            "“Chi-squared approximation may be incorrect”\n"
          ]
        },
        {
          "output_type": "stream",
          "name": "stdout",
          "text": [
            "32 . El valor p de la comparación datos_Ab_Resp_system con datos_Asthma_Abnormality_Igsystem para el Phenotypic_score usando Chi2 es: 0.04042768 \n"
          ]
        },
        {
          "output_type": "stream",
          "name": "stderr",
          "text": [
            "Warning message in chisq.test(contingency_table):\n",
            "“Chi-squared approximation may be incorrect”\n"
          ]
        },
        {
          "output_type": "stream",
          "name": "stdout",
          "text": [
            "33 . El valor p de la comparación datos_Ab_Resp_system con datos_Ab_endocrine_system para el Phenotypic_score usando Chi2 es: 0.082085 \n"
          ]
        },
        {
          "output_type": "stream",
          "name": "stderr",
          "text": [
            "Warning message in chisq.test(contingency_table):\n",
            "“Chi-squared approximation may be incorrect”\n"
          ]
        },
        {
          "output_type": "stream",
          "name": "stdout",
          "text": [
            "34 . El valor p de la comparación datos_Ab_Resp_system con datos_all_HPOS para el Phenotypic_score usando Chi2 es: 0.124652 \n"
          ]
        },
        {
          "output_type": "stream",
          "name": "stderr",
          "text": [
            "Warning message in chisq.test(contingency_table):\n",
            "“Chi-squared approximation may be incorrect”\n"
          ]
        },
        {
          "output_type": "stream",
          "name": "stdout",
          "text": [
            "35 . El valor p de la comparación datos_Ab_Resp_system con datos_Decreased_T4 para el Phenotypic_score usando Chi2 es: 0.082085 \n"
          ]
        },
        {
          "output_type": "stream",
          "name": "stderr",
          "text": [
            "Warning message in chisq.test(contingency_table):\n",
            "“Chi-squared approximation may be incorrect”\n"
          ]
        },
        {
          "output_type": "stream",
          "name": "stdout",
          "text": [
            "36 . El valor p de la comparación datos_Asthma_Ig_hypers con datos_Asthma_Abnormality_Igsystem para el Phenotypic_score usando Chi2 es: 0.04042768 \n"
          ]
        },
        {
          "output_type": "stream",
          "name": "stderr",
          "text": [
            "Warning message in chisq.test(contingency_table):\n",
            "“Chi-squared approximation may be incorrect”\n"
          ]
        },
        {
          "output_type": "stream",
          "name": "stdout",
          "text": [
            "37 . El valor p de la comparación datos_Asthma_Ig_hypers con datos_Ab_endocrine_system para el Phenotypic_score usando Chi2 es: 0.082085 \n"
          ]
        },
        {
          "output_type": "stream",
          "name": "stderr",
          "text": [
            "Warning message in chisq.test(contingency_table):\n",
            "“Chi-squared approximation may be incorrect”\n"
          ]
        },
        {
          "output_type": "stream",
          "name": "stdout",
          "text": [
            "38 . El valor p de la comparación datos_Asthma_Ig_hypers con datos_all_HPOS para el Phenotypic_score usando Chi2 es: 0.124652 \n"
          ]
        },
        {
          "output_type": "stream",
          "name": "stderr",
          "text": [
            "Warning message in chisq.test(contingency_table):\n",
            "“Chi-squared approximation may be incorrect”\n"
          ]
        },
        {
          "output_type": "stream",
          "name": "stdout",
          "text": [
            "39 . El valor p de la comparación datos_Asthma_Ig_hypers con datos_Decreased_T4 para el Phenotypic_score usando Chi2 es: 0.082085 \n"
          ]
        },
        {
          "output_type": "stream",
          "name": "stderr",
          "text": [
            "Warning message in chisq.test(contingency_table):\n",
            "“Chi-squared approximation may be incorrect”\n"
          ]
        },
        {
          "output_type": "stream",
          "name": "stdout",
          "text": [
            "40 . El valor p de la comparación datos_Asthma_Abnormality_Igsystem con datos_Ab_endocrine_system para el Phenotypic_score usando Chi2 es: 0.082085 \n"
          ]
        },
        {
          "output_type": "stream",
          "name": "stderr",
          "text": [
            "Warning message in chisq.test(contingency_table):\n",
            "“Chi-squared approximation may be incorrect”\n"
          ]
        },
        {
          "output_type": "stream",
          "name": "stdout",
          "text": [
            "41 . El valor p de la comparación datos_Asthma_Abnormality_Igsystem con datos_all_HPOS para el Phenotypic_score usando Chi2 es: 0.124652 \n"
          ]
        },
        {
          "output_type": "stream",
          "name": "stderr",
          "text": [
            "Warning message in chisq.test(contingency_table):\n",
            "“Chi-squared approximation may be incorrect”\n"
          ]
        },
        {
          "output_type": "stream",
          "name": "stdout",
          "text": [
            "42 . El valor p de la comparación datos_Asthma_Abnormality_Igsystem con datos_Decreased_T4 para el Phenotypic_score usando Chi2 es: 0.082085 \n"
          ]
        },
        {
          "output_type": "stream",
          "name": "stderr",
          "text": [
            "Warning message in chisq.test(contingency_table):\n",
            "“Chi-squared approximation may be incorrect”\n"
          ]
        },
        {
          "output_type": "stream",
          "name": "stdout",
          "text": [
            "43 . El valor p de la comparación datos_Ab_endocrine_system con datos_all_HPOS para el Phenotypic_score usando Chi2 es: 0.1717971 \n"
          ]
        },
        {
          "output_type": "stream",
          "name": "stderr",
          "text": [
            "Warning message in chisq.test(contingency_table):\n",
            "“Chi-squared approximation may be incorrect”\n"
          ]
        },
        {
          "output_type": "stream",
          "name": "stdout",
          "text": [
            "44 . El valor p de la comparación datos_Ab_endocrine_system con datos_Decreased_T4 para el Phenotypic_score usando Chi2 es: 0.4017356 \n"
          ]
        },
        {
          "output_type": "stream",
          "name": "stderr",
          "text": [
            "Warning message in chisq.test(contingency_table):\n",
            "“Chi-squared approximation may be incorrect”\n"
          ]
        },
        {
          "output_type": "stream",
          "name": "stdout",
          "text": [
            "45 . El valor p de la comparación datos_all_HPOS con datos_Decreased_T4 para el Phenotypic_score usando Chi2 es: 0.1717971 \n"
          ]
        }
      ]
    },
    {
      "cell_type": "code",
      "source": [
        "# Filtrar valores p menores a 0.05 para la comparación de Rankings utilizando Mann-Whitney\n",
        "significant_ranking_results <- Filter(function(x) x < 0.05, unlist(mw_ranking_results))\n",
        "cat(\"\\nComparaciones de Rankings con diferencias estadísticamente significativas (Mann-Whitney):\\n\")\n",
        "cat(paste(names(significant_ranking_results), \"(\", significant_ranking_results, \")\", sep = \" \"), \"\\n\")\n",
        "\n",
        "# Filtrar valores p menores a 0.05 para la comparación de Phenotypic Scores utilizando Mann-Whitney\n",
        "significant_score_results <- Filter(function(x) x < 0.05, unlist(mw_score_results))\n",
        "cat(\"\\nComparaciones de Phenotypic Scores con diferencias estadísticamente significativas (Mann-Whitney):\\n\")\n",
        "cat(paste(names(significant_score_results), \"(\", significant_score_results, \")\", sep = \" \"), \"\\n\")\n",
        "\n",
        "# Filtrar valores p menores a 0.05 para la comparación de Rankings utilizando Chi-cuadrado\n",
        "significant_chi2_ranking_results <- Filter(function(x) x < 0.05, unlist(chi2_ranking_results))\n",
        "cat(\"\\nComparaciones de Rankings con diferencias estadísticamente significativas (Chi-cuadrado):\\n\")\n",
        "cat(paste(names(significant_chi2_ranking_results), \"(\", significant_chi2_ranking_results, \")\", sep = \" \"), \"\\n\")\n",
        "\n",
        "# Filtrar valores p menores a 0.05 para la comparación de Phenotypic Scores utilizando Chi-cuadrado\n",
        "significant_chi2_score_results <- Filter(function(x) x < 0.05, unlist(chi2_score_results))\n",
        "cat(\"\\nComparaciones de Phenotypic Scores con diferencias estadísticamente significativas (Chi-cuadrado):\\n\")\n",
        "cat(paste(names(significant_chi2_score_results), \"(\", significant_chi2_score_results, \")\", sep = \" \"), \"\\n\")\n"
      ],
      "metadata": {
        "colab": {
          "base_uri": "https://localhost:8080/"
        },
        "id": "W9E-78yeX4OW",
        "outputId": "79d844ec-4783-4db3-b8e8-af8840b2f7f4"
      },
      "execution_count": null,
      "outputs": [
        {
          "output_type": "stream",
          "name": "stdout",
          "text": [
            "\n",
            "Comparaciones de Rankings con diferencias estadísticamente significativas (Mann-Whitney):\n",
            " (  ) \n",
            "\n",
            "Comparaciones de Phenotypic Scores con diferencias estadísticamente significativas (Mann-Whitney):\n",
            "datos_Sin_HPO con datos_Asthma ( 0.0242514051837674 ) datos_Sin_HPO con datos_Asthma_ARS ( 0.0242514051837674 ) datos_Sin_HPO con datos_Asthma_ARP ( 0.0242514051837674 ) datos_Sin_HPO con datos_Ab_Resp_system ( 0.0242514051837674 ) datos_Sin_HPO con datos_Asthma_Ig_hypers ( 0.0242514051837674 ) datos_Sin_HPO con datos_Asthma_Abnormality_Igsystem ( 0.0242514051837674 ) datos_Sin_HPO con datos_Ab_endocrine_system ( 0.0199644533052161 ) datos_Sin_HPO con datos_all_HPOS ( 0.0248084245478095 ) datos_Sin_HPO con datos_Decreased_T4 ( 0.0199644533052161 ) \n",
            "\n",
            "Comparaciones de Rankings con diferencias estadísticamente significativas (Chi-cuadrado):\n",
            " (  ) \n",
            "\n",
            "Comparaciones de Phenotypic Scores con diferencias estadísticamente significativas (Chi-cuadrado):\n",
            "datos_Asthma con datos_Asthma_ARS ( 0.0404276819945128 ) datos_Asthma con datos_Asthma_ARP ( 0.0404276819945128 ) datos_Asthma con datos_Ab_Resp_system ( 0.0404276819945128 ) datos_Asthma con datos_Asthma_Ig_hypers ( 0.0404276819945128 ) datos_Asthma con datos_Asthma_Abnormality_Igsystem ( 0.0404276819945128 ) datos_Asthma_ARS con datos_Asthma_ARP ( 0.0404276819945128 ) datos_Asthma_ARS con datos_Ab_Resp_system ( 0.0404276819945128 ) datos_Asthma_ARS con datos_Asthma_Ig_hypers ( 0.0404276819945128 ) datos_Asthma_ARS con datos_Asthma_Abnormality_Igsystem ( 0.0404276819945128 ) datos_Asthma_ARP con datos_Ab_Resp_system ( 0.0404276819945128 ) datos_Asthma_ARP con datos_Asthma_Ig_hypers ( 0.0404276819945128 ) datos_Asthma_ARP con datos_Asthma_Abnormality_Igsystem ( 0.0404276819945128 ) datos_Ab_Resp_system con datos_Asthma_Ig_hypers ( 0.0404276819945128 ) datos_Ab_Resp_system con datos_Asthma_Abnormality_Igsystem ( 0.0404276819945128 ) datos_Asthma_Ig_hypers con datos_Asthma_Abnormality_Igsystem ( 0.0404276819945128 ) \n"
          ]
        }
      ]
    },
    {
      "cell_type": "code",
      "source": [
        "# Combinar los dataframes en uno solo excluyendo\n",
        "datos <- rbind(datos_Sin_HPO, datos_Asthma, datos_Asthma_ARS, datos_Asthma_ARP, datos_Ab_Resp_system, datos_Asthma_Ig_hypers, datos_Asthma_Abnormality_Igsystem, datos_Ab_endocrine_system, datos_all_HPOS, datos_Decreased_T4)\n",
        "\n",
        "# Ajuste de un modelo lineal\n",
        "modelo <- lm(Ranking ~ Phenotypic_Score, data = datos)\n",
        "\n",
        "print(summary(modelo))"
      ],
      "metadata": {
        "colab": {
          "base_uri": "https://localhost:8080/"
        },
        "id": "Q4KMCoXrfeCK",
        "outputId": "cf251a10-1222-40fc-f472-e150552d1057"
      },
      "execution_count": null,
      "outputs": [
        {
          "output_type": "stream",
          "name": "stdout",
          "text": [
            "\n",
            "Call:\n",
            "lm(formula = Ranking ~ Phenotypic_Score, data = datos)\n",
            "\n",
            "Residuals:\n",
            "    Min      1Q  Median      3Q     Max \n",
            "-13.617  -2.845  -1.845   1.230  10.769 \n",
            "\n",
            "Coefficients:\n",
            "                 Estimate Std. Error t value Pr(>|t|)    \n",
            "(Intercept)        16.618      1.423  11.677 1.25e-15 ***\n",
            "Phenotypic_Score  -12.772      2.351  -5.432 1.83e-06 ***\n",
            "---\n",
            "Signif. codes:  0 ‘***’ 0.001 ‘**’ 0.01 ‘*’ 0.05 ‘.’ 0.1 ‘ ’ 1\n",
            "\n",
            "Residual standard error: 5.978 on 48 degrees of freedom\n",
            "Multiple R-squared:  0.3807,\tAdjusted R-squared:  0.3678 \n",
            "F-statistic:  29.5 on 1 and 48 DF,  p-value: 1.828e-06\n",
            "\n"
          ]
        }
      ]
    },
    {
      "cell_type": "markdown",
      "source": [
        "\n",
        "    Coeficientes: El coeficiente para la variable \"Phenotypic_Score\" es -12.772. Esto significa que, en promedio, un aumento de una unidad en el \"Phenotypic_Score\" se asocia con una disminución de aproximadamente 12.772 en el \"Ranking\", teniendo en cuenta el otro predictor constante.\n",
        "\n",
        "    P-values: El p-value asociado al coeficiente de \"Phenotypic_Score\" es muy pequeño (1.83e-06), lo que indica una significancia estadística. Esto sugiere que hay una relación significativa entre el \"Phenotypic_Score\" y el \"Ranking\".\n",
        "\n",
        "    R cuadrado: El valor R cuadrado es 0.3807, lo que significa que aproximadamente el 38.07% de la variabilidad en el \"Ranking\" se explica por la variable \"Phenotypic_Score\" en el modelo. El R cuadrado ajustado, que tiene en cuenta el número de predictores y los grados de libertad, es 0.3678.\n",
        "\n",
        "    Error estándar residual: El error estándar residual es 5.978, lo que sugiere la dispersión típica de las observaciones alrededor de la línea de regresión.\n",
        "\n",
        "    F-statistic: El valor de F-statistic es 29.5, con un p-value asociado muy pequeño (1.828e-06). Esto indica que el modelo en su conjunto es estadísticamente significativo.\n",
        "\n",
        "    el modelo de regresión lineal muestra que el \"Phenotypic_Score\" tiene un efecto significativo en el \"Ranking\", y explica aproximadamente el 38.07% de la variabilidad observada.\n",
        "    \n",
        "    Dado que el coeficiente para la variable \"Phenotypic_Score\" es negativo (-12.772), esto implica que un aumento de una unidad en el \"Phenotypic_Score\" se asocia con una disminución de aproximadamente 12.772 en el \"Ranking\", lo cual significa que el \"Ranking\" se acerca a 1 (mejor posición) cuando el \"Phenotypic_Score\" aumenta"
      ],
      "metadata": {
        "id": "PEe9QcPGf00W"
      }
    },
    {
      "cell_type": "code",
      "source": [
        "# Combinar los dataframes en uno solo\n",
        "datos <- rbind(datos_Sin_HPO, datos_Asthma, datos_Asthma_ARS, datos_Asthma_ARP, datos_Ab_Resp_system, datos_Asthma_Ig_hypers, datos_Asthma_Abnormality_Igsystem, datos_Ab_endocrine_system, datos_all_HPOS, datos_Decreased_T4)\n",
        "\n",
        "# Ajuste de un modelo lineal\n",
        "modelo <- lm(Ranking ~ Estrategia, data = datos)\n",
        "\n",
        "# Resumen del modelo\n",
        "summary(modelo)\n"
      ],
      "metadata": {
        "colab": {
          "base_uri": "https://localhost:8080/",
          "height": 469
        },
        "id": "9Knz4o7fcbVz",
        "outputId": "7b9c8070-7097-4c57-f1cd-1f1e59bcdcea"
      },
      "execution_count": null,
      "outputs": [
        {
          "output_type": "display_data",
          "data": {
            "text/plain": [
              "\n",
              "Call:\n",
              "lm(formula = Ranking ~ Estrategia, data = datos)\n",
              "\n",
              "Residuals:\n",
              "   Min     1Q Median     3Q    Max \n",
              " -9.00  -7.55  -1.80   7.60  11.40 \n",
              "\n",
              "Coefficients:\n",
              "                                      Estimate Std. Error t value Pr(>|t|)   \n",
              "(Intercept)                             11.600      3.691   3.143  0.00314 **\n",
              "EstrategiaAb_Resp_system                -2.000      5.219  -0.383  0.70360   \n",
              "Estrategiaall_HPOS                      -0.200      5.219  -0.038  0.96962   \n",
              "EstrategiaAsthma                        -1.600      5.219  -0.307  0.76077   \n",
              "EstrategiaAsthma_Abnormality_Igsystem   -2.000      5.219  -0.383  0.70360   \n",
              "EstrategiaAsthma_ARP                    -1.600      5.219  -0.307  0.76077   \n",
              "EstrategiaAsthma_ARS                    -1.600      5.219  -0.307  0.76077   \n",
              "EstrategiaAsthma_Ig_hypers              -2.000      5.219  -0.383  0.70360   \n",
              "EstrategiaDecreased_T4                   0.800      5.219   0.153  0.87895   \n",
              "EstrategiaSin_HPO                       -1.800      5.219  -0.345  0.73199   \n",
              "---\n",
              "Signif. codes:  0 ‘***’ 0.001 ‘**’ 0.01 ‘*’ 0.05 ‘.’ 0.1 ‘ ’ 1\n",
              "\n",
              "Residual standard error: 8.252 on 40 degrees of freedom\n",
              "Multiple R-squared:  0.01661,\tAdjusted R-squared:  -0.2047 \n",
              "F-statistic: 0.07505 on 9 and 40 DF,  p-value: 0.9999\n"
            ]
          },
          "metadata": {}
        }
      ]
    },
    {
      "cell_type": "code",
      "source": [
        "# Combinar los dataframes en uno solo\n",
        "datos <- rbind(datos_Sin_HPO, datos_Asthma, datos_Asthma_ARS, datos_Asthma_ARP, datos_Ab_Resp_system, datos_Asthma_Ig_hypers, datos_Asthma_Abnormality_Igsystem, datos_Ab_endocrine_system, datos_all_HPOS, datos_Decreased_T4)\n",
        "\n",
        "# Ajuste de un modelo lineal\n",
        "modelo <- lm(Phenotypic_Score ~ Estrategia, data = datos)\n",
        "\n",
        "# Resumen del modelo\n",
        "summary(modelo)\n",
        "\n"
      ],
      "metadata": {
        "colab": {
          "base_uri": "https://localhost:8080/",
          "height": 469
        },
        "id": "8mSiVpKPczqS",
        "outputId": "0362b8e7-1e4d-41fa-92a1-61789b802f61"
      },
      "execution_count": null,
      "outputs": [
        {
          "output_type": "display_data",
          "data": {
            "text/plain": [
              "\n",
              "Call:\n",
              "lm(formula = Phenotypic_Score ~ Estrategia, data = datos)\n",
              "\n",
              "Residuals:\n",
              "    Min      1Q  Median      3Q     Max \n",
              "-0.6000 -0.1000  0.0000  0.2995  0.4420 \n",
              "\n",
              "Coefficients:\n",
              "                                        Estimate Std. Error t value Pr(>|t|)  \n",
              "(Intercept)                            4.000e-01  1.560e-01   2.564   0.0142 *\n",
              "EstrategiaAb_Resp_system               2.000e-01  2.207e-01   0.906   0.3702  \n",
              "Estrategiaall_HPOS                     1.280e-01  2.207e-01   0.580   0.5651  \n",
              "EstrategiaAsthma                       1.680e-01  2.207e-01   0.761   0.4509  \n",
              "EstrategiaAsthma_Abnormality_Igsystem  2.000e-01  2.207e-01   0.906   0.3702  \n",
              "EstrategiaAsthma_ARP                   2.000e-01  2.207e-01   0.906   0.3702  \n",
              "EstrategiaAsthma_ARS                   2.000e-01  2.207e-01   0.906   0.3702  \n",
              "EstrategiaAsthma_Ig_hypers             1.720e-01  2.207e-01   0.779   0.4403  \n",
              "EstrategiaDecreased_T4                -6.081e-17  2.207e-01   0.000   1.0000  \n",
              "EstrategiaSin_HPO                     -4.000e-01  2.207e-01  -1.813   0.0774 .\n",
              "---\n",
              "Signif. codes:  0 ‘***’ 0.001 ‘**’ 0.01 ‘*’ 0.05 ‘.’ 0.1 ‘ ’ 1\n",
              "\n",
              "Residual standard error: 0.3489 on 40 degrees of freedom\n",
              "Multiple R-squared:  0.2466,\tAdjusted R-squared:  0.07714 \n",
              "F-statistic: 1.455 on 9 and 40 DF,  p-value: 0.1982\n"
            ]
          },
          "metadata": {}
        }
      ]
    },
    {
      "cell_type": "code",
      "source": [
        "# Combinar los dataframes en uno solo\n",
        "datos <- rbind(datos_Sin_HPO, datos_Asthma, datos_Asthma_ARS, datos_Asthma_ARP, datos_Ab_Resp_system, datos_Asthma_Ig_hypers, datos_Asthma_Abnormality_Igsystem, datos_Ab_endocrine_system, datos_all_HPOS, datos_Decreased_T4)\n",
        "\n",
        "# Ajuste de un modelo lineal para Phenotypic_Score con ranking como variable predictora\n",
        "modelo <- lm(Phenotypic_Score ~ Ranking + Estrategia, data = datos)\n",
        "\n",
        "# Resumen del modelo\n",
        "summary(modelo)\n"
      ],
      "metadata": {
        "colab": {
          "base_uri": "https://localhost:8080/",
          "height": 486
        },
        "id": "MP2rxeSodelK",
        "outputId": "4adf684c-c721-4283-96f5-7e7aad081a8d"
      },
      "execution_count": null,
      "outputs": [
        {
          "output_type": "display_data",
          "data": {
            "text/plain": [
              "\n",
              "Call:\n",
              "lm(formula = Phenotypic_Score ~ Ranking + Estrategia, data = datos)\n",
              "\n",
              "Residuals:\n",
              "     Min       1Q   Median       3Q      Max \n",
              "-0.40976 -0.15850  0.02569  0.17111  0.37942 \n",
              "\n",
              "Coefficients:\n",
              "                                       Estimate Std. Error t value Pr(>|t|)    \n",
              "(Intercept)                            0.744815   0.125488   5.935 6.37e-07 ***\n",
              "Ranking                               -0.029725   0.004815  -6.174 2.97e-07 ***\n",
              "EstrategiaAb_Resp_system               0.140549   0.159215   0.883  0.38277    \n",
              "Estrategiaall_HPOS                     0.122055   0.158926   0.768  0.44711    \n",
              "EstrategiaAsthma                       0.120439   0.159110   0.757  0.45362    \n",
              "EstrategiaAsthma_Abnormality_Igsystem  0.140549   0.159215   0.883  0.38277    \n",
              "EstrategiaAsthma_ARP                   0.152439   0.159110   0.958  0.34393    \n",
              "EstrategiaAsthma_ARS                   0.152439   0.159110   0.958  0.34393    \n",
              "EstrategiaAsthma_Ig_hypers             0.112549   0.159215   0.707  0.48383    \n",
              "EstrategiaDecreased_T4                 0.023780   0.158970   0.150  0.88186    \n",
              "EstrategiaSin_HPO                     -0.453506   0.159159  -2.849  0.00696 ** \n",
              "---\n",
              "Signif. codes:  0 ‘***’ 0.001 ‘**’ 0.01 ‘*’ 0.05 ‘.’ 0.1 ‘ ’ 1\n",
              "\n",
              "Residual standard error: 0.2513 on 39 degrees of freedom\n",
              "Multiple R-squared:  0.619,\tAdjusted R-squared:  0.5213 \n",
              "F-statistic: 6.337 on 10 and 39 DF,  p-value: 1.084e-05\n"
            ]
          },
          "metadata": {}
        }
      ]
    },
    {
      "cell_type": "code",
      "source": [
        "# Combinar los dataframes en uno solo\n",
        "datos <- rbind(datos_Sin_HPO, datos_Asthma, datos_Asthma_ARS, datos_Asthma_ARP, datos_Ab_Resp_system, datos_Asthma_Ig_hypers, datos_Asthma_Abnormality_Igsystem, datos_Ab_endocrine_system, datos_all_HPOS, datos_Decreased_T4)\n",
        "\n",
        "# Ajuste de un modelo lineal para Ranking con Phenotypic_Score como variable predictora\n",
        "modelo <- lm(Ranking ~ Phenotypic_Score + Estrategia, data = datos)\n",
        "\n",
        "# Resumen del modelo\n",
        "summary(modelo)"
      ],
      "metadata": {
        "colab": {
          "base_uri": "https://localhost:8080/",
          "height": 486
        },
        "id": "rrHU03aadzkC",
        "outputId": "125f49e5-fd68-4566-881d-e12d303dcd4a"
      },
      "execution_count": null,
      "outputs": [
        {
          "output_type": "display_data",
          "data": {
            "text/plain": [
              "\n",
              "Call:\n",
              "lm(formula = Ranking ~ Phenotypic_Score + Estrategia, data = datos)\n",
              "\n",
              "Residuals:\n",
              "    Min      1Q  Median      3Q     Max \n",
              "-6.9371 -3.1427 -1.9428 -0.0343 11.2000 \n",
              "\n",
              "Coefficients:\n",
              "                                      Estimate Std. Error t value Pr(>|t|)    \n",
              "(Intercept)                            18.2514     2.8679   6.364 1.62e-07 ***\n",
              "Phenotypic_Score                      -16.6286     2.6933  -6.174 2.97e-07 ***\n",
              "EstrategiaAb_Resp_system                1.3257     3.7972   0.349   0.7289    \n",
              "Estrategiaall_HPOS                      1.9285     3.7746   0.511   0.6123    \n",
              "EstrategiaAsthma                        1.1936     3.7860   0.315   0.7542    \n",
              "EstrategiaAsthma_Abnormality_Igsystem   1.3257     3.7972   0.349   0.7289    \n",
              "EstrategiaAsthma_ARP                    1.7257     3.7972   0.454   0.6520    \n",
              "EstrategiaAsthma_ARS                    1.7257     3.7972   0.454   0.6520    \n",
              "EstrategiaAsthma_Ig_hypers              0.8601     3.7873   0.227   0.8215    \n",
              "EstrategiaDecreased_T4                  0.8000     3.7588   0.213   0.8326    \n",
              "EstrategiaSin_HPO                      -8.4514     3.9102  -2.161   0.0369 *  \n",
              "---\n",
              "Signif. codes:  0 ‘***’ 0.001 ‘**’ 0.01 ‘*’ 0.05 ‘.’ 0.1 ‘ ’ 1\n",
              "\n",
              "Residual standard error: 5.943 on 39 degrees of freedom\n",
              "Multiple R-squared:  0.5027,\tAdjusted R-squared:  0.3752 \n",
              "F-statistic: 3.942 on 10 and 39 DF,  p-value: 0.00092\n"
            ]
          },
          "metadata": {}
        }
      ]
    }
  ],
  "metadata": {
    "colab": {
      "provenance": [],
      "authorship_tag": "ABX9TyMKT2u+qU6p409OqtEmJOfd",
      "include_colab_link": true
    },
    "kernelspec": {
      "display_name": "R",
      "name": "ir"
    },
    "language_info": {
      "name": "R"
    }
  },
  "nbformat": 4,
  "nbformat_minor": 0
}