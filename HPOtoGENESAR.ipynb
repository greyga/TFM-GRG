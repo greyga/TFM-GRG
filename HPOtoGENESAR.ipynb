{
  "cells": [
    {
      "cell_type": "code",
      "source": [
        "# descargar el archivo genes_to_phenotype.txt\n",
        "system(\"wget http://purl.obolibrary.org/obo/hp/hpoa/genes_to_phenotype.txt\")\n"
      ],
      "metadata": {
        "id": "FjEGlnG71jgl"
      },
      "execution_count": 1,
      "outputs": []
    },
    {
      "cell_type": "code",
      "source": [
        "# Leer el archivo especificando que es un archivo de texto con separador de tabulaciones\n",
        "genes_pheno <- read.delim(\"/content/genes_to_phenotype.txt\", header = TRUE, sep = \"\\t\")\n",
        "\n",
        "\n",
        "# Función que busca los genes con un HPO y también con el HPO Autosomal recessive inheritance\n",
        "find_genes <- function(hpo) {\n",
        "  # Filtrar los genes con el HPO especificado\n",
        "  genes_hpo <- genes_pheno[genes_pheno$hpo_id == hpo, \"gene_symbol\"]\n",
        "  \n",
        "  # Filtrar los genes con el HPO Autosomal recessive inheritance\n",
        "  genes_ar <- genes_pheno[genes_pheno$hpo_id == \"HP:0000007\", \"gene_symbol\"]\n",
        "  \n",
        "  # Encontrar los genes que están en ambos grupos\n",
        "  genes_result <- intersect(genes_hpo, genes_ar)\n",
        "  \n",
        "  # Devolver los resultados\n",
        "  return(genes_result)\n",
        "}\n",
        "\n",
        "# Ejemplo de uso\n",
        "find_genes(\"HP:0031506\") # busca los genes con el HPO \"HP:0002460\" y también con el HPO \"HP:0000007\""
      ],
      "metadata": {
        "colab": {
          "base_uri": "https://localhost:8080/",
          "height": 34
        },
        "id": "st64__J2OWCB",
        "outputId": "2e90c5ea-3b3e-4a60-bedc-48be7c274005"
      },
      "execution_count": 3,
      "outputs": [
        {
          "output_type": "display_data",
          "data": {
            "text/html": [
              "<style>\n",
              ".list-inline {list-style: none; margin:0; padding: 0}\n",
              ".list-inline>li {display: inline-block}\n",
              ".list-inline>li:not(:last-child)::after {content: \"\\00b7\"; padding: 0 .5ex}\n",
              "</style>\n",
              "<ol class=list-inline><li>'THRB'</li><li>'TSHR'</li><li>'SECISBP2'</li></ol>\n"
            ],
            "text/markdown": "1. 'THRB'\n2. 'TSHR'\n3. 'SECISBP2'\n\n\n",
            "text/latex": "\\begin{enumerate*}\n\\item 'THRB'\n\\item 'TSHR'\n\\item 'SECISBP2'\n\\end{enumerate*}\n",
            "text/plain": [
              "[1] \"THRB\"     \"TSHR\"     \"SECISBP2\""
            ]
          },
          "metadata": {}
        }
      ]
    },
    {
      "cell_type": "code",
      "source": [
        "# Leer el archivo especificando que es un archivo de texto con separador de tabulaciones\n",
        "genes_pheno <- read.delim(\"/content/genes_to_phenotype.txt\", header = TRUE, sep = \"\\t\")\n",
        "\n",
        "# Función que busca los genes comunes a una lista de HPOs\n",
        "find_common_genes <- function(hpo_list) {\n",
        "  # Filtrar los genes para cada HPO en la lista\n",
        "  genes_list <- lapply(hpo_list, function(hpo) {\n",
        "    genes_pheno[genes_pheno$hpo_id == hpo, \"gene_symbol\"]\n",
        "  })\n",
        "  \n",
        "  # Encontrar los genes comunes a todos los conjuntos\n",
        "  genes_result <- Reduce(intersect, genes_list)\n",
        "  \n",
        "  # Devolver los resultados\n",
        "  return(genes_result)\n",
        "}\n",
        "\n",
        "# Ejemplo de uso\n",
        "find_common_genes(c(\"HP:0031506\", \"HP:0000007\"))\n"
      ],
      "metadata": {
        "colab": {
          "base_uri": "https://localhost:8080/",
          "height": 34
        },
        "id": "htkL7mMNWF7h",
        "outputId": "2a0bdfe6-ba47-4786-9ffa-c813be12fd3e"
      },
      "execution_count": 9,
      "outputs": [
        {
          "output_type": "display_data",
          "data": {
            "text/html": [
              "<style>\n",
              ".list-inline {list-style: none; margin:0; padding: 0}\n",
              ".list-inline>li {display: inline-block}\n",
              ".list-inline>li:not(:last-child)::after {content: \"\\00b7\"; padding: 0 .5ex}\n",
              "</style>\n",
              "<ol class=list-inline><li>'THRB'</li><li>'TSHR'</li><li>'SECISBP2'</li></ol>\n"
            ],
            "text/markdown": "1. 'THRB'\n2. 'TSHR'\n3. 'SECISBP2'\n\n\n",
            "text/latex": "\\begin{enumerate*}\n\\item 'THRB'\n\\item 'TSHR'\n\\item 'SECISBP2'\n\\end{enumerate*}\n",
            "text/plain": [
              "[1] \"THRB\"     \"TSHR\"     \"SECISBP2\""
            ]
          },
          "metadata": {}
        }
      ]
    },
    {
      "cell_type": "code",
      "source": [
        "# Función que busca los genes comunes a una lista de HPOs y muestra los HPOs asociados a cada gen\n",
        "find_common_genes <- function(hpo_list) {\n",
        "  # Filtrar los genes para cada HPO en la lista\n",
        "  genes_list <- lapply(hpo_list, function(hpo) {\n",
        "    genes_pheno[genes_pheno$hpo_id == hpo, \"gene_symbol\"]\n",
        "  })\n",
        "  \n",
        "  # Encontrar los genes comunes a todos los conjuntos\n",
        "  genes_result <- Reduce(intersect, genes_list)\n",
        "  \n",
        "  # Crear un data frame vacío para almacenar los resultados\n",
        "  result_df <- data.frame(gene_symbol = character(),\n",
        "                          hpo_id = character(),\n",
        "                          num_hpos = integer())\n",
        "  \n",
        "  # Obtener los HPOs asociados a cada gen y agregarlos al data frame de resultados\n",
        "  for (gene in genes_result) {\n",
        "    hpos <- genes_pheno[genes_pheno$gene_symbol == gene, \"hpo_id\"]\n",
        "    # Eliminar los HPOs de la lista original\n",
        "    hpos <- hpos[!hpos %in% hpo_list]\n",
        "    # Devolver los HPOs únicos\n",
        "    hpos <- unique(hpos)\n",
        "    # Agregar los resultados al data frame\n",
        "    result_df <- rbind(result_df, data.frame(gene_symbol = gene,\n",
        "                                             hpo_id = toString(hpos),\n",
        "                                             num_hpos = length(hpos)))\n",
        "  }\n",
        "  \n",
        "  # Devolver los resultados\n",
        "  return(result_df)\n",
        "}\n"
      ],
      "metadata": {
        "id": "ENp7-Um8XJWl"
      },
      "execution_count": 11,
      "outputs": []
    },
    {
      "cell_type": "code",
      "source": [
        "find_common_genes(c(\"HP:0031506\",\"HP:0000007\"))\n"
      ],
      "metadata": {
        "colab": {
          "base_uri": "https://localhost:8080/",
          "height": 366
        },
        "id": "XYpsoODSXMIt",
        "outputId": "80bddc49-8065-434b-e0b3-37488c7c9daf"
      },
      "execution_count": null,
      "outputs": [
        {
          "output_type": "display_data",
          "data": {
            "text/html": [
              "<table class=\"dataframe\">\n",
              "<caption>A data.frame: 3 × 3</caption>\n",
              "<thead>\n",
              "\t<tr><th scope=col>gene_symbol</th><th scope=col>hpo_id</th><th scope=col>num_hpos</th></tr>\n",
              "\t<tr><th scope=col>&lt;chr&gt;</th><th scope=col>&lt;chr&gt;</th><th scope=col>&lt;int&gt;</th></tr>\n",
              "</thead>\n",
              "<tbody>\n",
              "\t<tr><td>THRB    </td><td>HP:0025379, HP:0000006, HP:0025484, HP:0005978, HP:0011788, HP:0008223, HP:0010655, HP:0007018, HP:0032069, HP:0003621, HP:0004324, HP:0034189, HP:0000750, HP:0034116, HP:0011463, HP:0000853, HP:0000836, HP:0000819, HP:0033077, HP:0001518, HP:0012378, HP:0002930, HP:0002925, HP:0000365, HP:0000520                                                                                                                                                                                                                                                                                                                                                                                                                                                                                                                                                                                    </td><td>25</td></tr>\n",
              "\t<tr><td>TSHR    </td><td>HP:0010864, HP:0003745, HP:0001270, HP:0001254, HP:0001252, HP:0001249, HP:0001265, HP:0001263, HP:0031098, HP:0025379, HP:0008872, HP:0008828, HP:0001324, HP:0000006, HP:0012188, HP:0025484, HP:0000158, HP:0025429, HP:0031219, HP:0031220, HP:0002019, HP:0005990, HP:0002014, HP:0002045, HP:0005930, HP:0008191, HP:0011788, HP:0011789, HP:0011784, HP:0011790, HP:0008249, HP:0008223, HP:0003577, HP:0100786, HP:0011968, HP:0032069, HP:0002360, HP:0002378, HP:0200028, HP:0003623, HP:0004322, HP:0005616, HP:0000752, HP:0000750, HP:0000713, HP:0011437, HP:0004491, HP:0000851, HP:0000853, HP:0000836, HP:0000821, HP:0003270, HP:0003265, HP:0000952, HP:0000969, HP:0000280, HP:0000271, HP:0030057, HP:0000239, HP:0001537, HP:0001518, HP:0001510, HP:0031507, HP:0012378, HP:0012372, HP:0006579, HP:0002925, HP:0001649, HP:0001662, HP:0001622, HP:0000520, HP:0001824</td><td>72</td></tr>\n",
              "\t<tr><td>SECISBP2</td><td>HP:0032210, HP:0001249, HP:0008994, HP:0002750, HP:0003391, HP:0003623, HP:0009053, HP:0004322, HP:0031903, HP:0000736, HP:0003162, HP:0000821, HP:0040214, HP:0033077, HP:0001510, HP:0001513, HP:0012379, HP:0002925, HP:0000508, HP:0012548                                                                                                                                                                                                                                                                                                                                                                                                                                                                                                                                                                                                                                                </td><td>20</td></tr>\n",
              "</tbody>\n",
              "</table>\n"
            ],
            "text/markdown": "\nA data.frame: 3 × 3\n\n| gene_symbol &lt;chr&gt; | hpo_id &lt;chr&gt; | num_hpos &lt;int&gt; |\n|---|---|---|\n| THRB     | HP:0025379, HP:0000006, HP:0025484, HP:0005978, HP:0011788, HP:0008223, HP:0010655, HP:0007018, HP:0032069, HP:0003621, HP:0004324, HP:0034189, HP:0000750, HP:0034116, HP:0011463, HP:0000853, HP:0000836, HP:0000819, HP:0033077, HP:0001518, HP:0012378, HP:0002930, HP:0002925, HP:0000365, HP:0000520                                                                                                                                                                                                                                                                                                                                                                                                                                                                                                                                                                                     | 25 |\n| TSHR     | HP:0010864, HP:0003745, HP:0001270, HP:0001254, HP:0001252, HP:0001249, HP:0001265, HP:0001263, HP:0031098, HP:0025379, HP:0008872, HP:0008828, HP:0001324, HP:0000006, HP:0012188, HP:0025484, HP:0000158, HP:0025429, HP:0031219, HP:0031220, HP:0002019, HP:0005990, HP:0002014, HP:0002045, HP:0005930, HP:0008191, HP:0011788, HP:0011789, HP:0011784, HP:0011790, HP:0008249, HP:0008223, HP:0003577, HP:0100786, HP:0011968, HP:0032069, HP:0002360, HP:0002378, HP:0200028, HP:0003623, HP:0004322, HP:0005616, HP:0000752, HP:0000750, HP:0000713, HP:0011437, HP:0004491, HP:0000851, HP:0000853, HP:0000836, HP:0000821, HP:0003270, HP:0003265, HP:0000952, HP:0000969, HP:0000280, HP:0000271, HP:0030057, HP:0000239, HP:0001537, HP:0001518, HP:0001510, HP:0031507, HP:0012378, HP:0012372, HP:0006579, HP:0002925, HP:0001649, HP:0001662, HP:0001622, HP:0000520, HP:0001824 | 72 |\n| SECISBP2 | HP:0032210, HP:0001249, HP:0008994, HP:0002750, HP:0003391, HP:0003623, HP:0009053, HP:0004322, HP:0031903, HP:0000736, HP:0003162, HP:0000821, HP:0040214, HP:0033077, HP:0001510, HP:0001513, HP:0012379, HP:0002925, HP:0000508, HP:0012548                                                                                                                                                                                                                                                                                                                                                                                                                                                                                                                                                                                                                                                 | 20 |\n\n",
            "text/latex": "A data.frame: 3 × 3\n\\begin{tabular}{lll}\n gene\\_symbol & hpo\\_id & num\\_hpos\\\\\n <chr> & <chr> & <int>\\\\\n\\hline\n\t THRB     & HP:0025379, HP:0000006, HP:0025484, HP:0005978, HP:0011788, HP:0008223, HP:0010655, HP:0007018, HP:0032069, HP:0003621, HP:0004324, HP:0034189, HP:0000750, HP:0034116, HP:0011463, HP:0000853, HP:0000836, HP:0000819, HP:0033077, HP:0001518, HP:0012378, HP:0002930, HP:0002925, HP:0000365, HP:0000520                                                                                                                                                                                                                                                                                                                                                                                                                                                                                                                                                                                     & 25\\\\\n\t TSHR     & HP:0010864, HP:0003745, HP:0001270, HP:0001254, HP:0001252, HP:0001249, HP:0001265, HP:0001263, HP:0031098, HP:0025379, HP:0008872, HP:0008828, HP:0001324, HP:0000006, HP:0012188, HP:0025484, HP:0000158, HP:0025429, HP:0031219, HP:0031220, HP:0002019, HP:0005990, HP:0002014, HP:0002045, HP:0005930, HP:0008191, HP:0011788, HP:0011789, HP:0011784, HP:0011790, HP:0008249, HP:0008223, HP:0003577, HP:0100786, HP:0011968, HP:0032069, HP:0002360, HP:0002378, HP:0200028, HP:0003623, HP:0004322, HP:0005616, HP:0000752, HP:0000750, HP:0000713, HP:0011437, HP:0004491, HP:0000851, HP:0000853, HP:0000836, HP:0000821, HP:0003270, HP:0003265, HP:0000952, HP:0000969, HP:0000280, HP:0000271, HP:0030057, HP:0000239, HP:0001537, HP:0001518, HP:0001510, HP:0031507, HP:0012378, HP:0012372, HP:0006579, HP:0002925, HP:0001649, HP:0001662, HP:0001622, HP:0000520, HP:0001824 & 72\\\\\n\t SECISBP2 & HP:0032210, HP:0001249, HP:0008994, HP:0002750, HP:0003391, HP:0003623, HP:0009053, HP:0004322, HP:0031903, HP:0000736, HP:0003162, HP:0000821, HP:0040214, HP:0033077, HP:0001510, HP:0001513, HP:0012379, HP:0002925, HP:0000508, HP:0012548                                                                                                                                                                                                                                                                                                                                                                                                                                                                                                                                                                                                                                                 & 20\\\\\n\\end{tabular}\n",
            "text/plain": [
              "  gene_symbol\n",
              "1 THRB       \n",
              "2 TSHR       \n",
              "3 SECISBP2   \n",
              "  hpo_id                                                                                                                                                                                                                                                                                                                                                                                                                                                                                                                                                                                                                                                                                                                                                                                                                                                                                        \n",
              "1 HP:0025379, HP:0000006, HP:0025484, HP:0005978, HP:0011788, HP:0008223, HP:0010655, HP:0007018, HP:0032069, HP:0003621, HP:0004324, HP:0034189, HP:0000750, HP:0034116, HP:0011463, HP:0000853, HP:0000836, HP:0000819, HP:0033077, HP:0001518, HP:0012378, HP:0002930, HP:0002925, HP:0000365, HP:0000520                                                                                                                                                                                                                                                                                                                                                                                                                                                                                                                                                                                    \n",
              "2 HP:0010864, HP:0003745, HP:0001270, HP:0001254, HP:0001252, HP:0001249, HP:0001265, HP:0001263, HP:0031098, HP:0025379, HP:0008872, HP:0008828, HP:0001324, HP:0000006, HP:0012188, HP:0025484, HP:0000158, HP:0025429, HP:0031219, HP:0031220, HP:0002019, HP:0005990, HP:0002014, HP:0002045, HP:0005930, HP:0008191, HP:0011788, HP:0011789, HP:0011784, HP:0011790, HP:0008249, HP:0008223, HP:0003577, HP:0100786, HP:0011968, HP:0032069, HP:0002360, HP:0002378, HP:0200028, HP:0003623, HP:0004322, HP:0005616, HP:0000752, HP:0000750, HP:0000713, HP:0011437, HP:0004491, HP:0000851, HP:0000853, HP:0000836, HP:0000821, HP:0003270, HP:0003265, HP:0000952, HP:0000969, HP:0000280, HP:0000271, HP:0030057, HP:0000239, HP:0001537, HP:0001518, HP:0001510, HP:0031507, HP:0012378, HP:0012372, HP:0006579, HP:0002925, HP:0001649, HP:0001662, HP:0001622, HP:0000520, HP:0001824\n",
              "3 HP:0032210, HP:0001249, HP:0008994, HP:0002750, HP:0003391, HP:0003623, HP:0009053, HP:0004322, HP:0031903, HP:0000736, HP:0003162, HP:0000821, HP:0040214, HP:0033077, HP:0001510, HP:0001513, HP:0012379, HP:0002925, HP:0000508, HP:0012548                                                                                                                                                                                                                                                                                                                                                                                                                                                                                                                                                                                                                                                \n",
              "  num_hpos\n",
              "1 25      \n",
              "2 72      \n",
              "3 20      "
            ]
          },
          "metadata": {}
        }
      ]
    }
  ],
  "metadata": {
    "colab": {
      "provenance": []
    },
    "kernelspec": {
      "display_name": "R",
      "name": "ir"
    },
    "language_info": {
      "name": "R"
    }
  },
  "nbformat": 4,
  "nbformat_minor": 0
}