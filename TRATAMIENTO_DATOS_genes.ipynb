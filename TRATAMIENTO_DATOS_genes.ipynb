{
  "cells": [
    {
      "cell_type": "markdown",
      "metadata": {
        "id": "view-in-github",
        "colab_type": "text"
      },
      "source": [
        "<a href=\"https://colab.research.google.com/github/greyga/TFM-GRG/blob/main/TRATAMIENTO_DATOS_genes.ipynb\" target=\"_parent\"><img src=\"https://colab.research.google.com/assets/colab-badge.svg\" alt=\"Open In Colab\"/></a>"
      ]
    },
    {
      "cell_type": "code",
      "execution_count": null,
      "metadata": {
        "colab": {
          "base_uri": "https://localhost:8080/"
        },
        "id": "te7oOrcNnfO7",
        "outputId": "9e8534cd-1ad6-4a8a-cafa-bf653cd3faa5"
      },
      "outputs": [
        {
          "output_type": "stream",
          "name": "stderr",
          "text": [
            "\n",
            "Attaching package: ‘dplyr’\n",
            "\n",
            "\n",
            "The following objects are masked from ‘package:stats’:\n",
            "\n",
            "    filter, lag\n",
            "\n",
            "\n",
            "The following objects are masked from ‘package:base’:\n",
            "\n",
            "    intersect, setdiff, setequal, union\n",
            "\n",
            "\n"
          ]
        },
        {
          "output_type": "stream",
          "name": "stdout",
          "text": [
            "  Variante Ranking Phenotypic_Score\n",
            "1   PTGER2       3                0\n",
            "2    TBX21      11                0\n",
            "3     HNMT      10                0\n",
            "4    ADRB2       4                0\n",
            "5   PLA2G7      21                0\n"
          ]
        }
      ],
      "source": [
        "library(dplyr)\n",
        "\n",
        "# Cargar el archivo CSV\n",
        "data <- read.csv(\"/content/DATOS COMPARACION - EXOMISER+PHENOTYPIC20.csv\", sep = \",\", header = TRUE)\n",
        "\n",
        "# Crear una lista vacía para almacenar los resultados\n",
        "resultados <- list()\n",
        "\n",
        "# Obtener la lista de variantes\n",
        "variantes <- c(\"PTGER2\", \"TBX21\", \"HNMT\", \"ADRB2\", \"PLA2G7\")\n",
        "\n",
        "# Recorrer cada variante y extraer el ranking y Phenotypic Score correspondientes\n",
        "for (variante in variantes) {\n",
        "  subset_data <- subset(data, Ab_immune_system == variante)\n",
        "\n",
        "  # Obtener el ranking y Phenotypic Score de la variante\n",
        "  ranking <- subset_data$Ranking[!is.na(subset_data$Ranking)]\n",
        "  ps_estrategia <- subset_data$PS_AIGS[!is.na(subset_data$PS_AIGS)]\n",
        "\n",
        "  # Verificar si hay valores válidos para la variante y estrategia\n",
        "  if (length(ranking) > 0 && length(ps_estrategia) > 0) {\n",
        "    # Crear un dataframe con los datos de ranking y Phenotypic Score\n",
        "    df <- data.frame(Variante = variante, Ranking = ranking, Phenotypic_Score = ps_estrategia)\n",
        "\n",
        "    # Agregar el dataframe a la lista de resultados\n",
        "    resultados[[variante]] <- df\n",
        "  }\n",
        "}\n",
        "\n",
        "# Combinar los dataframes en una única tabla\n",
        "tabla_resultados <- bind_rows(resultados)\n",
        "\n",
        "# Imprimir la tabla de resultados\n",
        "print(tabla_resultados)"
      ]
    },
    {
      "cell_type": "code",
      "source": [
        "# Obtener la lista de variantes\n",
        "variantes <- c(\"PTGER2\", \"TBX21\", \"HNMT\", \"ADRB2\", \"PLA2G7\")\n",
        "# Recorrer cada variante y extraer el ranking y Phenotypic Score correspondientes\n",
        "for (variante in variantes) {\n",
        "  subset_data <- subset(data, Ab_immune_system == variante)\n",
        "\n",
        "  # Obtener el ranking y Phenotypic Score de la variante\n",
        "  ranking <- subset_data$Ranking[!is.na(subset_data$Ranking)]\n",
        "  ps_estrategia <- subset_data$PS_AIGS[!is.na(subset_data$PS_AIGS)]\n",
        "\n",
        "  # Verificar si hay valores válidos para la variante y estrategia\n",
        "  if (length(ranking) > 0 && length(ps_estrategia) > 0) {\n",
        "    # Crear un dataframe con los datos de ranking y Phenotypic Score\n",
        "    df <- data.frame(Variante = variante, Ranking = ranking, Phenotypic_Score = ps_estrategia)\n",
        "\n",
        "    # Agregar el dataframe a la lista de resultados\n",
        "    resultados[[variante]] <- df\n",
        "  }\n",
        "}\n",
        "\n",
        "# Combinar los dataframes en una única tabla\n",
        "tabla_resultados <- bind_rows(resultados)\n",
        "\n",
        "# Imprimir la tabla de resultados\n",
        "print(tabla_resultados)"
      ],
      "metadata": {
        "colab": {
          "base_uri": "https://localhost:8080/"
        },
        "id": "g47HJHzD_E-5",
        "outputId": "23142c98-2a32-4c2c-c0c2-442d8146c9c2"
      },
      "execution_count": null,
      "outputs": [
        {
          "output_type": "stream",
          "name": "stdout",
          "text": [
            "  Variante Ranking Phenotypic_Score\n",
            "1   PTGER2       3                0\n",
            "2    TBX21      11                0\n",
            "3     HNMT      10                0\n",
            "4    ADRB2       4                0\n",
            "5   PLA2G7      21                0\n"
          ]
        }
      ]
    },
    {
      "cell_type": "code",
      "execution_count": null,
      "metadata": {
        "colab": {
          "base_uri": "https://localhost:8080/"
        },
        "id": "Y7_0hhSipgfs",
        "outputId": "46e82c32-7038-442e-f4d4-5b663a70dad7"
      },
      "outputs": [
        {
          "output_type": "stream",
          "name": "stdout",
          "text": [
            "   Variante                  Estrategia Ranking Phenotypic_Score\n",
            "1    PTGER2                     Sin_HPO       3                0\n",
            "2     TBX21                     Sin_HPO      11                0\n",
            "3      HNMT                     Sin_HPO      10                0\n",
            "4     ADRB2                     Sin_HPO       4                0\n",
            "5    PLA2G7                     Sin_HPO      21              0,5\n",
            "6    PTGER2                      Asthma       1             0,92\n",
            "7     TBX21                      Asthma       2             0,92\n",
            "8      HNMT                      Asthma       8              0,5\n",
            "9     ADRB2                      Asthma      18                0\n",
            "10   PLA2G7                      Asthma      21              0,5\n",
            "11   PTGER2                  Asthma_ARS       1                1\n",
            "12    TBX21                  Asthma_ARS       2                1\n",
            "13     HNMT                  Asthma_ARS       8            0,501\n",
            "14    ADRB2                  Asthma_ARS      18                0\n",
            "15   PLA2G7                  Asthma_ARS      21              0,5\n",
            "16   PTGER2                  Asthma_ARP       1                1\n",
            "17    TBX21                  Asthma_ARP       2                1\n",
            "18     HNMT                  Asthma_ARP       8            0,501\n",
            "19    ADRB2                  Asthma_ARP      18                0\n",
            "20   PLA2G7                  Asthma_ARP      21              0,5\n",
            "21   PTGER2              Ab_Resp_system       1                1\n",
            "22    TBX21              Ab_Resp_system       2                1\n",
            "23     HNMT              Ab_Resp_system       8            0,501\n",
            "24    ADRB2              Ab_Resp_system      16                0\n",
            "25   PLA2G7              Ab_Resp_system      21              0,5\n",
            "26   PTGER2            Asthma_Ig_hypers       1             0,93\n",
            "27    TBX21            Asthma_Ig_hypers       2             0,93\n",
            "28     HNMT            Asthma_Ig_hypers       8              0,5\n",
            "29    ADRB2            Asthma_Ig_hypers      18                0\n",
            "30   PLA2G7            Asthma_Ig_hypers      21              0,5\n",
            "31   PTGER2 Asthma_Abnormality_Igsystem       1                1\n",
            "32    TBX21 Asthma_Abnormality_Igsystem       2                1\n",
            "33     HNMT Asthma_Abnormality_Igsystem       8              0,5\n",
            "34    ADRB2 Asthma_Abnormality_Igsystem      18                0\n",
            "35   PLA2G7 Asthma_Abnormality_Igsystem      21              0,5\n",
            "36   PTGER2            Ab_immune_system       3                0\n",
            "37    TBX21            Ab_immune_system      11                0\n",
            "38     HNMT            Ab_immune_system      10                0\n",
            "39    ADRB2            Ab_immune_system       4                0\n",
            "40   PLA2G7            Ab_immune_system      21                0\n",
            "41   PTGER2                Decreased_T4       5            0,503\n",
            "42    TBX21                Decreased_T4      10              0,5\n",
            "43     HNMT                Decreased_T4       9              0,5\n",
            "44    ADRB2                Decreased_T4      17                0\n",
            "45   PLA2G7                Decreased_T4      21              0,5\n",
            "46   PTGER2                Increased_T4       5            0,503\n",
            "47    TBX21                Increased_T4      10              0,5\n",
            "48     HNMT                Increased_T4       9              0,5\n",
            "49    ADRB2                Increased_T4      17                0\n",
            "50   PLA2G7                Increased_T4      21            0,501\n",
            "51   PTGER2         Ab_endocrine_system       3            0,502\n",
            "52    TBX21         Ab_endocrine_system       8            0,502\n",
            "53     HNMT         Ab_endocrine_system       9              0,5\n",
            "54    ADRB2         Ab_endocrine_system      17                0\n",
            "55   PLA2G7         Ab_endocrine_system      21            0,501\n",
            "56   PTGER2                    all_HPOS       4            0,667\n",
            "57    TBX21                    all_HPOS       5            0,966\n",
            "58     HNMT                    all_HPOS      10              0.5\n",
            "59    ADRB2                    all_HPOS      17                0\n",
            "60   PLA2G7                    all_HPOS      21              0.5\n"
          ]
        }
      ],
      "source": [
        "library(dplyr)\n",
        "\n",
        "# Cargar el archivo CSV\n",
        "data <- read.csv(\"/content/DATOS COMPARACION - EXOMISER+PHENOTYPIC20.csv\", sep = \",\", header = TRUE)\n",
        "\n",
        "# Crear una lista vacía para almacenar los resultados\n",
        "resultados <- list()\n",
        "\n",
        "# Definir las estrategias y sus respectivas columnas de Phenotypic Score\n",
        "estrategias <- c(\"Sin_HPO\", \"Asthma\", \"Asthma_ARS\", \"Asthma_ARP\", \"Ab_Resp_system\", \"Asthma_Ig_hypers\", \"Asthma_Abnormality_Igsystem\", \"Ab_immune_system\", \"Decreased_T4\", \"Decreased_T4_Abnormal_circulating_T4_concentration\", \"Increased_T4\", \"HPO increased T4_Abnormal_T4\", \"Ab_endocrine_system\", \"all_HPOS\", \"Abnormality_of_face\")\n",
        "\n",
        "columnas_ps <- c(\"PS_Sin_HPO\", \"PS_Asthma\", \"PS_A_Ab_Resp\", \"PS_A_y_ARP\", \"PS_ARS\", \"PS_A_y_Ighypers\", \"PS_A_AIGS\", \"PS_AIGS\",\n",
        "                 \"PS_Decreased_T4\", \"PS_dT4_ACT4\", \"PS_iT4\", \"PS_dT4_ACT4\", \"PS_AES\", \"PS_allHPO\")\n",
        "\n",
        "# Recorrer cada estrategia\n",
        "for (i in seq_along(estrategias)) {\n",
        "  estrategia <- estrategias[i]\n",
        "  columna_ps <- columnas_ps[i]\n",
        "\n",
        "  # Recorrer cada variante y extraer el ranking y Phenotypic Score correspondientes\n",
        "  for (variante in variantes) {\n",
        "    subset_data <- subset(data, data[[estrategia]] == variante)\n",
        "\n",
        "    # Obtener el ranking y Phenotypic Score de la variante y estrategia\n",
        "    ranking <- subset_data$Ranking[!is.na(subset_data$Ranking)]\n",
        "    ps_estrategia <- subset_data[[columna_ps]][!is.na(subset_data[[columna_ps]])]\n",
        "\n",
        "    # Verificar si hay valores válidos para la variante y estrategia\n",
        "    if (length(ranking) > 0 && length(ps_estrategia) > 0) {\n",
        "      # Convertir la columna de Phenotypic Score a tipo \"character\"\n",
        "      ps_estrategia <- as.character(ps_estrategia)\n",
        "\n",
        "      # Crear un dataframe con los datos de ranking y Phenotypic Score\n",
        "      df <- data.frame(Variante = variante, Estrategia = estrategia, Ranking = ranking, Phenotypic_Score = ps_estrategia)\n",
        "\n",
        "      # Agregar el dataframe a la lista de resultados\n",
        "      resultados[[paste(variante, estrategia, sep = \"_\")]] <- df\n",
        "    }\n",
        "  }\n",
        "}\n",
        "\n",
        "# Combinar los dataframes en una única tabla\n",
        "tabla_resultados <- bind_rows(resultados)\n",
        "\n",
        "# Imprimir la tabla de resultados\n",
        "print(tabla_resultados)\n"
      ]
    },
    {
      "cell_type": "code",
      "execution_count": null,
      "metadata": {
        "colab": {
          "base_uri": "https://localhost:8080/"
        },
        "id": "V4wMgeURBj3X",
        "outputId": "38d9c468-41fb-430e-9be0-2db432848989"
      },
      "outputs": [
        {
          "output_type": "stream",
          "name": "stdout",
          "text": [
            "'data.frame':\t60 obs. of  4 variables:\n",
            " $ Variante        : chr  \"PTGER2\" \"TBX21\" \"HNMT\" \"ADRB2\" ...\n",
            " $ Estrategia      : chr  \"Sin_HPO\" \"Sin_HPO\" \"Sin_HPO\" \"Sin_HPO\" ...\n",
            " $ Ranking         : chr  \"3\" \"11\" \"10\" \"4\" ...\n",
            " $ Phenotypic_Score: chr  \"0\" \"0\" \"0\" \"0\" ...\n"
          ]
        }
      ],
      "source": [
        "# Verificar el tipo de variables en tabla_resultados\n",
        "str(tabla_resultados)\n"
      ]
    },
    {
      "cell_type": "code",
      "execution_count": null,
      "metadata": {
        "id": "yDgNSYf-DaTN"
      },
      "outputs": [],
      "source": [
        "tabla_resultados$Ranking <- as.numeric(gsub(\",\", \".\", tabla_resultados$Ranking))\n",
        "tabla_resultados$Phenotypic_Score <- as.numeric(gsub(\",\", \".\", tabla_resultados$Phenotypic_Score))\n",
        "\n"
      ]
    },
    {
      "cell_type": "code",
      "execution_count": null,
      "metadata": {
        "colab": {
          "base_uri": "https://localhost:8080/"
        },
        "id": "00bROMdVR_Tc",
        "outputId": "69586ea6-3d31-4242-9d20-7e868ac9e8f6"
      },
      "outputs": [
        {
          "output_type": "stream",
          "name": "stdout",
          "text": [
            "  Variante Ranking Phenotypic_Score\n",
            "1   PTGER2       1             0.92\n",
            "2    TBX21       2             0.92\n",
            "3     HNMT       8             0.50\n",
            "4    ADRB2      18             0.00\n",
            "5   PLA2G7      21             0.50\n"
          ]
        }
      ],
      "source": [
        "# Crear el DataFrame \"datos_Asthma\"\n",
        "datos_Asthma <- data.frame(\n",
        "  Variante = c(\"PTGER2\", \"TBX21\", \"HNMT\", \"ADRB2\", \"PLA2G7\"),\n",
        "  Ranking = c(1, 2, 8, 18, 21),\n",
        "  Phenotypic_Score = c(0.92, 0.92, 0.50, 0.00, 0.50),\n",
        "  stringsAsFactors = FALSE\n",
        ")\n",
        "\n",
        "# Imprimir el DataFrame \"datos_Asthma\"\n",
        "print(datos_Asthma)\n"
      ]
    },
    {
      "cell_type": "code",
      "execution_count": null,
      "metadata": {
        "colab": {
          "base_uri": "https://localhost:8080/"
        },
        "id": "JxHdS5nPtzUO",
        "outputId": "94959df6-384f-442f-e06c-a2a683201ef7"
      },
      "outputs": [
        {
          "output_type": "stream",
          "name": "stdout",
          "text": [
            "'data.frame':\t5 obs. of  4 variables:\n",
            " $ Variante        : chr  \"PTGER2\" \"TBX21\" \"HNMT\" \"ADRB2\" ...\n",
            " $ Ranking         : num  1 2 8 18 21\n",
            " $ Phenotypic_Score: num  0.92 0.92 0.5 0 0.5\n",
            " $ Top10           : num  1 1 1 0 0\n"
          ]
        }
      ],
      "source": [
        "str(datos_Asthma)"
      ]
    },
    {
      "cell_type": "code",
      "execution_count": null,
      "metadata": {
        "colab": {
          "base_uri": "https://localhost:8080/"
        },
        "id": "jmX3tFcGUXeb",
        "outputId": "ee440ea3-5ddf-41cd-adee-71b8d320f615"
      },
      "outputs": [
        {
          "output_type": "stream",
          "name": "stdout",
          "text": [
            "  Variante Ranking Phenotypic_Score\n",
            "1   PTGER2       3                0\n",
            "2    TBX21       4                0\n",
            "3     HNMT      10                0\n",
            "4    ADRB2      11                0\n",
            "5   PLA2G7      21                0\n"
          ]
        }
      ],
      "source": [
        "# Crear el DataFrame \"datos_Sin_HPO\"\n",
        "datos_Sin_HPO <- data.frame(\n",
        "  Variante = c(\"PTGER2\", \"TBX21\", \"HNMT\", \"ADRB2\", \"PLA2G7\"),\n",
        "  Ranking = c(3, 4, 10, 11, 21),\n",
        "  Phenotypic_Score = c (0.0, 0.0 ,0.0 , 0.0 ,0.0),\n",
        "  stringsAsFactors = FALSE\n",
        ")\n",
        "\n",
        "# Imprimir el DataFrame \"datos_Sin_HPO\"\n",
        "print(datos_Sin_HPO)\n"
      ]
    },
    {
      "cell_type": "code",
      "execution_count": null,
      "metadata": {
        "colab": {
          "base_uri": "https://localhost:8080/"
        },
        "id": "lRIcvdZBUZc6",
        "outputId": "b51ec039-1483-4199-bab9-0e16a3e5f964"
      },
      "outputs": [
        {
          "output_type": "stream",
          "name": "stdout",
          "text": [
            "  Variante Ranking Phenotypic_Score\n",
            "1   PTGER2       1              1.0\n",
            "2    TBX21       2              1.0\n",
            "3     HNMT       8              0.5\n",
            "4    ADRB2      18              0.0\n",
            "5   PLA2G7      21              0.5\n"
          ]
        }
      ],
      "source": [
        "# Crear el DataFrame \"datos_Asthma_ARS\"\n",
        "datos_Asthma_ARS <- data.frame(\n",
        "  Variante = c(\"PTGER2\", \"TBX21\", \"HNMT\", \"ADRB2\", \"PLA2G7\"),\n",
        "  Ranking = c(1, 2, 8, 18, 21),\n",
        "  Phenotypic_Score = c(1, 1, 0.5, 0.0, 0.5),\n",
        "  stringsAsFactors = FALSE\n",
        ")\n",
        "\n",
        "# Imprimir el DataFrame \"datos_Asthma_ARS\"\n",
        "print(datos_Asthma_ARS)\n"
      ]
    },
    {
      "cell_type": "code",
      "execution_count": null,
      "metadata": {
        "colab": {
          "base_uri": "https://localhost:8080/"
        },
        "id": "24z6_V6AVY4s",
        "outputId": "a41eb0ca-21ed-4628-baa2-7966fc4c9723"
      },
      "outputs": [
        {
          "output_type": "stream",
          "name": "stdout",
          "text": [
            "  Variante Ranking Phenotypic_Score\n",
            "1   PTGER2       1              1.0\n",
            "2    TBX21       2              1.0\n",
            "3     HNMT       8              0.5\n",
            "4    ADRB2      18              0.0\n",
            "5   PLA2G7      21              0.5\n"
          ]
        }
      ],
      "source": [
        "# Crear el DataFrame \"datos_Asthma_ARP\"\n",
        "datos_Asthma_ARP <- data.frame(\n",
        "  Variante = c(\"PTGER2\", \"TBX21\", \"HNMT\", \"ADRB2\", \"PLA2G7\"),\n",
        "  Ranking = c(1, 2, 8, 18, 21),\n",
        "  Phenotypic_Score = c(1, 1, 0.5, 0.0, 0.5),\n",
        "  stringsAsFactors = FALSE\n",
        ")\n",
        "\n",
        "# Imprimir el DataFrame \"datos_Asthma_ARP\"\n",
        "print(datos_Asthma_ARP)\n"
      ]
    },
    {
      "cell_type": "code",
      "execution_count": null,
      "metadata": {
        "colab": {
          "base_uri": "https://localhost:8080/"
        },
        "id": "v9UhUz9VVmVm",
        "outputId": "1eeee478-0ec6-4d40-8c53-fd9e05646bb5"
      },
      "outputs": [
        {
          "output_type": "stream",
          "name": "stdout",
          "text": [
            "  Variante Ranking Phenotypic_Score\n",
            "1   PTGER2       1              1.0\n",
            "2    TBX21       2              1.0\n",
            "3     HNMT       8              0.5\n",
            "4    ADRB2      16              0.0\n",
            "5   PLA2G7      21              0.5\n"
          ]
        }
      ],
      "source": [
        "# Crear el DataFrame \"datos_Ab_Resp_system\"\n",
        "datos_Ab_Resp_system <- data.frame(\n",
        "  Variante = c(\"PTGER2\", \"TBX21\", \"HNMT\", \"ADRB2\", \"PLA2G7\"),\n",
        "  Ranking = c(1, 2, 8, 16, 21),\n",
        "  Phenotypic_Score = c(1, 1, 0.5, 0.0, 0.5),\n",
        "  stringsAsFactors = FALSE\n",
        ")\n",
        "\n",
        "# Imprimir el DataFrame \"datos_Ab_Resp_system\"\n",
        "print(datos_Ab_Resp_system)\n"
      ]
    },
    {
      "cell_type": "code",
      "execution_count": null,
      "metadata": {
        "colab": {
          "base_uri": "https://localhost:8080/"
        },
        "id": "FA_tTiCRW_lW",
        "outputId": "ea0cc8d9-cf5a-4ea5-e49b-b37cea911487"
      },
      "outputs": [
        {
          "output_type": "stream",
          "name": "stdout",
          "text": [
            "  Variante Ranking Phenotypic_Score\n",
            "1   PTGER2       1             0.93\n",
            "2    TBX21       2             0.93\n",
            "3     HNMT       8             0.50\n",
            "4    ADRB2      16             0.00\n",
            "5   PLA2G7      21             0.50\n"
          ]
        }
      ],
      "source": [
        "# Crear el DataFrame \"datos_Asthma_Ig_hypers\"\n",
        "datos_Asthma_Ig_hypers <- data.frame(\n",
        "  Variante = c(\"PTGER2\", \"TBX21\", \"HNMT\", \"ADRB2\", \"PLA2G7\"),\n",
        "  Ranking = c(1, 2, 8, 16, 21),\n",
        "  Phenotypic_Score = c(0.93, 0.93, 0.5, 0.0, 0.5),\n",
        "  stringsAsFactors = FALSE\n",
        ")\n",
        "\n",
        "# Imprimir el DataFrame \"datos_Asthma_Ig_hypers\"\n",
        "print(datos_Asthma_Ig_hypers)\n"
      ]
    },
    {
      "cell_type": "code",
      "execution_count": null,
      "metadata": {
        "colab": {
          "base_uri": "https://localhost:8080/"
        },
        "id": "rE5MZ3I9W_D8",
        "outputId": "e7cf4ca5-4394-487f-da03-2834af0f1c7e"
      },
      "outputs": [
        {
          "output_type": "stream",
          "name": "stdout",
          "text": [
            "  Variante Ranking Phenotypic_Score\n",
            "1   PTGER2       1              1.0\n",
            "2    TBX21       2              1.0\n",
            "3     HNMT       8              0.5\n",
            "4    ADRB2      16              0.0\n",
            "5   PLA2G7      21              0.5\n"
          ]
        }
      ],
      "source": [
        "# Crear el DataFrame \"datos_Asthma_Abnormality_Igsystem\"\n",
        "datos_Asthma_Abnormality_Igsystem <- data.frame(\n",
        "  Variante = c(\"PTGER2\", \"TBX21\", \"HNMT\", \"ADRB2\", \"PLA2G7\"),\n",
        "  Ranking = c(1, 2, 8, 16, 21),\n",
        "  Phenotypic_Score = c(1, 1, 0.5, 0.0, 0.5),\n",
        "  stringsAsFactors = FALSE\n",
        ")\n",
        "\n",
        "# Imprimir el DataFrame \"datos_Asthma_Abnormality_Igsystem\"\n",
        "print(datos_Asthma_Abnormality_Igsystem)\n"
      ]
    },
    {
      "cell_type": "code",
      "source": [
        "# Crear el DataFrame \"datos_Ab_endocrine_system\"\n",
        "datos_Ab_endocrine_system <- data.frame(\n",
        "  Variante = c(\"PTGER2\", \"TBX21\", \"HNMT\", \"ADRB2\", \"PLA2G7\"),\n",
        "  Ranking = c(3, 8, 9, 17, 21),\n",
        "  Phenotypic_Score = c(0.5, 0.5, 0.5, 0.0, 0.5),\n",
        "  stringsAsFactors = FALSE\n",
        ")\n",
        "\n",
        "# Imprimir el DataFrame \"Ab_endocrine_system\"\n",
        "print(datos_Ab_endocrine_system)\n"
      ],
      "metadata": {
        "colab": {
          "base_uri": "https://localhost:8080/"
        },
        "id": "gAJq4XP7HGdX",
        "outputId": "458e430a-9bc8-4aaf-de53-2a1fc6b030c3"
      },
      "execution_count": null,
      "outputs": [
        {
          "output_type": "stream",
          "name": "stdout",
          "text": [
            "  Variante Ranking Phenotypic_Score\n",
            "1   PTGER2       3              0.5\n",
            "2    TBX21       8              0.5\n",
            "3     HNMT       9              0.5\n",
            "4    ADRB2      17              0.0\n",
            "5   PLA2G7      21              0.5\n"
          ]
        }
      ]
    },
    {
      "cell_type": "code",
      "source": [
        "# Crear el DataFrame \"datos_all_HPOS\"\n",
        "datos_all_HPOS <- data.frame(\n",
        "  Variante = c(\"PTGER2\", \"TBX21\", \"HNMT\", \"ADRB2\", \"PLA2G7\"),\n",
        "  Ranking = c(4, 5, 10, 17, 21),\n",
        "  Phenotypic_Score = c(0.67, 0.97, 0.5, 0.0, 0.5),\n",
        "  stringsAsFactors = FALSE\n",
        ")\n",
        "\n",
        "# Imprimir el DataFrame \"all_HPOS\"\n",
        "print(datos_all_HPOS)\n"
      ],
      "metadata": {
        "colab": {
          "base_uri": "https://localhost:8080/"
        },
        "id": "TSWUxVsPHkry",
        "outputId": "e106a4a4-c45a-4f5c-de8d-6e585373a888"
      },
      "execution_count": null,
      "outputs": [
        {
          "output_type": "stream",
          "name": "stdout",
          "text": [
            "  Variante Ranking Phenotypic_Score\n",
            "1   PTGER2       4             0.67\n",
            "2    TBX21       5             0.97\n",
            "3     HNMT      10             0.50\n",
            "4    ADRB2      17             0.00\n",
            "5   PLA2G7      21             0.50\n"
          ]
        }
      ]
    },
    {
      "cell_type": "code",
      "source": [
        "# Crear el DataFrame \"datos_Decreased_T4\"\n",
        "datos_Decreased_T4 <- data.frame(\n",
        "  Variante = c(\"PTGER2\", \"TBX21\", \"HNMT\", \"ADRB2\", \"PLA2G7\"),\n",
        "  Ranking = c(5, 10, 9, 17, 21),\n",
        "  Phenotypic_Score = c(0.5, 0.5, 0.5, 0.0, 0.5),\n",
        "  stringsAsFactors = FALSE\n",
        ")\n",
        "\n",
        "# Imprimir el DataFrame \"datos_Decreased_T4\"\n",
        "print(datos_Decreased_T4)\n"
      ],
      "metadata": {
        "colab": {
          "base_uri": "https://localhost:8080/"
        },
        "id": "1T_YxHulHuwp",
        "outputId": "e07133af-2ee8-484c-fd01-2d894c2bd79e"
      },
      "execution_count": null,
      "outputs": [
        {
          "output_type": "stream",
          "name": "stdout",
          "text": [
            "  Variante Ranking Phenotypic_Score\n",
            "1   PTGER2       5              0.5\n",
            "2    TBX21      10              0.5\n",
            "3     HNMT       9              0.5\n",
            "4    ADRB2      17              0.0\n",
            "5   PLA2G7      21              0.5\n"
          ]
        }
      ]
    },
    {
      "cell_type": "markdown",
      "source": [
        "COMPARACIONES ESTADISTICAS"
      ],
      "metadata": {
        "id": "fe9u9UnvQKrd"
      }
    },
    {
      "cell_type": "code",
      "source": [
        "# Comparación de Rankings utilizando la prueba de Mann-Whitney\n",
        "mw_ranking_results <- list()\n",
        "dataframes <- list(datos_Sin_HPO, datos_Asthma, datos_Asthma_ARS, datos_Asthma_ARP, datos_Ab_Resp_system, datos_Asthma_Ig_hypers, datos_Asthma_Abnormality_Igsystem, datos_Ab_endocrine_system, datos_all_HPOS, datos_Decreased_T4)\n",
        "\n",
        "# Asignar nombres a los dataframes\n",
        "names(dataframes) <- c(\"datos_Sin_HPO\", \"datos_Asthma\", \"datos_Asthma_ARS\", \"datos_Asthma_ARP\", \"datos_Ab_Resp_system\", \"datos_Asthma_Ig_hypers\", \"datos_Asthma_Abnormality_Igsystem\", \"datos_Ab_endocrine_system\", \"datos_all_HPOS\", \"datos_Decreased_T4\")\n",
        "\n",
        "cat(\"Comparación de Rankings utilizando la prueba de Mann-Whitney:\\n\")\n",
        "counter <- 1\n",
        "\n",
        "for (i in 1:(length(dataframes) - 1)) {\n",
        "  for (j in (i+1):length(dataframes)) {\n",
        "    df1 <- dataframes[[i]]\n",
        "    df2 <- dataframes[[j]]\n",
        "    comparison <- try(wilcox.test(df1$Ranking, df2$Ranking, exact = FALSE), silent = TRUE)\n",
        "    if (inherits(comparison, \"try-error\")) {\n",
        "      cat(counter, \". No se pudo calcular el valor p para la comparación:\", names(dataframes)[i], \"con\", names(dataframes)[j], \"para el ranking usando Mann-Whitney.\\n\")\n",
        "    } else {\n",
        "      p_value <- comparison$p.value\n",
        "      comparison_name <- paste(names(dataframes)[i], \"con\", names(dataframes)[j])\n",
        "      mw_ranking_results[[comparison_name]] <- p_value\n",
        "      cat(counter, \". El valor p de la comparación\", names(dataframes)[i], \"con\", names(dataframes)[j], \"para el ranking usando Mann-Whitney es:\", p_value, \"\\n\")\n",
        "    }\n",
        "    counter <- counter + 1\n",
        "  }\n",
        "}\n",
        "\n",
        "# Comparación de Phenotypic Scores utilizando la prueba de Mann-Whitney\n",
        "mw_score_results <- list()\n",
        "\n",
        "cat(\"\\nComparación de Phenotypic Scores utilizando la prueba de Mann-Whitney:\\n\")\n",
        "counter <- 1\n",
        "\n",
        "for (i in 1:(length(dataframes) - 1)) {\n",
        "  for (j in (i+1):length(dataframes)) {\n",
        "    df1 <- dataframes[[i]]\n",
        "    df2 <- dataframes[[j]]\n",
        "    comparison <- try(wilcox.test(df1$Phenotypic_Score, df2$Phenotypic_Score, exact = FALSE), silent = TRUE)\n",
        "    if (inherits(comparison, \"try-error\")) {\n",
        "      cat(counter, \". No se pudo calcular el valor p para la comparación:\", names(dataframes)[i], \"con\", names(dataframes)[j], \"para el Phenotypic_score usando Mann-Whitney.\\n\")\n",
        "    } else {\n",
        "      p_value <- comparison$p.value\n",
        "      comparison_name <- paste(names(dataframes)[i], \"con\", names(dataframes)[j])\n",
        "      mw_score_results[[comparison_name]] <- p_value\n",
        "      cat(counter, \". El valor p de la comparación\", names(dataframes)[i], \"con\", names(dataframes)[j], \"para el Phenotypic_score usando Mann-Whitney es:\", p_value, \"\\n\")\n",
        "    }\n",
        "    counter <- counter + 1\n",
        "  }\n",
        "}\n",
        "\n",
        "# Comparación de Rankings utilizando el test de Chi-cuadrado\n",
        "chi2_ranking_results <- list()\n",
        "\n",
        "cat(\"\\nComparación de Rankings utilizando el test de Chi-cuadrado:\\n\")\n",
        "counter <- 1\n",
        "\n",
        "for (i in 1:(length(dataframes) - 1)) {\n",
        "  for (j in (i+1):length(dataframes)) {\n",
        "    df1 <- dataframes[[i]]\n",
        "    df2 <- dataframes[[j]]\n",
        "    contingency_table <- table(df1$Ranking, df2$Ranking)\n",
        "    comparison <- try(chisq.test(contingency_table), silent = TRUE)\n",
        "    if (inherits(comparison, \"try-error\")) {\n",
        "      cat(counter, \". No se pudo calcular el valor p para la comparación:\", names(dataframes)[i], \"con\", names(dataframes)[j], \"para el ranking usando Chi2.\\n\")\n",
        "    } else {\n",
        "      p_value <- comparison$p.value\n",
        "      comparison_name <- paste(names(dataframes)[i], \"con\", names(dataframes)[j])\n",
        "      chi2_ranking_results[[comparison_name]] <- p_value\n",
        "      cat(counter, \". El valor p de la comparación\", names(dataframes)[i], \"con\", names(dataframes)[j], \"para el ranking usando Chi2 es:\", p_value, \"\\n\")\n",
        "    }\n",
        "    counter <- counter + 1\n",
        "  }\n",
        "}\n",
        "\n",
        "# Comparación de Phenotypic Scores utilizando el test de Chi-cuadrado\n",
        "chi2_score_results <- list()\n",
        "\n",
        "cat(\"\\nComparación de Phenotypic Scores utilizando el test de Chi-cuadrado:\\n\")\n",
        "counter <- 1\n",
        "\n",
        "for (i in 1:(length(dataframes) - 1)) {\n",
        "  for (j in (i+1):length(dataframes)) {\n",
        "    df1 <- dataframes[[i]]\n",
        "    df2 <- dataframes[[j]]\n",
        "    contingency_table <- table(df1$Phenotypic_Score, df2$Phenotypic_Score)\n",
        "    comparison <- try(chisq.test(contingency_table), silent = TRUE)\n",
        "    if (inherits(comparison, \"try-error\")) {\n",
        "      cat(counter, \". No se pudo calcular el valor p para la comparación:\", names(dataframes)[i], \"con\", names(dataframes)[j], \"para el Phenotypic_score usando Chi2.\\n\")\n",
        "    } else {\n",
        "      p_value <- comparison$p.value\n",
        "      comparison_name <- paste(names(dataframes)[i], \"con\", names(dataframes)[j])\n",
        "      chi2_score_results[[comparison_name]] <- p_value\n",
        "      cat(counter, \". El valor p de la comparación\", names(dataframes)[i], \"con\", names(dataframes)[j], \"para el Phenotypic_score usando Chi2 es:\", p_value, \"\\n\")\n",
        "    }\n",
        "    counter <- counter + 1\n",
        "  }\n",
        "}\n"
      ],
      "metadata": {
        "colab": {
          "base_uri": "https://localhost:8080/"
        },
        "id": "aSqfGDP2VZE7",
        "outputId": "4f00be48-cd5f-47e0-dad7-bf18af853044"
      },
      "execution_count": null,
      "outputs": [
        {
          "output_type": "stream",
          "name": "stdout",
          "text": [
            "Comparación de Rankings utilizando la prueba de Mann-Whitney:\n",
            "1 . El valor p de la comparación datos_Sin_HPO con datos_Asthma para el ranking usando Mann-Whitney es: 0.753298 \n",
            "2 . El valor p de la comparación datos_Sin_HPO con datos_Asthma_ARS para el ranking usando Mann-Whitney es: 0.753298 \n",
            "3 . El valor p de la comparación datos_Sin_HPO con datos_Asthma_ARP para el ranking usando Mann-Whitney es: 0.753298 \n",
            "4 . El valor p de la comparación datos_Sin_HPO con datos_Ab_Resp_system para el ranking usando Mann-Whitney es: 0.753298 \n",
            "5 . El valor p de la comparación datos_Sin_HPO con datos_Asthma_Ig_hypers para el ranking usando Mann-Whitney es: 0.753298 \n",
            "6 . El valor p de la comparación datos_Sin_HPO con datos_Asthma_Abnormality_Igsystem para el ranking usando Mann-Whitney es: 0.753298 \n",
            "7 . El valor p de la comparación datos_Sin_HPO con datos_Ab_endocrine_system para el ranking usando Mann-Whitney es: 1 \n",
            "8 . El valor p de la comparación datos_Sin_HPO con datos_all_HPOS para el ranking usando Mann-Whitney es: 0.7518296 \n",
            "9 . El valor p de la comparación datos_Sin_HPO con datos_Decreased_T4 para el ranking usando Mann-Whitney es: 0.6742359 \n",
            "10 . El valor p de la comparación datos_Asthma con datos_Asthma_ARS para el ranking usando Mann-Whitney es: 1 \n",
            "11 . El valor p de la comparación datos_Asthma con datos_Asthma_ARP para el ranking usando Mann-Whitney es: 1 \n",
            "12 . El valor p de la comparación datos_Asthma con datos_Ab_Resp_system para el ranking usando Mann-Whitney es: 1 \n",
            "13 . El valor p de la comparación datos_Asthma con datos_Asthma_Ig_hypers para el ranking usando Mann-Whitney es: 1 \n",
            "14 . El valor p de la comparación datos_Asthma con datos_Asthma_Abnormality_Igsystem para el ranking usando Mann-Whitney es: 1 \n",
            "15 . El valor p de la comparación datos_Asthma con datos_Ab_endocrine_system para el ranking usando Mann-Whitney es: 0.6742359 \n",
            "16 . El valor p de la comparación datos_Asthma con datos_all_HPOS para el ranking usando Mann-Whitney es: 0.753298 \n",
            "17 . El valor p de la comparación datos_Asthma con datos_Decreased_T4 para el ranking usando Mann-Whitney es: 0.6004018 \n",
            "18 . El valor p de la comparación datos_Asthma_ARS con datos_Asthma_ARP para el ranking usando Mann-Whitney es: 1 \n",
            "19 . El valor p de la comparación datos_Asthma_ARS con datos_Ab_Resp_system para el ranking usando Mann-Whitney es: 1 \n",
            "20 . El valor p de la comparación datos_Asthma_ARS con datos_Asthma_Ig_hypers para el ranking usando Mann-Whitney es: 1 \n",
            "21 . El valor p de la comparación datos_Asthma_ARS con datos_Asthma_Abnormality_Igsystem para el ranking usando Mann-Whitney es: 1 \n",
            "22 . El valor p de la comparación datos_Asthma_ARS con datos_Ab_endocrine_system para el ranking usando Mann-Whitney es: 0.6742359 \n",
            "23 . El valor p de la comparación datos_Asthma_ARS con datos_all_HPOS para el ranking usando Mann-Whitney es: 0.753298 \n",
            "24 . El valor p de la comparación datos_Asthma_ARS con datos_Decreased_T4 para el ranking usando Mann-Whitney es: 0.6004018 \n",
            "25 . El valor p de la comparación datos_Asthma_ARP con datos_Ab_Resp_system para el ranking usando Mann-Whitney es: 1 \n",
            "26 . El valor p de la comparación datos_Asthma_ARP con datos_Asthma_Ig_hypers para el ranking usando Mann-Whitney es: 1 \n",
            "27 . El valor p de la comparación datos_Asthma_ARP con datos_Asthma_Abnormality_Igsystem para el ranking usando Mann-Whitney es: 1 \n",
            "28 . El valor p de la comparación datos_Asthma_ARP con datos_Ab_endocrine_system para el ranking usando Mann-Whitney es: 0.6742359 \n",
            "29 . El valor p de la comparación datos_Asthma_ARP con datos_all_HPOS para el ranking usando Mann-Whitney es: 0.753298 \n",
            "30 . El valor p de la comparación datos_Asthma_ARP con datos_Decreased_T4 para el ranking usando Mann-Whitney es: 0.6004018 \n",
            "31 . El valor p de la comparación datos_Ab_Resp_system con datos_Asthma_Ig_hypers para el ranking usando Mann-Whitney es: 1 \n",
            "32 . El valor p de la comparación datos_Ab_Resp_system con datos_Asthma_Abnormality_Igsystem para el ranking usando Mann-Whitney es: 1 \n",
            "33 . El valor p de la comparación datos_Ab_Resp_system con datos_Ab_endocrine_system para el ranking usando Mann-Whitney es: 0.5283593 \n",
            "34 . El valor p de la comparación datos_Ab_Resp_system con datos_all_HPOS para el ranking usando Mann-Whitney es: 0.6004018 \n",
            "35 . El valor p de la comparación datos_Ab_Resp_system con datos_Decreased_T4 para el ranking usando Mann-Whitney es: 0.4633439 \n",
            "36 . El valor p de la comparación datos_Asthma_Ig_hypers con datos_Asthma_Abnormality_Igsystem para el ranking usando Mann-Whitney es: 1 \n",
            "37 . El valor p de la comparación datos_Asthma_Ig_hypers con datos_Ab_endocrine_system para el ranking usando Mann-Whitney es: 0.5283593 \n",
            "38 . El valor p de la comparación datos_Asthma_Ig_hypers con datos_all_HPOS para el ranking usando Mann-Whitney es: 0.6004018 \n",
            "39 . El valor p de la comparación datos_Asthma_Ig_hypers con datos_Decreased_T4 para el ranking usando Mann-Whitney es: 0.4633439 \n",
            "40 . El valor p de la comparación datos_Asthma_Abnormality_Igsystem con datos_Ab_endocrine_system para el ranking usando Mann-Whitney es: 0.5283593 \n",
            "41 . El valor p de la comparación datos_Asthma_Abnormality_Igsystem con datos_all_HPOS para el ranking usando Mann-Whitney es: 0.6004018 \n",
            "42 . El valor p de la comparación datos_Asthma_Abnormality_Igsystem con datos_Decreased_T4 para el ranking usando Mann-Whitney es: 0.4633439 \n",
            "43 . El valor p de la comparación datos_Ab_endocrine_system con datos_all_HPOS para el ranking usando Mann-Whitney es: 1 \n",
            "44 . El valor p de la comparación datos_Ab_endocrine_system con datos_Decreased_T4 para el ranking usando Mann-Whitney es: 0.7518296 \n",
            "45 . El valor p de la comparación datos_all_HPOS con datos_Decreased_T4 para el ranking usando Mann-Whitney es: 0.8325188 \n",
            "\n",
            "Comparación de Phenotypic Scores utilizando la prueba de Mann-Whitney:\n",
            "1 . El valor p de la comparación datos_Sin_HPO con datos_Asthma para el Phenotypic_score usando Mann-Whitney es: 0.02425141 \n",
            "2 . El valor p de la comparación datos_Sin_HPO con datos_Asthma_ARS para el Phenotypic_score usando Mann-Whitney es: 0.02425141 \n",
            "3 . El valor p de la comparación datos_Sin_HPO con datos_Asthma_ARP para el Phenotypic_score usando Mann-Whitney es: 0.02425141 \n",
            "4 . El valor p de la comparación datos_Sin_HPO con datos_Ab_Resp_system para el Phenotypic_score usando Mann-Whitney es: 0.02425141 \n",
            "5 . El valor p de la comparación datos_Sin_HPO con datos_Asthma_Ig_hypers para el Phenotypic_score usando Mann-Whitney es: 0.02425141 \n",
            "6 . El valor p de la comparación datos_Sin_HPO con datos_Asthma_Abnormality_Igsystem para el Phenotypic_score usando Mann-Whitney es: 0.02425141 \n",
            "7 . El valor p de la comparación datos_Sin_HPO con datos_Ab_endocrine_system para el Phenotypic_score usando Mann-Whitney es: 0.01996445 \n",
            "8 . El valor p de la comparación datos_Sin_HPO con datos_all_HPOS para el Phenotypic_score usando Mann-Whitney es: 0.02480842 \n",
            "9 . El valor p de la comparación datos_Sin_HPO con datos_Decreased_T4 para el Phenotypic_score usando Mann-Whitney es: 0.01996445 \n",
            "10 . El valor p de la comparación datos_Asthma con datos_Asthma_ARS para el Phenotypic_score usando Mann-Whitney es: 0.7440731 \n",
            "11 . El valor p de la comparación datos_Asthma con datos_Asthma_ARP para el Phenotypic_score usando Mann-Whitney es: 0.7440731 \n",
            "12 . El valor p de la comparación datos_Asthma con datos_Ab_Resp_system para el Phenotypic_score usando Mann-Whitney es: 0.7440731 \n",
            "13 . El valor p de la comparación datos_Asthma con datos_Asthma_Ig_hypers para el Phenotypic_score usando Mann-Whitney es: 0.7440731 \n",
            "14 . El valor p de la comparación datos_Asthma con datos_Asthma_Abnormality_Igsystem para el Phenotypic_score usando Mann-Whitney es: 0.7440731 \n",
            "15 . El valor p de la comparación datos_Asthma con datos_Ab_endocrine_system para el Phenotypic_score usando Mann-Whitney es: 0.4064834 \n",
            "16 . El valor p de la comparación datos_Asthma con datos_all_HPOS para el Phenotypic_score usando Mann-Whitney es: 1 \n",
            "17 . El valor p de la comparación datos_Asthma con datos_Decreased_T4 para el Phenotypic_score usando Mann-Whitney es: 0.4064834 \n",
            "18 . El valor p de la comparación datos_Asthma_ARS con datos_Asthma_ARP para el Phenotypic_score usando Mann-Whitney es: 1 \n",
            "19 . El valor p de la comparación datos_Asthma_ARS con datos_Ab_Resp_system para el Phenotypic_score usando Mann-Whitney es: 1 \n",
            "20 . El valor p de la comparación datos_Asthma_ARS con datos_Asthma_Ig_hypers para el Phenotypic_score usando Mann-Whitney es: 0.7440731 \n",
            "21 . El valor p de la comparación datos_Asthma_ARS con datos_Asthma_Abnormality_Igsystem para el Phenotypic_score usando Mann-Whitney es: 1 \n",
            "22 . El valor p de la comparación datos_Asthma_ARS con datos_Ab_endocrine_system para el Phenotypic_score usando Mann-Whitney es: 0.4064834 \n",
            "23 . El valor p de la comparación datos_Asthma_ARS con datos_all_HPOS para el Phenotypic_score usando Mann-Whitney es: 0.7448816 \n",
            "24 . El valor p de la comparación datos_Asthma_ARS con datos_Decreased_T4 para el Phenotypic_score usando Mann-Whitney es: 0.4064834 \n",
            "25 . El valor p de la comparación datos_Asthma_ARP con datos_Ab_Resp_system para el Phenotypic_score usando Mann-Whitney es: 1 \n",
            "26 . El valor p de la comparación datos_Asthma_ARP con datos_Asthma_Ig_hypers para el Phenotypic_score usando Mann-Whitney es: 0.7440731 \n",
            "27 . El valor p de la comparación datos_Asthma_ARP con datos_Asthma_Abnormality_Igsystem para el Phenotypic_score usando Mann-Whitney es: 1 \n",
            "28 . El valor p de la comparación datos_Asthma_ARP con datos_Ab_endocrine_system para el Phenotypic_score usando Mann-Whitney es: 0.4064834 \n",
            "29 . El valor p de la comparación datos_Asthma_ARP con datos_all_HPOS para el Phenotypic_score usando Mann-Whitney es: 0.7448816 \n",
            "30 . El valor p de la comparación datos_Asthma_ARP con datos_Decreased_T4 para el Phenotypic_score usando Mann-Whitney es: 0.4064834 \n",
            "31 . El valor p de la comparación datos_Ab_Resp_system con datos_Asthma_Ig_hypers para el Phenotypic_score usando Mann-Whitney es: 0.7440731 \n",
            "32 . El valor p de la comparación datos_Ab_Resp_system con datos_Asthma_Abnormality_Igsystem para el Phenotypic_score usando Mann-Whitney es: 1 \n",
            "33 . El valor p de la comparación datos_Ab_Resp_system con datos_Ab_endocrine_system para el Phenotypic_score usando Mann-Whitney es: 0.4064834 \n",
            "34 . El valor p de la comparación datos_Ab_Resp_system con datos_all_HPOS para el Phenotypic_score usando Mann-Whitney es: 0.7448816 \n",
            "35 . El valor p de la comparación datos_Ab_Resp_system con datos_Decreased_T4 para el Phenotypic_score usando Mann-Whitney es: 0.4064834 \n",
            "36 . El valor p de la comparación datos_Asthma_Ig_hypers con datos_Asthma_Abnormality_Igsystem para el Phenotypic_score usando Mann-Whitney es: 0.7440731 \n",
            "37 . El valor p de la comparación datos_Asthma_Ig_hypers con datos_Ab_endocrine_system para el Phenotypic_score usando Mann-Whitney es: 0.4064834 \n",
            "38 . El valor p de la comparación datos_Asthma_Ig_hypers con datos_all_HPOS para el Phenotypic_score usando Mann-Whitney es: 1 \n",
            "39 . El valor p de la comparación datos_Asthma_Ig_hypers con datos_Decreased_T4 para el Phenotypic_score usando Mann-Whitney es: 0.4064834 \n",
            "40 . El valor p de la comparación datos_Asthma_Abnormality_Igsystem con datos_Ab_endocrine_system para el Phenotypic_score usando Mann-Whitney es: 0.4064834 \n",
            "41 . El valor p de la comparación datos_Asthma_Abnormality_Igsystem con datos_all_HPOS para el Phenotypic_score usando Mann-Whitney es: 0.7448816 \n",
            "42 . El valor p de la comparación datos_Asthma_Abnormality_Igsystem con datos_Decreased_T4 para el Phenotypic_score usando Mann-Whitney es: 0.4064834 \n",
            "43 . El valor p de la comparación datos_Ab_endocrine_system con datos_all_HPOS para el Phenotypic_score usando Mann-Whitney es: 0.4083084 \n",
            "44 . El valor p de la comparación datos_Ab_endocrine_system con datos_Decreased_T4 para el Phenotypic_score usando Mann-Whitney es: 1 \n",
            "45 . El valor p de la comparación datos_all_HPOS con datos_Decreased_T4 para el Phenotypic_score usando Mann-Whitney es: 0.4083084 \n",
            "\n",
            "Comparación de Rankings utilizando el test de Chi-cuadrado:\n"
          ]
        },
        {
          "output_type": "stream",
          "name": "stderr",
          "text": [
            "Warning message in chisq.test(contingency_table):\n",
            "“Chi-squared approximation may be incorrect”\n"
          ]
        },
        {
          "output_type": "stream",
          "name": "stdout",
          "text": [
            "1 . El valor p de la comparación datos_Sin_HPO con datos_Asthma para el ranking usando Chi2 es: 0.2202206 \n"
          ]
        },
        {
          "output_type": "stream",
          "name": "stderr",
          "text": [
            "Warning message in chisq.test(contingency_table):\n",
            "“Chi-squared approximation may be incorrect”\n"
          ]
        },
        {
          "output_type": "stream",
          "name": "stdout",
          "text": [
            "2 . El valor p de la comparación datos_Sin_HPO con datos_Asthma_ARS para el ranking usando Chi2 es: 0.2202206 \n"
          ]
        },
        {
          "output_type": "stream",
          "name": "stderr",
          "text": [
            "Warning message in chisq.test(contingency_table):\n",
            "“Chi-squared approximation may be incorrect”\n"
          ]
        },
        {
          "output_type": "stream",
          "name": "stdout",
          "text": [
            "3 . El valor p de la comparación datos_Sin_HPO con datos_Asthma_ARP para el ranking usando Chi2 es: 0.2202206 \n"
          ]
        },
        {
          "output_type": "stream",
          "name": "stderr",
          "text": [
            "Warning message in chisq.test(contingency_table):\n",
            "“Chi-squared approximation may be incorrect”\n"
          ]
        },
        {
          "output_type": "stream",
          "name": "stdout",
          "text": [
            "4 . El valor p de la comparación datos_Sin_HPO con datos_Ab_Resp_system para el ranking usando Chi2 es: 0.2202206 \n"
          ]
        },
        {
          "output_type": "stream",
          "name": "stderr",
          "text": [
            "Warning message in chisq.test(contingency_table):\n",
            "“Chi-squared approximation may be incorrect”\n"
          ]
        },
        {
          "output_type": "stream",
          "name": "stdout",
          "text": [
            "5 . El valor p de la comparación datos_Sin_HPO con datos_Asthma_Ig_hypers para el ranking usando Chi2 es: 0.2202206 \n"
          ]
        },
        {
          "output_type": "stream",
          "name": "stderr",
          "text": [
            "Warning message in chisq.test(contingency_table):\n",
            "“Chi-squared approximation may be incorrect”\n"
          ]
        },
        {
          "output_type": "stream",
          "name": "stdout",
          "text": [
            "6 . El valor p de la comparación datos_Sin_HPO con datos_Asthma_Abnormality_Igsystem para el ranking usando Chi2 es: 0.2202206 \n"
          ]
        },
        {
          "output_type": "stream",
          "name": "stderr",
          "text": [
            "Warning message in chisq.test(contingency_table):\n",
            "“Chi-squared approximation may be incorrect”\n"
          ]
        },
        {
          "output_type": "stream",
          "name": "stdout",
          "text": [
            "7 . El valor p de la comparación datos_Sin_HPO con datos_Ab_endocrine_system para el ranking usando Chi2 es: 0.2202206 \n"
          ]
        },
        {
          "output_type": "stream",
          "name": "stderr",
          "text": [
            "Warning message in chisq.test(contingency_table):\n",
            "“Chi-squared approximation may be incorrect”\n"
          ]
        },
        {
          "output_type": "stream",
          "name": "stdout",
          "text": [
            "8 . El valor p de la comparación datos_Sin_HPO con datos_all_HPOS para el ranking usando Chi2 es: 0.2202206 \n"
          ]
        },
        {
          "output_type": "stream",
          "name": "stderr",
          "text": [
            "Warning message in chisq.test(contingency_table):\n",
            "“Chi-squared approximation may be incorrect”\n"
          ]
        },
        {
          "output_type": "stream",
          "name": "stdout",
          "text": [
            "9 . El valor p de la comparación datos_Sin_HPO con datos_Decreased_T4 para el ranking usando Chi2 es: 0.2202206 \n"
          ]
        },
        {
          "output_type": "stream",
          "name": "stderr",
          "text": [
            "Warning message in chisq.test(contingency_table):\n",
            "“Chi-squared approximation may be incorrect”\n"
          ]
        },
        {
          "output_type": "stream",
          "name": "stdout",
          "text": [
            "10 . El valor p de la comparación datos_Asthma con datos_Asthma_ARS para el ranking usando Chi2 es: 0.2202206 \n"
          ]
        },
        {
          "output_type": "stream",
          "name": "stderr",
          "text": [
            "Warning message in chisq.test(contingency_table):\n",
            "“Chi-squared approximation may be incorrect”\n"
          ]
        },
        {
          "output_type": "stream",
          "name": "stdout",
          "text": [
            "11 . El valor p de la comparación datos_Asthma con datos_Asthma_ARP para el ranking usando Chi2 es: 0.2202206 \n"
          ]
        },
        {
          "output_type": "stream",
          "name": "stderr",
          "text": [
            "Warning message in chisq.test(contingency_table):\n",
            "“Chi-squared approximation may be incorrect”\n"
          ]
        },
        {
          "output_type": "stream",
          "name": "stdout",
          "text": [
            "12 . El valor p de la comparación datos_Asthma con datos_Ab_Resp_system para el ranking usando Chi2 es: 0.2202206 \n"
          ]
        },
        {
          "output_type": "stream",
          "name": "stderr",
          "text": [
            "Warning message in chisq.test(contingency_table):\n",
            "“Chi-squared approximation may be incorrect”\n"
          ]
        },
        {
          "output_type": "stream",
          "name": "stdout",
          "text": [
            "13 . El valor p de la comparación datos_Asthma con datos_Asthma_Ig_hypers para el ranking usando Chi2 es: 0.2202206 \n"
          ]
        },
        {
          "output_type": "stream",
          "name": "stderr",
          "text": [
            "Warning message in chisq.test(contingency_table):\n",
            "“Chi-squared approximation may be incorrect”\n"
          ]
        },
        {
          "output_type": "stream",
          "name": "stdout",
          "text": [
            "14 . El valor p de la comparación datos_Asthma con datos_Asthma_Abnormality_Igsystem para el ranking usando Chi2 es: 0.2202206 \n"
          ]
        },
        {
          "output_type": "stream",
          "name": "stderr",
          "text": [
            "Warning message in chisq.test(contingency_table):\n",
            "“Chi-squared approximation may be incorrect”\n"
          ]
        },
        {
          "output_type": "stream",
          "name": "stdout",
          "text": [
            "15 . El valor p de la comparación datos_Asthma con datos_Ab_endocrine_system para el ranking usando Chi2 es: 0.2202206 \n"
          ]
        },
        {
          "output_type": "stream",
          "name": "stderr",
          "text": [
            "Warning message in chisq.test(contingency_table):\n",
            "“Chi-squared approximation may be incorrect”\n"
          ]
        },
        {
          "output_type": "stream",
          "name": "stdout",
          "text": [
            "16 . El valor p de la comparación datos_Asthma con datos_all_HPOS para el ranking usando Chi2 es: 0.2202206 \n"
          ]
        },
        {
          "output_type": "stream",
          "name": "stderr",
          "text": [
            "Warning message in chisq.test(contingency_table):\n",
            "“Chi-squared approximation may be incorrect”\n"
          ]
        },
        {
          "output_type": "stream",
          "name": "stdout",
          "text": [
            "17 . El valor p de la comparación datos_Asthma con datos_Decreased_T4 para el ranking usando Chi2 es: 0.2202206 \n"
          ]
        },
        {
          "output_type": "stream",
          "name": "stderr",
          "text": [
            "Warning message in chisq.test(contingency_table):\n",
            "“Chi-squared approximation may be incorrect”\n"
          ]
        },
        {
          "output_type": "stream",
          "name": "stdout",
          "text": [
            "18 . El valor p de la comparación datos_Asthma_ARS con datos_Asthma_ARP para el ranking usando Chi2 es: 0.2202206 \n"
          ]
        },
        {
          "output_type": "stream",
          "name": "stderr",
          "text": [
            "Warning message in chisq.test(contingency_table):\n",
            "“Chi-squared approximation may be incorrect”\n"
          ]
        },
        {
          "output_type": "stream",
          "name": "stdout",
          "text": [
            "19 . El valor p de la comparación datos_Asthma_ARS con datos_Ab_Resp_system para el ranking usando Chi2 es: 0.2202206 \n"
          ]
        },
        {
          "output_type": "stream",
          "name": "stderr",
          "text": [
            "Warning message in chisq.test(contingency_table):\n",
            "“Chi-squared approximation may be incorrect”\n"
          ]
        },
        {
          "output_type": "stream",
          "name": "stdout",
          "text": [
            "20 . El valor p de la comparación datos_Asthma_ARS con datos_Asthma_Ig_hypers para el ranking usando Chi2 es: 0.2202206 \n"
          ]
        },
        {
          "output_type": "stream",
          "name": "stderr",
          "text": [
            "Warning message in chisq.test(contingency_table):\n",
            "“Chi-squared approximation may be incorrect”\n"
          ]
        },
        {
          "output_type": "stream",
          "name": "stdout",
          "text": [
            "21 . El valor p de la comparación datos_Asthma_ARS con datos_Asthma_Abnormality_Igsystem para el ranking usando Chi2 es: 0.2202206 \n"
          ]
        },
        {
          "output_type": "stream",
          "name": "stderr",
          "text": [
            "Warning message in chisq.test(contingency_table):\n",
            "“Chi-squared approximation may be incorrect”\n"
          ]
        },
        {
          "output_type": "stream",
          "name": "stdout",
          "text": [
            "22 . El valor p de la comparación datos_Asthma_ARS con datos_Ab_endocrine_system para el ranking usando Chi2 es: 0.2202206 \n"
          ]
        },
        {
          "output_type": "stream",
          "name": "stderr",
          "text": [
            "Warning message in chisq.test(contingency_table):\n",
            "“Chi-squared approximation may be incorrect”\n"
          ]
        },
        {
          "output_type": "stream",
          "name": "stdout",
          "text": [
            "23 . El valor p de la comparación datos_Asthma_ARS con datos_all_HPOS para el ranking usando Chi2 es: 0.2202206 \n"
          ]
        },
        {
          "output_type": "stream",
          "name": "stderr",
          "text": [
            "Warning message in chisq.test(contingency_table):\n",
            "“Chi-squared approximation may be incorrect”\n"
          ]
        },
        {
          "output_type": "stream",
          "name": "stdout",
          "text": [
            "24 . El valor p de la comparación datos_Asthma_ARS con datos_Decreased_T4 para el ranking usando Chi2 es: 0.2202206 \n"
          ]
        },
        {
          "output_type": "stream",
          "name": "stderr",
          "text": [
            "Warning message in chisq.test(contingency_table):\n",
            "“Chi-squared approximation may be incorrect”\n"
          ]
        },
        {
          "output_type": "stream",
          "name": "stdout",
          "text": [
            "25 . El valor p de la comparación datos_Asthma_ARP con datos_Ab_Resp_system para el ranking usando Chi2 es: 0.2202206 \n"
          ]
        },
        {
          "output_type": "stream",
          "name": "stderr",
          "text": [
            "Warning message in chisq.test(contingency_table):\n",
            "“Chi-squared approximation may be incorrect”\n"
          ]
        },
        {
          "output_type": "stream",
          "name": "stdout",
          "text": [
            "26 . El valor p de la comparación datos_Asthma_ARP con datos_Asthma_Ig_hypers para el ranking usando Chi2 es: 0.2202206 \n"
          ]
        },
        {
          "output_type": "stream",
          "name": "stderr",
          "text": [
            "Warning message in chisq.test(contingency_table):\n",
            "“Chi-squared approximation may be incorrect”\n"
          ]
        },
        {
          "output_type": "stream",
          "name": "stdout",
          "text": [
            "27 . El valor p de la comparación datos_Asthma_ARP con datos_Asthma_Abnormality_Igsystem para el ranking usando Chi2 es: 0.2202206 \n"
          ]
        },
        {
          "output_type": "stream",
          "name": "stderr",
          "text": [
            "Warning message in chisq.test(contingency_table):\n",
            "“Chi-squared approximation may be incorrect”\n"
          ]
        },
        {
          "output_type": "stream",
          "name": "stdout",
          "text": [
            "28 . El valor p de la comparación datos_Asthma_ARP con datos_Ab_endocrine_system para el ranking usando Chi2 es: 0.2202206 \n"
          ]
        },
        {
          "output_type": "stream",
          "name": "stderr",
          "text": [
            "Warning message in chisq.test(contingency_table):\n",
            "“Chi-squared approximation may be incorrect”\n"
          ]
        },
        {
          "output_type": "stream",
          "name": "stdout",
          "text": [
            "29 . El valor p de la comparación datos_Asthma_ARP con datos_all_HPOS para el ranking usando Chi2 es: 0.2202206 \n"
          ]
        },
        {
          "output_type": "stream",
          "name": "stderr",
          "text": [
            "Warning message in chisq.test(contingency_table):\n",
            "“Chi-squared approximation may be incorrect”\n"
          ]
        },
        {
          "output_type": "stream",
          "name": "stdout",
          "text": [
            "30 . El valor p de la comparación datos_Asthma_ARP con datos_Decreased_T4 para el ranking usando Chi2 es: 0.2202206 \n"
          ]
        },
        {
          "output_type": "stream",
          "name": "stderr",
          "text": [
            "Warning message in chisq.test(contingency_table):\n",
            "“Chi-squared approximation may be incorrect”\n"
          ]
        },
        {
          "output_type": "stream",
          "name": "stdout",
          "text": [
            "31 . El valor p de la comparación datos_Ab_Resp_system con datos_Asthma_Ig_hypers para el ranking usando Chi2 es: 0.2202206 \n"
          ]
        },
        {
          "output_type": "stream",
          "name": "stderr",
          "text": [
            "Warning message in chisq.test(contingency_table):\n",
            "“Chi-squared approximation may be incorrect”\n"
          ]
        },
        {
          "output_type": "stream",
          "name": "stdout",
          "text": [
            "32 . El valor p de la comparación datos_Ab_Resp_system con datos_Asthma_Abnormality_Igsystem para el ranking usando Chi2 es: 0.2202206 \n"
          ]
        },
        {
          "output_type": "stream",
          "name": "stderr",
          "text": [
            "Warning message in chisq.test(contingency_table):\n",
            "“Chi-squared approximation may be incorrect”\n"
          ]
        },
        {
          "output_type": "stream",
          "name": "stdout",
          "text": [
            "33 . El valor p de la comparación datos_Ab_Resp_system con datos_Ab_endocrine_system para el ranking usando Chi2 es: 0.2202206 \n"
          ]
        },
        {
          "output_type": "stream",
          "name": "stderr",
          "text": [
            "Warning message in chisq.test(contingency_table):\n",
            "“Chi-squared approximation may be incorrect”\n"
          ]
        },
        {
          "output_type": "stream",
          "name": "stdout",
          "text": [
            "34 . El valor p de la comparación datos_Ab_Resp_system con datos_all_HPOS para el ranking usando Chi2 es: 0.2202206 \n"
          ]
        },
        {
          "output_type": "stream",
          "name": "stderr",
          "text": [
            "Warning message in chisq.test(contingency_table):\n",
            "“Chi-squared approximation may be incorrect”\n"
          ]
        },
        {
          "output_type": "stream",
          "name": "stdout",
          "text": [
            "35 . El valor p de la comparación datos_Ab_Resp_system con datos_Decreased_T4 para el ranking usando Chi2 es: 0.2202206 \n"
          ]
        },
        {
          "output_type": "stream",
          "name": "stderr",
          "text": [
            "Warning message in chisq.test(contingency_table):\n",
            "“Chi-squared approximation may be incorrect”\n"
          ]
        },
        {
          "output_type": "stream",
          "name": "stdout",
          "text": [
            "36 . El valor p de la comparación datos_Asthma_Ig_hypers con datos_Asthma_Abnormality_Igsystem para el ranking usando Chi2 es: 0.2202206 \n"
          ]
        },
        {
          "output_type": "stream",
          "name": "stderr",
          "text": [
            "Warning message in chisq.test(contingency_table):\n",
            "“Chi-squared approximation may be incorrect”\n"
          ]
        },
        {
          "output_type": "stream",
          "name": "stdout",
          "text": [
            "37 . El valor p de la comparación datos_Asthma_Ig_hypers con datos_Ab_endocrine_system para el ranking usando Chi2 es: 0.2202206 \n"
          ]
        },
        {
          "output_type": "stream",
          "name": "stderr",
          "text": [
            "Warning message in chisq.test(contingency_table):\n",
            "“Chi-squared approximation may be incorrect”\n"
          ]
        },
        {
          "output_type": "stream",
          "name": "stdout",
          "text": [
            "38 . El valor p de la comparación datos_Asthma_Ig_hypers con datos_all_HPOS para el ranking usando Chi2 es: 0.2202206 \n"
          ]
        },
        {
          "output_type": "stream",
          "name": "stderr",
          "text": [
            "Warning message in chisq.test(contingency_table):\n",
            "“Chi-squared approximation may be incorrect”\n"
          ]
        },
        {
          "output_type": "stream",
          "name": "stdout",
          "text": [
            "39 . El valor p de la comparación datos_Asthma_Ig_hypers con datos_Decreased_T4 para el ranking usando Chi2 es: 0.2202206 \n"
          ]
        },
        {
          "output_type": "stream",
          "name": "stderr",
          "text": [
            "Warning message in chisq.test(contingency_table):\n",
            "“Chi-squared approximation may be incorrect”\n"
          ]
        },
        {
          "output_type": "stream",
          "name": "stdout",
          "text": [
            "40 . El valor p de la comparación datos_Asthma_Abnormality_Igsystem con datos_Ab_endocrine_system para el ranking usando Chi2 es: 0.2202206 \n"
          ]
        },
        {
          "output_type": "stream",
          "name": "stderr",
          "text": [
            "Warning message in chisq.test(contingency_table):\n",
            "“Chi-squared approximation may be incorrect”\n"
          ]
        },
        {
          "output_type": "stream",
          "name": "stdout",
          "text": [
            "41 . El valor p de la comparación datos_Asthma_Abnormality_Igsystem con datos_all_HPOS para el ranking usando Chi2 es: 0.2202206 \n"
          ]
        },
        {
          "output_type": "stream",
          "name": "stderr",
          "text": [
            "Warning message in chisq.test(contingency_table):\n",
            "“Chi-squared approximation may be incorrect”\n"
          ]
        },
        {
          "output_type": "stream",
          "name": "stdout",
          "text": [
            "42 . El valor p de la comparación datos_Asthma_Abnormality_Igsystem con datos_Decreased_T4 para el ranking usando Chi2 es: 0.2202206 \n"
          ]
        },
        {
          "output_type": "stream",
          "name": "stderr",
          "text": [
            "Warning message in chisq.test(contingency_table):\n",
            "“Chi-squared approximation may be incorrect”\n"
          ]
        },
        {
          "output_type": "stream",
          "name": "stdout",
          "text": [
            "43 . El valor p de la comparación datos_Ab_endocrine_system con datos_all_HPOS para el ranking usando Chi2 es: 0.2202206 \n"
          ]
        },
        {
          "output_type": "stream",
          "name": "stderr",
          "text": [
            "Warning message in chisq.test(contingency_table):\n",
            "“Chi-squared approximation may be incorrect”\n"
          ]
        },
        {
          "output_type": "stream",
          "name": "stdout",
          "text": [
            "44 . El valor p de la comparación datos_Ab_endocrine_system con datos_Decreased_T4 para el ranking usando Chi2 es: 0.2202206 \n"
          ]
        },
        {
          "output_type": "stream",
          "name": "stderr",
          "text": [
            "Warning message in chisq.test(contingency_table):\n",
            "“Chi-squared approximation may be incorrect”\n"
          ]
        },
        {
          "output_type": "stream",
          "name": "stdout",
          "text": [
            "45 . El valor p de la comparación datos_all_HPOS con datos_Decreased_T4 para el ranking usando Chi2 es: 0.2202206 \n",
            "\n",
            "Comparación de Phenotypic Scores utilizando el test de Chi-cuadrado:\n"
          ]
        },
        {
          "output_type": "stream",
          "name": "stderr",
          "text": [
            "Warning message in chisq.test(contingency_table):\n",
            "“Chi-squared approximation may be incorrect”\n"
          ]
        },
        {
          "output_type": "stream",
          "name": "stdout",
          "text": [
            "1 . El valor p de la comparación datos_Sin_HPO con datos_Asthma para el Phenotypic_score usando Chi2 es: 0.8187308 \n"
          ]
        },
        {
          "output_type": "stream",
          "name": "stderr",
          "text": [
            "Warning message in chisq.test(contingency_table):\n",
            "“Chi-squared approximation may be incorrect”\n"
          ]
        },
        {
          "output_type": "stream",
          "name": "stdout",
          "text": [
            "2 . El valor p de la comparación datos_Sin_HPO con datos_Asthma_ARS para el Phenotypic_score usando Chi2 es: 0.8187308 \n"
          ]
        },
        {
          "output_type": "stream",
          "name": "stderr",
          "text": [
            "Warning message in chisq.test(contingency_table):\n",
            "“Chi-squared approximation may be incorrect”\n"
          ]
        },
        {
          "output_type": "stream",
          "name": "stdout",
          "text": [
            "3 . El valor p de la comparación datos_Sin_HPO con datos_Asthma_ARP para el Phenotypic_score usando Chi2 es: 0.8187308 \n"
          ]
        },
        {
          "output_type": "stream",
          "name": "stderr",
          "text": [
            "Warning message in chisq.test(contingency_table):\n",
            "“Chi-squared approximation may be incorrect”\n"
          ]
        },
        {
          "output_type": "stream",
          "name": "stdout",
          "text": [
            "4 . El valor p de la comparación datos_Sin_HPO con datos_Ab_Resp_system para el Phenotypic_score usando Chi2 es: 0.8187308 \n"
          ]
        },
        {
          "output_type": "stream",
          "name": "stderr",
          "text": [
            "Warning message in chisq.test(contingency_table):\n",
            "“Chi-squared approximation may be incorrect”\n"
          ]
        },
        {
          "output_type": "stream",
          "name": "stdout",
          "text": [
            "5 . El valor p de la comparación datos_Sin_HPO con datos_Asthma_Ig_hypers para el Phenotypic_score usando Chi2 es: 0.8187308 \n"
          ]
        },
        {
          "output_type": "stream",
          "name": "stderr",
          "text": [
            "Warning message in chisq.test(contingency_table):\n",
            "“Chi-squared approximation may be incorrect”\n"
          ]
        },
        {
          "output_type": "stream",
          "name": "stdout",
          "text": [
            "6 . El valor p de la comparación datos_Sin_HPO con datos_Asthma_Abnormality_Igsystem para el Phenotypic_score usando Chi2 es: 0.8187308 \n"
          ]
        },
        {
          "output_type": "stream",
          "name": "stderr",
          "text": [
            "Warning message in chisq.test(contingency_table):\n",
            "“Chi-squared approximation may be incorrect”\n"
          ]
        },
        {
          "output_type": "stream",
          "name": "stdout",
          "text": [
            "7 . El valor p de la comparación datos_Sin_HPO con datos_Ab_endocrine_system para el Phenotypic_score usando Chi2 es: 0.1797125 \n"
          ]
        },
        {
          "output_type": "stream",
          "name": "stderr",
          "text": [
            "Warning message in chisq.test(contingency_table):\n",
            "“Chi-squared approximation may be incorrect”\n"
          ]
        },
        {
          "output_type": "stream",
          "name": "stdout",
          "text": [
            "8 . El valor p de la comparación datos_Sin_HPO con datos_all_HPOS para el Phenotypic_score usando Chi2 es: 0.8964324 \n"
          ]
        },
        {
          "output_type": "stream",
          "name": "stderr",
          "text": [
            "Warning message in chisq.test(contingency_table):\n",
            "“Chi-squared approximation may be incorrect”\n"
          ]
        },
        {
          "output_type": "stream",
          "name": "stdout",
          "text": [
            "9 . El valor p de la comparación datos_Sin_HPO con datos_Decreased_T4 para el Phenotypic_score usando Chi2 es: 0.1797125 \n"
          ]
        },
        {
          "output_type": "stream",
          "name": "stderr",
          "text": [
            "Warning message in chisq.test(contingency_table):\n",
            "“Chi-squared approximation may be incorrect”\n"
          ]
        },
        {
          "output_type": "stream",
          "name": "stdout",
          "text": [
            "10 . El valor p de la comparación datos_Asthma con datos_Asthma_ARS para el Phenotypic_score usando Chi2 es: 0.04042768 \n"
          ]
        },
        {
          "output_type": "stream",
          "name": "stderr",
          "text": [
            "Warning message in chisq.test(contingency_table):\n",
            "“Chi-squared approximation may be incorrect”\n"
          ]
        },
        {
          "output_type": "stream",
          "name": "stdout",
          "text": [
            "11 . El valor p de la comparación datos_Asthma con datos_Asthma_ARP para el Phenotypic_score usando Chi2 es: 0.04042768 \n"
          ]
        },
        {
          "output_type": "stream",
          "name": "stderr",
          "text": [
            "Warning message in chisq.test(contingency_table):\n",
            "“Chi-squared approximation may be incorrect”\n"
          ]
        },
        {
          "output_type": "stream",
          "name": "stdout",
          "text": [
            "12 . El valor p de la comparación datos_Asthma con datos_Ab_Resp_system para el Phenotypic_score usando Chi2 es: 0.04042768 \n"
          ]
        },
        {
          "output_type": "stream",
          "name": "stderr",
          "text": [
            "Warning message in chisq.test(contingency_table):\n",
            "“Chi-squared approximation may be incorrect”\n"
          ]
        },
        {
          "output_type": "stream",
          "name": "stdout",
          "text": [
            "13 . El valor p de la comparación datos_Asthma con datos_Asthma_Ig_hypers para el Phenotypic_score usando Chi2 es: 0.04042768 \n"
          ]
        },
        {
          "output_type": "stream",
          "name": "stderr",
          "text": [
            "Warning message in chisq.test(contingency_table):\n",
            "“Chi-squared approximation may be incorrect”\n"
          ]
        },
        {
          "output_type": "stream",
          "name": "stdout",
          "text": [
            "14 . El valor p de la comparación datos_Asthma con datos_Asthma_Abnormality_Igsystem para el Phenotypic_score usando Chi2 es: 0.04042768 \n"
          ]
        },
        {
          "output_type": "stream",
          "name": "stderr",
          "text": [
            "Warning message in chisq.test(contingency_table):\n",
            "“Chi-squared approximation may be incorrect”\n"
          ]
        },
        {
          "output_type": "stream",
          "name": "stdout",
          "text": [
            "15 . El valor p de la comparación datos_Asthma con datos_Ab_endocrine_system para el Phenotypic_score usando Chi2 es: 0.082085 \n"
          ]
        },
        {
          "output_type": "stream",
          "name": "stderr",
          "text": [
            "Warning message in chisq.test(contingency_table):\n",
            "“Chi-squared approximation may be incorrect”\n"
          ]
        },
        {
          "output_type": "stream",
          "name": "stdout",
          "text": [
            "16 . El valor p de la comparación datos_Asthma con datos_all_HPOS para el Phenotypic_score usando Chi2 es: 0.124652 \n"
          ]
        },
        {
          "output_type": "stream",
          "name": "stderr",
          "text": [
            "Warning message in chisq.test(contingency_table):\n",
            "“Chi-squared approximation may be incorrect”\n"
          ]
        },
        {
          "output_type": "stream",
          "name": "stdout",
          "text": [
            "17 . El valor p de la comparación datos_Asthma con datos_Decreased_T4 para el Phenotypic_score usando Chi2 es: 0.082085 \n"
          ]
        },
        {
          "output_type": "stream",
          "name": "stderr",
          "text": [
            "Warning message in chisq.test(contingency_table):\n",
            "“Chi-squared approximation may be incorrect”\n"
          ]
        },
        {
          "output_type": "stream",
          "name": "stdout",
          "text": [
            "18 . El valor p de la comparación datos_Asthma_ARS con datos_Asthma_ARP para el Phenotypic_score usando Chi2 es: 0.04042768 \n"
          ]
        },
        {
          "output_type": "stream",
          "name": "stderr",
          "text": [
            "Warning message in chisq.test(contingency_table):\n",
            "“Chi-squared approximation may be incorrect”\n"
          ]
        },
        {
          "output_type": "stream",
          "name": "stdout",
          "text": [
            "19 . El valor p de la comparación datos_Asthma_ARS con datos_Ab_Resp_system para el Phenotypic_score usando Chi2 es: 0.04042768 \n"
          ]
        },
        {
          "output_type": "stream",
          "name": "stderr",
          "text": [
            "Warning message in chisq.test(contingency_table):\n",
            "“Chi-squared approximation may be incorrect”\n"
          ]
        },
        {
          "output_type": "stream",
          "name": "stdout",
          "text": [
            "20 . El valor p de la comparación datos_Asthma_ARS con datos_Asthma_Ig_hypers para el Phenotypic_score usando Chi2 es: 0.04042768 \n"
          ]
        },
        {
          "output_type": "stream",
          "name": "stderr",
          "text": [
            "Warning message in chisq.test(contingency_table):\n",
            "“Chi-squared approximation may be incorrect”\n"
          ]
        },
        {
          "output_type": "stream",
          "name": "stdout",
          "text": [
            "21 . El valor p de la comparación datos_Asthma_ARS con datos_Asthma_Abnormality_Igsystem para el Phenotypic_score usando Chi2 es: 0.04042768 \n"
          ]
        },
        {
          "output_type": "stream",
          "name": "stderr",
          "text": [
            "Warning message in chisq.test(contingency_table):\n",
            "“Chi-squared approximation may be incorrect”\n"
          ]
        },
        {
          "output_type": "stream",
          "name": "stdout",
          "text": [
            "22 . El valor p de la comparación datos_Asthma_ARS con datos_Ab_endocrine_system para el Phenotypic_score usando Chi2 es: 0.082085 \n"
          ]
        },
        {
          "output_type": "stream",
          "name": "stderr",
          "text": [
            "Warning message in chisq.test(contingency_table):\n",
            "“Chi-squared approximation may be incorrect”\n"
          ]
        },
        {
          "output_type": "stream",
          "name": "stdout",
          "text": [
            "23 . El valor p de la comparación datos_Asthma_ARS con datos_all_HPOS para el Phenotypic_score usando Chi2 es: 0.124652 \n"
          ]
        },
        {
          "output_type": "stream",
          "name": "stderr",
          "text": [
            "Warning message in chisq.test(contingency_table):\n",
            "“Chi-squared approximation may be incorrect”\n"
          ]
        },
        {
          "output_type": "stream",
          "name": "stdout",
          "text": [
            "24 . El valor p de la comparación datos_Asthma_ARS con datos_Decreased_T4 para el Phenotypic_score usando Chi2 es: 0.082085 \n"
          ]
        },
        {
          "output_type": "stream",
          "name": "stderr",
          "text": [
            "Warning message in chisq.test(contingency_table):\n",
            "“Chi-squared approximation may be incorrect”\n"
          ]
        },
        {
          "output_type": "stream",
          "name": "stdout",
          "text": [
            "25 . El valor p de la comparación datos_Asthma_ARP con datos_Ab_Resp_system para el Phenotypic_score usando Chi2 es: 0.04042768 \n"
          ]
        },
        {
          "output_type": "stream",
          "name": "stderr",
          "text": [
            "Warning message in chisq.test(contingency_table):\n",
            "“Chi-squared approximation may be incorrect”\n"
          ]
        },
        {
          "output_type": "stream",
          "name": "stdout",
          "text": [
            "26 . El valor p de la comparación datos_Asthma_ARP con datos_Asthma_Ig_hypers para el Phenotypic_score usando Chi2 es: 0.04042768 \n"
          ]
        },
        {
          "output_type": "stream",
          "name": "stderr",
          "text": [
            "Warning message in chisq.test(contingency_table):\n",
            "“Chi-squared approximation may be incorrect”\n"
          ]
        },
        {
          "output_type": "stream",
          "name": "stdout",
          "text": [
            "27 . El valor p de la comparación datos_Asthma_ARP con datos_Asthma_Abnormality_Igsystem para el Phenotypic_score usando Chi2 es: 0.04042768 \n"
          ]
        },
        {
          "output_type": "stream",
          "name": "stderr",
          "text": [
            "Warning message in chisq.test(contingency_table):\n",
            "“Chi-squared approximation may be incorrect”\n"
          ]
        },
        {
          "output_type": "stream",
          "name": "stdout",
          "text": [
            "28 . El valor p de la comparación datos_Asthma_ARP con datos_Ab_endocrine_system para el Phenotypic_score usando Chi2 es: 0.082085 \n"
          ]
        },
        {
          "output_type": "stream",
          "name": "stderr",
          "text": [
            "Warning message in chisq.test(contingency_table):\n",
            "“Chi-squared approximation may be incorrect”\n"
          ]
        },
        {
          "output_type": "stream",
          "name": "stdout",
          "text": [
            "29 . El valor p de la comparación datos_Asthma_ARP con datos_all_HPOS para el Phenotypic_score usando Chi2 es: 0.124652 \n"
          ]
        },
        {
          "output_type": "stream",
          "name": "stderr",
          "text": [
            "Warning message in chisq.test(contingency_table):\n",
            "“Chi-squared approximation may be incorrect”\n"
          ]
        },
        {
          "output_type": "stream",
          "name": "stdout",
          "text": [
            "30 . El valor p de la comparación datos_Asthma_ARP con datos_Decreased_T4 para el Phenotypic_score usando Chi2 es: 0.082085 \n"
          ]
        },
        {
          "output_type": "stream",
          "name": "stderr",
          "text": [
            "Warning message in chisq.test(contingency_table):\n",
            "“Chi-squared approximation may be incorrect”\n"
          ]
        },
        {
          "output_type": "stream",
          "name": "stdout",
          "text": [
            "31 . El valor p de la comparación datos_Ab_Resp_system con datos_Asthma_Ig_hypers para el Phenotypic_score usando Chi2 es: 0.04042768 \n"
          ]
        },
        {
          "output_type": "stream",
          "name": "stderr",
          "text": [
            "Warning message in chisq.test(contingency_table):\n",
            "“Chi-squared approximation may be incorrect”\n"
          ]
        },
        {
          "output_type": "stream",
          "name": "stdout",
          "text": [
            "32 . El valor p de la comparación datos_Ab_Resp_system con datos_Asthma_Abnormality_Igsystem para el Phenotypic_score usando Chi2 es: 0.04042768 \n"
          ]
        },
        {
          "output_type": "stream",
          "name": "stderr",
          "text": [
            "Warning message in chisq.test(contingency_table):\n",
            "“Chi-squared approximation may be incorrect”\n"
          ]
        },
        {
          "output_type": "stream",
          "name": "stdout",
          "text": [
            "33 . El valor p de la comparación datos_Ab_Resp_system con datos_Ab_endocrine_system para el Phenotypic_score usando Chi2 es: 0.082085 \n"
          ]
        },
        {
          "output_type": "stream",
          "name": "stderr",
          "text": [
            "Warning message in chisq.test(contingency_table):\n",
            "“Chi-squared approximation may be incorrect”\n"
          ]
        },
        {
          "output_type": "stream",
          "name": "stdout",
          "text": [
            "34 . El valor p de la comparación datos_Ab_Resp_system con datos_all_HPOS para el Phenotypic_score usando Chi2 es: 0.124652 \n"
          ]
        },
        {
          "output_type": "stream",
          "name": "stderr",
          "text": [
            "Warning message in chisq.test(contingency_table):\n",
            "“Chi-squared approximation may be incorrect”\n"
          ]
        },
        {
          "output_type": "stream",
          "name": "stdout",
          "text": [
            "35 . El valor p de la comparación datos_Ab_Resp_system con datos_Decreased_T4 para el Phenotypic_score usando Chi2 es: 0.082085 \n"
          ]
        },
        {
          "output_type": "stream",
          "name": "stderr",
          "text": [
            "Warning message in chisq.test(contingency_table):\n",
            "“Chi-squared approximation may be incorrect”\n"
          ]
        },
        {
          "output_type": "stream",
          "name": "stdout",
          "text": [
            "36 . El valor p de la comparación datos_Asthma_Ig_hypers con datos_Asthma_Abnormality_Igsystem para el Phenotypic_score usando Chi2 es: 0.04042768 \n"
          ]
        },
        {
          "output_type": "stream",
          "name": "stderr",
          "text": [
            "Warning message in chisq.test(contingency_table):\n",
            "“Chi-squared approximation may be incorrect”\n"
          ]
        },
        {
          "output_type": "stream",
          "name": "stdout",
          "text": [
            "37 . El valor p de la comparación datos_Asthma_Ig_hypers con datos_Ab_endocrine_system para el Phenotypic_score usando Chi2 es: 0.082085 \n"
          ]
        },
        {
          "output_type": "stream",
          "name": "stderr",
          "text": [
            "Warning message in chisq.test(contingency_table):\n",
            "“Chi-squared approximation may be incorrect”\n"
          ]
        },
        {
          "output_type": "stream",
          "name": "stdout",
          "text": [
            "38 . El valor p de la comparación datos_Asthma_Ig_hypers con datos_all_HPOS para el Phenotypic_score usando Chi2 es: 0.124652 \n"
          ]
        },
        {
          "output_type": "stream",
          "name": "stderr",
          "text": [
            "Warning message in chisq.test(contingency_table):\n",
            "“Chi-squared approximation may be incorrect”\n"
          ]
        },
        {
          "output_type": "stream",
          "name": "stdout",
          "text": [
            "39 . El valor p de la comparación datos_Asthma_Ig_hypers con datos_Decreased_T4 para el Phenotypic_score usando Chi2 es: 0.082085 \n"
          ]
        },
        {
          "output_type": "stream",
          "name": "stderr",
          "text": [
            "Warning message in chisq.test(contingency_table):\n",
            "“Chi-squared approximation may be incorrect”\n"
          ]
        },
        {
          "output_type": "stream",
          "name": "stdout",
          "text": [
            "40 . El valor p de la comparación datos_Asthma_Abnormality_Igsystem con datos_Ab_endocrine_system para el Phenotypic_score usando Chi2 es: 0.082085 \n"
          ]
        },
        {
          "output_type": "stream",
          "name": "stderr",
          "text": [
            "Warning message in chisq.test(contingency_table):\n",
            "“Chi-squared approximation may be incorrect”\n"
          ]
        },
        {
          "output_type": "stream",
          "name": "stdout",
          "text": [
            "41 . El valor p de la comparación datos_Asthma_Abnormality_Igsystem con datos_all_HPOS para el Phenotypic_score usando Chi2 es: 0.124652 \n"
          ]
        },
        {
          "output_type": "stream",
          "name": "stderr",
          "text": [
            "Warning message in chisq.test(contingency_table):\n",
            "“Chi-squared approximation may be incorrect”\n"
          ]
        },
        {
          "output_type": "stream",
          "name": "stdout",
          "text": [
            "42 . El valor p de la comparación datos_Asthma_Abnormality_Igsystem con datos_Decreased_T4 para el Phenotypic_score usando Chi2 es: 0.082085 \n"
          ]
        },
        {
          "output_type": "stream",
          "name": "stderr",
          "text": [
            "Warning message in chisq.test(contingency_table):\n",
            "“Chi-squared approximation may be incorrect”\n"
          ]
        },
        {
          "output_type": "stream",
          "name": "stdout",
          "text": [
            "43 . El valor p de la comparación datos_Ab_endocrine_system con datos_all_HPOS para el Phenotypic_score usando Chi2 es: 0.1717971 \n"
          ]
        },
        {
          "output_type": "stream",
          "name": "stderr",
          "text": [
            "Warning message in chisq.test(contingency_table):\n",
            "“Chi-squared approximation may be incorrect”\n"
          ]
        },
        {
          "output_type": "stream",
          "name": "stdout",
          "text": [
            "44 . El valor p de la comparación datos_Ab_endocrine_system con datos_Decreased_T4 para el Phenotypic_score usando Chi2 es: 0.4017356 \n"
          ]
        },
        {
          "output_type": "stream",
          "name": "stderr",
          "text": [
            "Warning message in chisq.test(contingency_table):\n",
            "“Chi-squared approximation may be incorrect”\n"
          ]
        },
        {
          "output_type": "stream",
          "name": "stdout",
          "text": [
            "45 . El valor p de la comparación datos_all_HPOS con datos_Decreased_T4 para el Phenotypic_score usando Chi2 es: 0.1717971 \n"
          ]
        }
      ]
    },
    {
      "cell_type": "code",
      "source": [
        "# Filtrar valores p menores a 0.05 para la comparación de Rankings utilizando Mann-Whitney\n",
        "significant_ranking_results <- Filter(function(x) x < 0.05, unlist(mw_ranking_results))\n",
        "cat(\"\\nComparaciones de Rankings con diferencias estadísticamente significativas (Mann-Whitney):\\n\")\n",
        "cat(paste(names(significant_ranking_results), \"(\", significant_ranking_results, \")\", sep = \" \"), \"\\n\")\n",
        "\n",
        "# Filtrar valores p menores a 0.05 para la comparación de Phenotypic Scores utilizando Mann-Whitney\n",
        "significant_score_results <- Filter(function(x) x < 0.05, unlist(mw_score_results))\n",
        "cat(\"\\nComparaciones de Phenotypic Scores con diferencias estadísticamente significativas (Mann-Whitney):\\n\")\n",
        "cat(paste(names(significant_score_results), \"(\", significant_score_results, \")\", sep = \" \"), \"\\n\")\n",
        "\n",
        "# Filtrar valores p menores a 0.05 para la comparación de Rankings utilizando Chi-cuadrado\n",
        "significant_chi2_ranking_results <- Filter(function(x) x < 0.05, unlist(chi2_ranking_results))\n",
        "cat(\"\\nComparaciones de Rankings con diferencias estadísticamente significativas (Chi-cuadrado):\\n\")\n",
        "cat(paste(names(significant_chi2_ranking_results), \"(\", significant_chi2_ranking_results, \")\", sep = \" \"), \"\\n\")\n",
        "\n",
        "# Filtrar valores p menores a 0.05 para la comparación de Phenotypic Scores utilizando Chi-cuadrado\n",
        "significant_chi2_score_results <- Filter(function(x) x < 0.05, unlist(chi2_score_results))\n",
        "cat(\"\\nComparaciones de Phenotypic Scores con diferencias estadísticamente significativas (Chi-cuadrado):\\n\")\n",
        "cat(paste(names(significant_chi2_score_results), \"(\", significant_chi2_score_results, \")\", sep = \" \"), \"\\n\")\n"
      ],
      "metadata": {
        "colab": {
          "base_uri": "https://localhost:8080/"
        },
        "id": "W9E-78yeX4OW",
        "outputId": "1499d78b-9c48-443e-f0af-cd6529610e02"
      },
      "execution_count": null,
      "outputs": [
        {
          "output_type": "stream",
          "name": "stdout",
          "text": [
            "\n",
            "Comparaciones de Rankings con diferencias estadísticamente significativas (Mann-Whitney):\n",
            " (  ) \n",
            "\n",
            "Comparaciones de Phenotypic Scores con diferencias estadísticamente significativas (Mann-Whitney):\n",
            "datos_Sin_HPO con datos_Asthma ( 0.0242514051837674 ) datos_Sin_HPO con datos_Asthma_ARS ( 0.0242514051837674 ) datos_Sin_HPO con datos_Asthma_ARP ( 0.0242514051837674 ) datos_Sin_HPO con datos_Ab_Resp_system ( 0.0242514051837674 ) datos_Sin_HPO con datos_Asthma_Ig_hypers ( 0.0242514051837674 ) datos_Sin_HPO con datos_Asthma_Abnormality_Igsystem ( 0.0242514051837674 ) datos_Sin_HPO con datos_Ab_endocrine_system ( 0.0199644533052161 ) datos_Sin_HPO con datos_all_HPOS ( 0.0248084245478095 ) datos_Sin_HPO con datos_Decreased_T4 ( 0.0199644533052161 ) \n",
            "\n",
            "Comparaciones de Rankings con diferencias estadísticamente significativas (Chi-cuadrado):\n",
            " (  ) \n",
            "\n",
            "Comparaciones de Phenotypic Scores con diferencias estadísticamente significativas (Chi-cuadrado):\n",
            "datos_Asthma con datos_Asthma_ARS ( 0.0404276819945128 ) datos_Asthma con datos_Asthma_ARP ( 0.0404276819945128 ) datos_Asthma con datos_Ab_Resp_system ( 0.0404276819945128 ) datos_Asthma con datos_Asthma_Ig_hypers ( 0.0404276819945128 ) datos_Asthma con datos_Asthma_Abnormality_Igsystem ( 0.0404276819945128 ) datos_Asthma_ARS con datos_Asthma_ARP ( 0.0404276819945128 ) datos_Asthma_ARS con datos_Ab_Resp_system ( 0.0404276819945128 ) datos_Asthma_ARS con datos_Asthma_Ig_hypers ( 0.0404276819945128 ) datos_Asthma_ARS con datos_Asthma_Abnormality_Igsystem ( 0.0404276819945128 ) datos_Asthma_ARP con datos_Ab_Resp_system ( 0.0404276819945128 ) datos_Asthma_ARP con datos_Asthma_Ig_hypers ( 0.0404276819945128 ) datos_Asthma_ARP con datos_Asthma_Abnormality_Igsystem ( 0.0404276819945128 ) datos_Ab_Resp_system con datos_Asthma_Ig_hypers ( 0.0404276819945128 ) datos_Ab_Resp_system con datos_Asthma_Abnormality_Igsystem ( 0.0404276819945128 ) datos_Asthma_Ig_hypers con datos_Asthma_Abnormality_Igsystem ( 0.0404276819945128 ) \n"
          ]
        }
      ]
    },
    {
      "cell_type": "markdown",
      "metadata": {
        "id": "wI-8y9oUg7Gx"
      },
      "source": [
        "\n",
        "\n",
        "CURVAS **ROC**\n",
        "\n"
      ]
    },
    {
      "cell_type": "markdown",
      "source": [
        "1. Sin_HPO"
      ],
      "metadata": {
        "id": "iQIAFGQ0Bj9J"
      }
    },
    {
      "cell_type": "code",
      "source": [
        "# Crear la variable binaria que indica si una variante está entre las 5 primeras o no\n",
        "datos_Sin_HPO$Top10 <- ifelse(datos_Sin_HPO$Ranking <= 10, 1, 0)\n",
        "\n",
        "# Ajustar el modelo de regresión logística para la estrategia \"Asthma\"\n",
        "modelo_Sin_HPO <- glm(Top5 ~ Phenotypic_Score, data = datos_Sin_HPO, family = \"binomial\")\n",
        "\n",
        "# Calcular las probabilidades predichas de que una variante esté entre las 5 primeras para la estrategia \"Asthma\"\n",
        "nuevos_datos_Sin_HPO <- data.frame(Phenotypic_Score = c(0.6, 0.5, 0.95))\n",
        "probabilidades_Sin_HPO <- predict(modelo_Sin_HPO, newdata = nuevos_datos_Sin_HPO, type = \"response\")\n",
        "\n",
        "# Imprimir las probabilidades predichas para la estrategia \"Asthma\"\n",
        "cat(\"Probabilidades para la estrategia 'Sin_HPO':\\n\")\n",
        "print(probabilidades_Sin_HPO)\n"
      ],
      "metadata": {
        "colab": {
          "base_uri": "https://localhost:8080/"
        },
        "id": "M2c-_X03Bn87",
        "outputId": "c39ae5e4-54ba-4760-b9e2-8e4683c7fee9"
      },
      "execution_count": null,
      "outputs": [
        {
          "output_type": "stream",
          "name": "stderr",
          "text": [
            "Warning message in predict.lm(object, newdata, se.fit, scale = 1, type = if (type == :\n",
            "“prediction from rank-deficient fit; attr(*, \"non-estim\") has doubtful cases”\n"
          ]
        },
        {
          "output_type": "stream",
          "name": "stdout",
          "text": [
            "Probabilidades para la estrategia 'Sin_HPO':\n",
            "  1   2   3 \n",
            "0.4 0.4 0.4 \n",
            "attr(,\"non-estim\")\n",
            "1 2 3 \n",
            "1 2 3 \n"
          ]
        }
      ]
    },
    {
      "cell_type": "code",
      "source": [
        "# Obtener las predicciones del modelo para los datos originales\n",
        "predicciones_Sin_HPO <- predict(modelo_Sin_HPO, type = \"response\")\n",
        "\n",
        "# Crear una variable binaria de predicciones (considerando un punto de corte de 0.6)\n",
        "predicciones_binarias_Sin_HPO<- ifelse(predicciones_Sin_HPO > 0.5, 1, 0)\n",
        "\n",
        "# Crear una matriz de confusión\n",
        "matriz_confusion_Sin_HPO <- table(datos_Sin_HPO$Top10, predicciones_binarias_Sin_HPO)\n",
        "print(matriz_confusion_Sin_HPO)\n",
        "\n",
        "# Calcular las métricas de desempeño del modelo\n",
        "accuracy <- sum(diag(matriz_confusion_Sin_HPO)) / sum(matriz_confusion_Sin_HPO)\n",
        "precision <- matriz_confusion_Sin_HPO[1, 1] / sum(predicciones_binarias_Sin_HPO)\n",
        "recall <- matriz_confusion_Sin_HPO[2, 1] / sum(datos_Sin_HPO$Top10)\n",
        "f1_score <- 2 * (precision * recall) / (precision + recall)\n",
        "\n",
        "cat(\"Accuracy:\", accuracy, \"\\n\")\n",
        "cat(\"Precision:\", precision, \"\\n\")\n",
        "cat(\"Recall:\", recall, \"\\n\")\n",
        "cat(\"F1 Score:\", f1_score, \"\\n\")"
      ],
      "metadata": {
        "colab": {
          "base_uri": "https://localhost:8080/"
        },
        "id": "Fz4gCiefCCZW",
        "outputId": "3d450ab1-82a6-4ab8-cb23-dbc53a9f6097"
      },
      "execution_count": null,
      "outputs": [
        {
          "output_type": "stream",
          "name": "stdout",
          "text": [
            "   predicciones_binarias_Sin_HPO\n",
            "    0\n",
            "  0 2\n",
            "  1 3\n",
            "Accuracy: 0.4 \n",
            "Precision: Inf \n",
            "Recall: 1 \n",
            "F1 Score: NaN \n"
          ]
        }
      ]
    },
    {
      "cell_type": "code",
      "source": [
        "# Verificar si la librería pROC está instalada\n",
        "if (!requireNamespace(\"pROC\", quietly = TRUE)) {\n",
        "  # Instalar la librería pROC\n",
        "  install.packages(\"pROC\")\n",
        "}\n",
        "\n",
        "# Cargar la librería pROC\n",
        "library(pROC)\n",
        "\n",
        "# Obtener las respuestas verdaderas para los datos originales\n",
        "respuestas_verdaderas_Sin_HPO <- datos_Sin_HPO$Top10\n",
        "\n",
        "# Calcular la curva ROC\n",
        "roc_Sin_HPO<- roc(respuestas_verdaderas_Sin_HPO, predicciones_Sin_HPO)\n",
        "\n",
        "# Plotear la curva ROC\n",
        "plot(roc_Sin_HPO, main = \"Curva ROC - Sin_HPO\")\n",
        "# Calcular el área bajo la curva (AUC)\n",
        "auc_Sin_HPO <- auc(respuestas_verdaderas_Sin_HPO, predicciones_Sin_HPO)\n",
        "\n",
        "# Mostrar el AUC\n",
        "cat(\"Área bajo la curva (AUC):\", auc_Sin_HPO, \"\\n\")"
      ],
      "metadata": {
        "colab": {
          "base_uri": "https://localhost:8080/",
          "height": 593
        },
        "id": "hz-yOvf2DLb5",
        "outputId": "eabd5464-d90d-4dc6-c851-c00b00524d2b"
      },
      "execution_count": null,
      "outputs": [
        {
          "output_type": "stream",
          "name": "stderr",
          "text": [
            "Setting levels: control = 0, case = 1\n",
            "\n",
            "Setting direction: controls < cases\n",
            "\n",
            "Setting levels: control = 0, case = 1\n",
            "\n",
            "Setting direction: controls < cases\n",
            "\n"
          ]
        },
        {
          "output_type": "stream",
          "name": "stdout",
          "text": [
            "Área bajo la curva (AUC): 0.5 \n"
          ]
        },
        {
          "output_type": "display_data",
          "data": {
            "text/plain": [
              "Plot with title “Curva ROC - Sin_HPO”"
            ],
            "image/png": "[encoded data removed]"
          },
          "metadata": {
            "image/png": {
              "width": 420,
              "height": 420
            }
          }
        }
      ]
    },
    {
      "cell_type": "code",
      "source": [],
      "metadata": {
        "id": "suc92ygVCTVr"
      },
      "execution_count": null,
      "outputs": []
    },
    {
      "cell_type": "markdown",
      "metadata": {
        "id": "pWuZai3NhmQL"
      },
      "source": [
        "2. HPO: Asthma HP:0002099"
      ]
    },
    {
      "cell_type": "code",
      "execution_count": null,
      "metadata": {
        "colab": {
          "base_uri": "https://localhost:8080/"
        },
        "id": "XG9VB_F0hrH0",
        "outputId": "93beef4e-1d9e-4162-85c1-ef0cbea0d710"
      },
      "outputs": [
        {
          "output_type": "stream",
          "name": "stdout",
          "text": [
            "Probabilidades para la estrategia 'Asthma':\n",
            "        1         2         3 \n",
            "0.9916648 0.5000000 1.0000000 \n"
          ]
        }
      ],
      "source": [
        "# Crear la variable binaria que indica si una variante está entre las 10 primeras o no\n",
        "datos_Asthma$Top10 <- ifelse(datos_Asthma$Ranking <= 10, 1, 0)\n",
        "\n",
        "# Ajustar el modelo de regresión logística para la estrategia \"Asthma\"\n",
        "modelo_Asthma <- glm(Top10 ~ Phenotypic_Score, data = datos_Asthma, family = \"binomial\")\n",
        "\n",
        "# Calcular las probabilidades predichas de que una variante esté entre las 10 primeras para la estrategia \"Asthma\"\n",
        "nuevos_datos_Asthma <- data.frame(Phenotypic_Score = c(0.6, 0.5, 0.95))\n",
        "probabilidades_Asthma <- predict(modelo_Asthma, newdata = nuevos_datos_Asthma, type = \"response\")\n",
        "\n",
        "# Imprimir las probabilidades predichas para la estrategia \"Asthma\"\n",
        "cat(\"Probabilidades para la estrategia 'Asthma':\\n\")\n",
        "print(probabilidades_Asthma)\n",
        "\n"
      ]
    },
    {
      "cell_type": "code",
      "execution_count": null,
      "metadata": {
        "colab": {
          "base_uri": "https://localhost:8080/"
        },
        "id": "g2p_dOsDq6jV",
        "outputId": "371154da-1849-4482-dbbe-0e70b37a8a3b"
      },
      "outputs": [
        {
          "output_type": "stream",
          "name": "stdout",
          "text": [
            "   predicciones_binarias_Asthma\n",
            "    0 1\n",
            "  0 1 1\n",
            "  1 0 3\n",
            "Accuracy: 0.8 \n",
            "Precision: 0.25 \n",
            "Recall: 0 \n",
            "F1 Score: 0 \n"
          ]
        }
      ],
      "source": [
        "# Obtener las predicciones del modelo para los datos originales\n",
        "predicciones_Asthma <- predict(modelo_Asthma, type = \"response\")\n",
        "\n",
        "# Crear una variable binaria de predicciones (considerando un punto de corte de 0.6)\n",
        "predicciones_binarias_Asthma <- ifelse(predicciones_Asthma > 0.5, 1, 0)\n",
        "\n",
        "# Crear una matriz de confusión\n",
        "matriz_confusion_Asthma <- table(datos_Asthma$Top10, predicciones_binarias_Asthma)\n",
        "print(matriz_confusion_Asthma)\n",
        "\n",
        "# Calcular las métricas de desempeño del modelo\n",
        "accuracy <- sum(diag(matriz_confusion_Asthma)) / sum(matriz_confusion_Asthma)\n",
        "precision <- matriz_confusion_Asthma[1, 1] / sum(predicciones_binarias_Asthma)\n",
        "recall <- matriz_confusion_Asthma[2, 1] / sum(datos_Asthma$Top10)\n",
        "f1_score <- 2 * (precision * recall) / (precision + recall)\n",
        "\n",
        "cat(\"Accuracy:\", accuracy, \"\\n\")\n",
        "cat(\"Precision:\", precision, \"\\n\")\n",
        "cat(\"Recall:\", recall, \"\\n\")\n",
        "cat(\"F1 Score:\", f1_score, \"\\n\")\n"
      ]
    },
    {
      "cell_type": "code",
      "execution_count": null,
      "metadata": {
        "colab": {
          "base_uri": "https://localhost:8080/",
          "height": 593
        },
        "id": "5u0J5EnciPXC",
        "outputId": "729306da-a521-4e91-bb1d-0075482cbd78"
      },
      "outputs": [
        {
          "output_type": "stream",
          "name": "stderr",
          "text": [
            "Setting levels: control = 0, case = 1\n",
            "\n",
            "Setting direction: controls < cases\n",
            "\n",
            "Setting levels: control = 0, case = 1\n",
            "\n",
            "Setting direction: controls < cases\n",
            "\n"
          ]
        },
        {
          "output_type": "stream",
          "name": "stdout",
          "text": [
            "Área bajo la curva (AUC): 0.9166667 \n"
          ]
        },
        {
          "output_type": "display_data",
          "data": {
            "text/plain": [
              "Plot with title “Curva ROC - Asthma”"
            ],
            "image/png": "[encoded data removed]"
          },
          "metadata": {
            "image/png": {
              "width": 420,
              "height": 420
            }
          }
        }
      ],
      "source": [
        "# Verificar si la librería pROC está instalada\n",
        "if (!requireNamespace(\"pROC\", quietly = TRUE)) {\n",
        "  # Instalar la librería pROC\n",
        "  install.packages(\"pROC\")\n",
        "}\n",
        "\n",
        "# Cargar la librería pROC\n",
        "library(pROC)\n",
        "\n",
        "# Obtener las respuestas verdaderas para los datos originales\n",
        "respuestas_verdaderas_Asthma <- datos_Asthma$Top10\n",
        "\n",
        "# Calcular la curva ROC\n",
        "roc_Asthma<- roc(respuestas_verdaderas_Asthma, predicciones_Asthma)\n",
        "\n",
        "# Plotear la curva ROC\n",
        "plot(roc_Asthma, main = \"Curva ROC - Asthma\")\n",
        "# Calcular el área bajo la curva (AUC)\n",
        "auc_Asthma <- auc(respuestas_verdaderas_Asthma, predicciones_Asthma)\n",
        "\n",
        "# Mostrar el AUC\n",
        "cat(\"Área bajo la curva (AUC):\", auc_Asthma, \"\\n\")"
      ]
    },
    {
      "cell_type": "markdown",
      "metadata": {
        "id": "4-y5EnLXmfzs"
      },
      "source": [
        "3. HPO: Asthma HP:0002099 + Abnormality of the respiratory system HP:0002086"
      ]
    },
    {
      "cell_type": "code",
      "execution_count": null,
      "metadata": {
        "colab": {
          "base_uri": "https://localhost:8080/"
        },
        "id": "EF1bKtPxnXlW",
        "outputId": "c448e5dc-9d94-4d2f-f444-2a933180d8f7"
      },
      "outputs": [
        {
          "output_type": "stream",
          "name": "stdout",
          "text": [
            "Probabilidades para la estrategia 'Asthma_ARS':\n",
            "          1           2           3 \n",
            "3.42074e-05 5.00000e-01 1.00000e+00 \n"
          ]
        }
      ],
      "source": [
        "# Crear la variable binaria que indica si una variante está entre las 10 primeras o no\n",
        "datos_Asthma_ARS$Top10 <- ifelse(datos_Asthma_ARS$Ranking <= 10, 1, 0)\n",
        "\n",
        "# Ajustar el modelo de regresión logística para la estrategia \"Asthma_ARS\"\n",
        "modelo_Asthma_ARS <- glm(Top10 ~ Phenotypic_Score, data = datos_Asthma_ARS, family = \"binomial\")\n",
        "\n",
        "# Calcular las probabilidades predichas de que una variante esté entre las 10 primeras para la estrategia \"Asthma_ARS\"\n",
        "nuevos_datos_Asthma_ARS <- data.frame(Phenotypic_Score = c(0.25, 0.5, 0.95))\n",
        "probabilidades_Asthma_ARS <- predict(modelo_Asthma_ARS, newdata = nuevos_datos_Asthma_ARS, type = \"response\")\n",
        "\n",
        "# Imprimir las probabilidades predichas para la estrategia \"Asthma_ARS\"\n",
        "cat(\"Probabilidades para la estrategia 'Asthma_ARS':\\n\")\n",
        "print(probabilidades_Asthma_ARS)\n"
      ]
    },
    {
      "cell_type": "code",
      "execution_count": null,
      "metadata": {
        "colab": {
          "base_uri": "https://localhost:8080/"
        },
        "id": "gvqGNjtqqweF",
        "outputId": "2d27a233-0128-483d-9056-1972e79af895"
      },
      "outputs": [
        {
          "output_type": "stream",
          "name": "stdout",
          "text": [
            "   predicciones_binarias_Asthma_ARS\n",
            "    0 1\n",
            "  0 2 0\n",
            "  1 1 2\n",
            "Accuracy: 0.8 \n",
            "Precision: 1 \n",
            "Recall: 0.6666667 \n",
            "F1 Score: 0.8 \n"
          ]
        }
      ],
      "source": [
        "# Obtener las predicciones del modelo para los datos originales\n",
        "predicciones_Asthma_ARS <- predict(modelo_Asthma_ARS, type = \"response\")\n",
        "\n",
        "# Crear una variable binaria de predicciones (considerando un punto de corte de 0.6)\n",
        "predicciones_binarias_Asthma_ARS <- ifelse(predicciones_Asthma_ARS > 0.6, 1, 0)\n",
        "\n",
        "# Crear una matriz de confusión\n",
        "matriz_confusion_Asthma_ARS <- table(datos_Asthma_ARS$Top10, predicciones_binarias_Asthma_ARS)\n",
        "print(matriz_confusion_Asthma_ARS)\n",
        "\n",
        "# Calcular las métricas de desempeño del modelo\n",
        "accuracy <- sum(diag(matriz_confusion_Asthma_ARS)) / sum(matriz_confusion_Asthma_ARS)\n",
        "precision <- matriz_confusion_Asthma_ARS[2, 2] / sum(predicciones_binarias_Asthma_ARS)\n",
        "recall <- matriz_confusion_Asthma_ARS[2, 2] / sum(datos_Asthma_ARS$Top10)\n",
        "f1_score <- 2 * (precision * recall) / (precision + recall)\n",
        "\n",
        "cat(\"Accuracy:\", accuracy, \"\\n\")\n",
        "cat(\"Precision:\", precision, \"\\n\")\n",
        "cat(\"Recall:\", recall, \"\\n\")\n",
        "cat(\"F1 Score:\", f1_score, \"\\n\")\n"
      ]
    },
    {
      "cell_type": "code",
      "execution_count": null,
      "metadata": {
        "colab": {
          "base_uri": "https://localhost:8080/",
          "height": 593
        },
        "id": "L4VSjaGCnvJr",
        "outputId": "d06043c3-653c-422a-97f9-050729cbfe2d"
      },
      "outputs": [
        {
          "output_type": "stream",
          "name": "stderr",
          "text": [
            "Setting levels: control = 0, case = 1\n",
            "\n",
            "Setting direction: controls < cases\n",
            "\n",
            "Setting levels: control = 0, case = 1\n",
            "\n",
            "Setting direction: controls < cases\n",
            "\n"
          ]
        },
        {
          "output_type": "stream",
          "name": "stdout",
          "text": [
            "Área bajo la curva (AUC): 0.9166667 \n"
          ]
        },
        {
          "output_type": "display_data",
          "data": {
            "text/plain": [
              "Plot with title “Curva ROC - Asthma_ARS”"
            ],
            "image/png": "[encoded data removed]"
          },
          "metadata": {
            "image/png": {
              "width": 420,
              "height": 420
            }
          }
        }
      ],
      "source": [
        "# Verificar si la librería pROC está instalada\n",
        "if (!requireNamespace(\"pROC\", quietly = TRUE)) {\n",
        "  # Instalar la librería pROC\n",
        "  install.packages(\"pROC\")\n",
        "}\n",
        "\n",
        "# Cargar la librería pROC\n",
        "library(pROC)\n",
        "\n",
        "# Obtener las respuestas verdaderas para los datos originales\n",
        "respuestas_verdaderas_Asthma_ARS <- datos_Asthma_ARS$Top10\n",
        "\n",
        "# Calcular la curva ROC\n",
        "roc_Asthma_ARS <- roc(respuestas_verdaderas_Asthma_ARS, predicciones_Asthma_ARS)\n",
        "\n",
        "# Plotear la curva ROC\n",
        "plot(roc_Asthma_ARS, main = \"Curva ROC - Asthma_ARS\")\n",
        "\n",
        "# Calcular el área bajo la curva (AUC)\n",
        "auc_Asthma_ARS <- auc(respuestas_verdaderas_Asthma_ARS, predicciones_Asthma_ARS)\n",
        "\n",
        "# Mostrar el AUC\n",
        "cat(\"Área bajo la curva (AUC):\", auc_Asthma_ARS, \"\\n\")\n"
      ]
    },
    {
      "cell_type": "markdown",
      "source": [
        "4. HPO: Abnormality of the respiratory system HP:0002086"
      ],
      "metadata": {
        "id": "OaK7oStqIu2S"
      }
    },
    {
      "cell_type": "code",
      "execution_count": null,
      "metadata": {
        "colab": {
          "base_uri": "https://localhost:8080/"
        },
        "id": "QS5giqn8a9d1",
        "outputId": "040262a1-24b3-4de0-ac51-369504b9c5c4"
      },
      "outputs": [
        {
          "output_type": "stream",
          "name": "stdout",
          "text": [
            "Probabilidades para la estrategia 'Ab_Resp_system':\n",
            "          1           2           3 \n",
            "3.42074e-05 5.00000e-01 1.00000e+00 \n"
          ]
        }
      ],
      "source": [
        "# Crear la variable binaria que indica si una variante está entre las 10 primeras o no\n",
        "datos_Ab_Resp_system$Top10 <- ifelse(datos_Ab_Resp_system$Ranking <= 10, 1, 0)\n",
        "\n",
        "# Ajustar el modelo de regresión logística para la estrategia \"Ab_Resp_system\"\n",
        "modelo_Ab_Resp_system <- glm(Top10 ~ Phenotypic_Score, data = datos_Ab_Resp_system, family = \"binomial\")\n",
        "\n",
        "# Calcular las probabilidades predichas de que una variante esté entre las 10 primeras para la estrategia \"Ab_Resp_system\"\n",
        "nuevos_datos_Ab_Resp_system <- data.frame(Phenotypic_Score = c(0.25, 0.5, 0.95))\n",
        "probabilidades_Ab_Resp_system <- predict(modelo_Ab_Resp_system, newdata = nuevos_datos_Ab_Resp_system, type = \"response\")\n",
        "\n",
        "# Imprimir las probabilidades predichas para la estrategia \"Ab_Resp_system\"\n",
        "cat(\"Probabilidades para la estrategia 'Ab_Resp_system':\\n\")\n",
        "print(probabilidades_Ab_Resp_system)\n"
      ]
    },
    {
      "cell_type": "code",
      "execution_count": null,
      "metadata": {
        "colab": {
          "base_uri": "https://localhost:8080/",
          "height": 732
        },
        "id": "Zx0CZyxndeJj",
        "outputId": "dcd63700-c3df-4c61-f060-2857396f0de8"
      },
      "outputs": [
        {
          "output_type": "stream",
          "name": "stdout",
          "text": [
            "   predicciones_binarias_Ab_Resp_system\n",
            "    0 1\n",
            "  0 2 0\n",
            "  1 1 2\n",
            "Accuracy: 0.8 \n",
            "Precision: 1 \n",
            "Recall: 0.6666667 \n",
            "F1 Score: 0.8 \n"
          ]
        },
        {
          "output_type": "stream",
          "name": "stderr",
          "text": [
            "Setting levels: control = 0, case = 1\n",
            "\n",
            "Setting direction: controls < cases\n",
            "\n",
            "Setting levels: control = 0, case = 1\n",
            "\n",
            "Setting direction: controls < cases\n",
            "\n"
          ]
        },
        {
          "output_type": "stream",
          "name": "stdout",
          "text": [
            "Área bajo la curva (AUC): 0.9166667 \n"
          ]
        },
        {
          "output_type": "display_data",
          "data": {
            "text/plain": [
              "Plot with title “Curva ROC - Ab_Resp_system”"
            ],
            "image/png": "[encoded data removed]"
          },
          "metadata": {
            "image/png": {
              "width": 420,
              "height": 420
            }
          }
        }
      ],
      "source": [
        "# Verificar si la librería pROC está instalada\n",
        "if (!requireNamespace(\"pROC\", quietly = TRUE)) {\n",
        "  # Instalar la librería pROC\n",
        "  install.packages(\"pROC\")\n",
        "}\n",
        "\n",
        "# Cargar la librería pROC\n",
        "library(pROC)\n",
        "\n",
        "# Obtener las predicciones del modelo para los datos originales\n",
        "predicciones_Ab_Resp_system <- predict(modelo_Ab_Resp_system, type = \"response\")\n",
        "\n",
        "# Crear una variable binaria de predicciones (considerando un punto de corte de 0.5)\n",
        "predicciones_binarias_Ab_Resp_system <- ifelse(predicciones_Ab_Resp_system > 0.5, 1, 0)\n",
        "\n",
        "# Crear una matriz de confusión\n",
        "matriz_confusion_Ab_Resp_system <- table(datos_Ab_Resp_system$Top10, predicciones_binarias_Ab_Resp_system)\n",
        "print(matriz_confusion_Ab_Resp_system)\n",
        "\n",
        "# Calcular las métricas de desempeño del modelo\n",
        "accuracy <- sum(diag(matriz_confusion_Ab_Resp_system)) / sum(matriz_confusion_Ab_Resp_system)\n",
        "precision <- matriz_confusion_Ab_Resp_system[2, 2] / sum(predicciones_binarias_Ab_Resp_system)\n",
        "recall <- matriz_confusion_Ab_Resp_system[2, 2] / sum(datos_Ab_Resp_system$Top10)\n",
        "f1_score <- 2 * (precision * recall) / (precision + recall)\n",
        "\n",
        "cat(\"Accuracy:\", accuracy, \"\\n\")\n",
        "cat(\"Precision:\", precision, \"\\n\")\n",
        "cat(\"Recall:\", recall, \"\\n\")\n",
        "cat(\"F1 Score:\", f1_score, \"\\n\")\n",
        "\n",
        "# Obtener las respuestas verdaderas para los datos originales\n",
        "respuestas_verdaderas_Ab_Resp_system <- datos_Ab_Resp_system$Top10\n",
        "\n",
        "# Calcular la curva ROC\n",
        "roc_Ab_Resp_system <- roc(respuestas_verdaderas_Ab_Resp_system, predicciones_Ab_Resp_system)\n",
        "\n",
        "# Plotear la curva ROC\n",
        "plot(roc_Ab_Resp_system, main = \"Curva ROC - Ab_Resp_system\")\n",
        "# Calcular el área bajo la curva (AUC)\n",
        "auc_Ab_Resp_system <- auc(respuestas_verdaderas_Ab_Resp_system, predicciones_Ab_Resp_system)\n",
        "\n",
        "# Mostrar el AUC\n",
        "cat(\"Área bajo la curva (AUC):\", auc_Ab_Resp_system, \"\\n\")\n"
      ]
    },
    {
      "cell_type": "markdown",
      "source": [],
      "metadata": {
        "id": "40nOsRK8MNMC"
      }
    },
    {
      "cell_type": "markdown",
      "source": [],
      "metadata": {
        "id": "ZoOh899fJ_dH"
      }
    },
    {
      "cell_type": "markdown",
      "source": [
        "5. HPO: Abnormality of the endocrine system HP:0000818"
      ],
      "metadata": {
        "id": "2nv5KvL8KE8e"
      }
    },
    {
      "cell_type": "code",
      "source": [
        "# Crear la variable binaria que indica si una variante está entre las 10 primeras o no\n",
        "datos_Ab_endocrine_system$Top10 <- ifelse(datos_Ab_endocrine_system$Ranking <= 10, 1, 0)\n",
        "\n",
        "# Ajustar el modelo de regresión logística para la estrategia \"Ab_endocrine_system\"\n",
        "modelo_Ab_endocrine_system <- glm(Top10 ~ Phenotypic_Score, data = datos_Ab_endocrine_system, family = \"binomial\")\n",
        "\n",
        "# Calcular las probabilidades predichas de que una variante esté entre las 10 primeras para la estrategia \"Ab_endocrine_system\"\n",
        "nuevos_datos_Ab_endocrine_system <- data.frame(Phenotypic_Score = c(0.25, 0.5, 0.95))\n",
        "probabilidades_Ab_endocrine_system <- predict(modelo_Ab_endocrine_system, newdata = nuevos_datos_Ab_endocrine_system, type = \"response\")\n",
        "\n",
        "# Imprimir las probabilidades predichas para la estrategia \"Ab_endocrine_system\"\n",
        "cat(\"Probabilidades para la estrategia 'Ab_endocrine_system':\\n\")\n",
        "print(probabilidades_Ab_endocrine_system)\n"
      ],
      "metadata": {
        "colab": {
          "base_uri": "https://localhost:8080/"
        },
        "id": "LX6Ydl1mI9kC",
        "outputId": "47a7604f-e527-4074-b6a9-61e4a1dfc9f4"
      },
      "execution_count": null,
      "outputs": [
        {
          "output_type": "stream",
          "name": "stdout",
          "text": [
            "Probabilidades para la estrategia 'Ab_endocrine_system':\n",
            "           1            2            3 \n",
            "0.0001610349 0.7500000000 0.9999999931 \n"
          ]
        }
      ]
    },
    {
      "cell_type": "code",
      "source": [
        "# Verificar si la librería pROC está instalada\n",
        "if (!requireNamespace(\"pROC\", quietly = TRUE)) {\n",
        "  # Instalar la librería pROC\n",
        "  install.packages(\"pROC\")\n",
        "}\n",
        "\n",
        "# Cargar la librería pROC\n",
        "library(pROC)\n",
        "\n",
        "# Obtener las predicciones del modelo para los datos originales\n",
        "predicciones_Ab_endocrine_system <- predict(modelo_Ab_endocrine_system, type = \"response\")\n",
        "\n",
        "# Crear una variable binaria de predicciones (considerando un punto de corte de 0.5)\n",
        "predicciones_binarias_Ab_endocrine_system <- ifelse(predicciones_Ab_endocrine_system > 0.5, 1, 0)\n",
        "\n",
        "# Crear una matriz de confusión\n",
        "matriz_confusion_Ab_endocrine_system <- table(datos_Ab_endocrine_system$Top10, predicciones_binarias_Ab_endocrine_system)\n",
        "print(matriz_confusion_Ab_endocrine_system)\n",
        "\n",
        "# Calcular las métricas de desempeño del modelo\n",
        "accuracy <- sum(diag(matriz_confusion_Ab_endocrine_system)) / sum(matriz_confusion_Ab_endocrine_system)\n",
        "precision <- matriz_confusion_Ab_endocrine_system[2, 2] / sum(predicciones_binarias_Ab_endocrine_system)\n",
        "recall <- matriz_confusion_Ab_endocrine_system[2, 2] / sum(datos_Ab_endocrine_system$Top10)\n",
        "f1_score <- 2 * (precision * recall) / (precision + recall)\n",
        "\n",
        "cat(\"Accuracy:\", accuracy, \"\\n\")\n",
        "cat(\"Precision:\", precision, \"\\n\")\n",
        "cat(\"Recall:\", recall, \"\\n\")\n",
        "cat(\"F1 Score:\", f1_score, \"\\n\")\n",
        "\n",
        "# Obtener las respuestas verdaderas para los datos originales\n",
        "respuestas_verdaderas_Ab_endocrine_system <- datos_Ab_endocrine_system$Top10\n",
        "\n",
        "# Calcular la curva ROC\n",
        "roc_Ab_endocrine_system <- roc(respuestas_verdaderas_Ab_endocrine_system, predicciones_Ab_endocrine_system)\n",
        "\n",
        "# Plotear la curva ROC\n",
        "plot(roc_Ab_endocrine_system, main = \"Curva ROC - Ab_endocrine_system\")\n",
        "# Calcular el área bajo la curva (AUC)\n",
        "auc_Ab_endocrine_system <- auc(respuestas_verdaderas_Ab_endocrine_system, predicciones_Ab_endocrine_system)\n",
        "\n",
        "# Mostrar el AUC\n",
        "cat(\"Área bajo la curva (AUC):\", auc_Ab_endocrine_system, \"\\n\")"
      ],
      "metadata": {
        "colab": {
          "base_uri": "https://localhost:8080/",
          "height": 732
        },
        "id": "uZFuYAVyKXmW",
        "outputId": "efb71409-c1bb-4d23-a714-e6f0a43a9879"
      },
      "execution_count": null,
      "outputs": [
        {
          "output_type": "stream",
          "name": "stdout",
          "text": [
            "   predicciones_binarias_Ab_endocrine_system\n",
            "    0 1\n",
            "  0 1 1\n",
            "  1 0 3\n",
            "Accuracy: 0.8 \n",
            "Precision: 0.75 \n",
            "Recall: 1 \n",
            "F1 Score: 0.8571429 \n"
          ]
        },
        {
          "output_type": "stream",
          "name": "stderr",
          "text": [
            "Setting levels: control = 0, case = 1\n",
            "\n",
            "Setting direction: controls < cases\n",
            "\n",
            "Setting levels: control = 0, case = 1\n",
            "\n",
            "Setting direction: controls < cases\n",
            "\n"
          ]
        },
        {
          "output_type": "stream",
          "name": "stdout",
          "text": [
            "Área bajo la curva (AUC): 0.75 \n"
          ]
        },
        {
          "output_type": "display_data",
          "data": {
            "text/plain": [
              "Plot with title “Curva ROC - Ab_endocrine_system”"
            ],
            "image/png": "[encoded data removed]"
          },
          "metadata": {
            "image/png": {
              "width": 420,
              "height": 420
            }
          }
        }
      ]
    },
    {
      "cell_type": "markdown",
      "source": [
        "6. Todos los HPO juntos"
      ],
      "metadata": {
        "id": "TfDQhZ1QMPXr"
      }
    },
    {
      "cell_type": "code",
      "source": [
        "# Crear la variable binaria que indica si una variante está entre las 10 primeras o no\n",
        "datos_all_HPOS$Top10 <- ifelse(datos_all_HPOS$Ranking <= 10, 1, 0)\n",
        "\n",
        "# Ajustar el modelo de regresión logística para la estrategia \"all_HPOS\"\n",
        "modelo_all_HPOS <- glm(Top10 ~ Phenotypic_Score, data = datos_all_HPOS, family = \"binomial\")\n",
        "\n",
        "# Calcular las probabilidades predichas de que una variante esté entre las 10 primeras para la estrategia \"all_HPOS\"\n",
        "nuevos_datos_all_HPOS <- data.frame(Phenotypic_Score = c(0.25, 0.5, 0.95))\n",
        "probabilidades_all_HPOS <- predict(modelo_all_HPOS, newdata = nuevos_datos_all_HPOS, type = \"response\")\n",
        "\n",
        "# Imprimir las probabilidades predichas para la estrategia \"all_HPOS\"\n",
        "cat(\"Probabilidades para la estrategia 'all_HPOS':\\n\")\n",
        "print(probabilidades_all_HPOS)\n"
      ],
      "metadata": {
        "colab": {
          "base_uri": "https://localhost:8080/"
        },
        "id": "RXPGBi88MOia",
        "outputId": "b9fcc643-7aeb-46d9-ffea-96a587057287"
      },
      "execution_count": null,
      "outputs": [
        {
          "output_type": "stream",
          "name": "stderr",
          "text": [
            "Warning message:\n",
            "“glm.fit: fitted probabilities numerically 0 or 1 occurred”\n"
          ]
        },
        {
          "output_type": "stream",
          "name": "stdout",
          "text": [
            "Probabilidades para la estrategia 'all_HPOS':\n",
            "           1            2            3 \n",
            "6.412984e-13 5.000000e-01 1.000000e+00 \n"
          ]
        }
      ]
    },
    {
      "cell_type": "code",
      "source": [
        "# Verificar si la librería pROC está instalada\n",
        "if (!requireNamespace(\"pROC\", quietly = TRUE)) {\n",
        "  # Instalar la librería pROC\n",
        "  install.packages(\"pROC\")\n",
        "}\n",
        "\n",
        "# Cargar la librería pROC\n",
        "library(pROC)\n",
        "\n",
        "# Obtener las predicciones del modelo para los datos originales\n",
        "predicciones_all_HPOS <- predict(modelo_all_HPOS, type = \"response\")\n",
        "\n",
        "# Crear una variable binaria de predicciones (considerando un punto de corte de 0.5)\n",
        "predicciones_binarias_all_HPOS <- ifelse(predicciones_all_HPOS > 0.5, 1, 0)\n",
        "\n",
        "# Crear una matriz de confusión\n",
        "matriz_confusion_all_HPOS <- table(datos_all_HPOS$Top10, predicciones_binarias_all_HPOS)\n",
        "print(matriz_confusion_all_HPOS)\n",
        "\n",
        "# Calcular las métricas de desempeño del modelo\n",
        "accuracy <- sum(diag(matriz_confusion_all_HPOS)) / sum(matriz_confusion_all_HPOS)\n",
        "precision <- matriz_confusion_all_HPOS[2, 2] / sum(predicciones_binarias_all_HPOS)\n",
        "recall <- matriz_confusion_all_HPOS[2, 2] / sum(datos_all_HPOS$Top10)\n",
        "f1_score <- 2 * (precision * recall) / (precision + recall)\n",
        "\n",
        "cat(\"Accuracy:\", accuracy, \"\\n\")\n",
        "cat(\"Precision:\", precision, \"\\n\")\n",
        "cat(\"Recall:\", recall, \"\\n\")\n",
        "cat(\"F1 Score:\", f1_score, \"\\n\")\n",
        "\n",
        "# Obtener las respuestas verdaderas para los datos originales\n",
        "respuestas_verdaderas_all_HPOS <- datos_all_HPOS$Top10\n",
        "\n",
        "# Calcular la curva ROC\n",
        "roc_all_HPOS <- roc(respuestas_verdaderas_all_HPOS, predicciones_all_HPOS)\n",
        "\n",
        "# Plotear la curva ROC\n",
        "plot(roc_all_HPOS, main = \"Curva ROC - all_HPOS\")\n",
        "\n",
        "# Calcular el área bajo la curva (AUC)\n",
        "auc_all_HPOS <- auc(respuestas_verdaderas_all_HPOS, predicciones_all_HPOS)\n",
        "\n",
        "# Mostrar el AUC\n",
        "cat(\"Área bajo la curva (AUC):\", auc_all_HPOS, \"\\n\")\n"
      ],
      "metadata": {
        "colab": {
          "base_uri": "https://localhost:8080/",
          "height": 732
        },
        "id": "3u16123DMsve",
        "outputId": "5d20b08b-3b81-4e24-b640-4bd77303c6d2"
      },
      "execution_count": null,
      "outputs": [
        {
          "output_type": "stream",
          "name": "stdout",
          "text": [
            "   predicciones_binarias_all_HPOS\n",
            "    0 1\n",
            "  0 1 1\n",
            "  1 0 3\n",
            "Accuracy: 0.8 \n",
            "Precision: 0.75 \n",
            "Recall: 1 \n",
            "F1 Score: 0.8571429 \n"
          ]
        },
        {
          "output_type": "stream",
          "name": "stderr",
          "text": [
            "Setting levels: control = 0, case = 1\n",
            "\n",
            "Setting direction: controls < cases\n",
            "\n",
            "Setting levels: control = 0, case = 1\n",
            "\n",
            "Setting direction: controls < cases\n",
            "\n"
          ]
        },
        {
          "output_type": "stream",
          "name": "stdout",
          "text": [
            "Área bajo la curva (AUC): 0.9166667 \n"
          ]
        },
        {
          "output_type": "display_data",
          "data": {
            "text/plain": [
              "Plot with title “Curva ROC - all_HPOS”"
            ],
            "image/png": "[encoded data removed]"
          },
          "metadata": {
            "image/png": {
              "width": 420,
              "height": 420
            }
          }
        }
      ]
    },
    {
      "cell_type": "markdown",
      "source": [
        "7. HPO: Decreased circulating T4 concentration HP:0031507"
      ],
      "metadata": {
        "id": "li7NA-T5Nro3"
      }
    },
    {
      "cell_type": "code",
      "source": [
        "# Crear la variable binaria que indica si una variante está entre las 10 primeras o no\n",
        "datos_Decreased_T4$Top10 <- ifelse(datos_Decreased_T4$Ranking <= 10, 1, 0)\n",
        "\n",
        "# Ajustar el modelo de regresión logística para la estrategia \"Decreased_T4\"\n",
        "modelo_Decreased_T4 <- glm(Top10 ~ Phenotypic_Score, data = datos_Decreased_T4, family = \"binomial\")\n",
        "\n",
        "# Calcular las probabilidades predichas de que una variante esté entre las 10 primeras para la estrategia \"Decreased_T4\"\n",
        "nuevos_datos_Decreased_T4 <- data.frame(Phenotypic_Score = c(0.25, 0.5, 0.95))\n",
        "probabilidades_Decreased_T4 <- predict(modelo_Decreased_T4, newdata = nuevos_datos_Decreased_T4, type = \"response\")\n",
        "\n",
        "# Imprimir las probabilidades predichas para la estrategia \"Decreased_T4\"\n",
        "cat(\"Probabilidades para la estrategia 'Decreased_T4':\\n\")\n",
        "print(probabilidades_Decreased_T4)\n"
      ],
      "metadata": {
        "colab": {
          "base_uri": "https://localhost:8080/"
        },
        "id": "SAG81HYdNrK5",
        "outputId": "7d2bb669-c967-4efd-b016-0601b700ba00"
      },
      "execution_count": null,
      "outputs": [
        {
          "output_type": "stream",
          "name": "stdout",
          "text": [
            "Probabilidades para la estrategia 'Decreased_T4':\n",
            "           1            2            3 \n",
            "0.0001610349 0.7500000000 0.9999999931 \n"
          ]
        }
      ]
    },
    {
      "cell_type": "code",
      "source": [
        "# Verificar si la librería pROC está instalada\n",
        "if (!requireNamespace(\"pROC\", quietly = TRUE)) {\n",
        "  # Instalar la librería pROC\n",
        "  install.packages(\"pROC\")\n",
        "}\n",
        "\n",
        "# Cargar la librería pROC\n",
        "library(pROC)\n",
        "\n",
        "# Obtener las predicciones del modelo para los datos originales\n",
        "predicciones_Decreased_T4 <- predict(modelo_Decreased_T4, type = \"response\")\n",
        "\n",
        "# Crear una variable binaria de predicciones (considerando un punto de corte de 0.5)\n",
        "predicciones_binarias_Decreased_T4 <- ifelse(predicciones_Decreased_T4 > 0.5, 1, 0)\n",
        "\n",
        "# Crear una matriz de confusión\n",
        "matriz_confusion_Decreased_T4 <- table(datos_Decreased_T4$Top10, predicciones_binarias_Decreased_T4)\n",
        "print(matriz_confusion_Decreased_T4)\n",
        "\n",
        "# Calcular las métricas de desempeño del modelo\n",
        "accuracy <- sum(diag(matriz_confusion_Decreased_T4)) / sum(matriz_confusion_Decreased_T4)\n",
        "precision <- matriz_confusion_Decreased_T4[2, 2] / sum(predicciones_binarias_Decreased_T4)\n",
        "recall <- matriz_confusion_Decreased_T4[2, 2] / sum(datos_Decreased_T4$Top10)\n",
        "f1_score <- 2 * (precision * recall) / (precision + recall)\n",
        "\n",
        "cat(\"Accuracy:\", accuracy, \"\\n\")\n",
        "cat(\"Precision:\", precision, \"\\n\")\n",
        "cat(\"Recall:\", recall, \"\\n\")\n",
        "cat(\"F1 Score:\", f1_score, \"\\n\")\n",
        "\n",
        "# Obtener las respuestas verdaderas para los datos originales\n",
        "respuestas_verdaderas_Decreased_T4 <- datos_Decreased_T4$Top10\n",
        "\n",
        "# Calcular la curva ROC\n",
        "roc_Decreased_T4 <- roc(respuestas_verdaderas_Decreased_T4, predicciones_Decreased_T4)\n",
        "\n",
        "# Plotear la curva ROC\n",
        "plot(roc_Decreased_T4, main = \"Curva ROC - Decreased_T4\")\n",
        "\n",
        "# Calcular el área bajo la curva (AUC)\n",
        "auc_Decreased_T4 <- auc(respuestas_verdaderas_Decreased_T4, predicciones_Decreased_T4)\n",
        "\n",
        "# Mostrar el AUC\n",
        "cat(\"Área bajo la curva (AUC):\", auc_Decreased_T4, \"\\n\")\n"
      ],
      "metadata": {
        "colab": {
          "base_uri": "https://localhost:8080/",
          "height": 732
        },
        "id": "uRHyKRC1NYAf",
        "outputId": "924c9b76-ffb9-466f-eb94-ea985976bb7a"
      },
      "execution_count": null,
      "outputs": [
        {
          "output_type": "stream",
          "name": "stdout",
          "text": [
            "   predicciones_binarias_Decreased_T4\n",
            "    0 1\n",
            "  0 1 1\n",
            "  1 0 3\n",
            "Accuracy: 0.8 \n",
            "Precision: 0.75 \n",
            "Recall: 1 \n",
            "F1 Score: 0.8571429 \n"
          ]
        },
        {
          "output_type": "stream",
          "name": "stderr",
          "text": [
            "Setting levels: control = 0, case = 1\n",
            "\n",
            "Setting direction: controls < cases\n",
            "\n",
            "Setting levels: control = 0, case = 1\n",
            "\n",
            "Setting direction: controls < cases\n",
            "\n"
          ]
        },
        {
          "output_type": "stream",
          "name": "stdout",
          "text": [
            "Área bajo la curva (AUC): 0.75 \n"
          ]
        },
        {
          "output_type": "display_data",
          "data": {
            "text/plain": [
              "Plot with title “Curva ROC - Decreased_T4”"
            ],
            "image/png": "[encoded data removed]"
          },
          "metadata": {
            "image/png": {
              "width": 420,
              "height": 420
            }
          }
        }
      ]
    },
    {
      "cell_type": "code",
      "source": [
        "# Tramar la primera curva ROC\n",
        "plot(roc_Ab_Resp_system, col = \"red\", lty = 1, main = \"Curvas ROC\", xlab = \"Tasa de Falsos Positivos\", ylab = \"Tasa de Verdaderos Positivos\")\n",
        "\n",
        "# Agregar las otras curvas ROC\n",
        "lines(roc_Asthma_ARS, col = \"blue\", lty = 2)\n",
        "lines(roc_Asthma, col = \"green\", lty = 3)\n",
        "lines(roc_Ab_endocrine_system, col = \"pink\", lty = 4)\n",
        "lines(roc_all_HPOS, col = \"orange\", lty = 5)\n",
        "lines(roc_Decreased_T4, col = \"purple\", lty = 6)\n",
        "\n",
        "# Mostrar los AUC en una leyenda\n",
        "legend(\"bottomright\", legend = c(\n",
        "  paste(\"AUC Ab_Resp_system =\", auc_Ab_Resp_system),\n",
        "  paste(\"AUC Asthma_ARS =\", auc_Asthma_ARS),\n",
        "  paste(\"AUC Ab_endocrine_system =\", auc_Ab_endocrine_system),\n",
        "  paste(\"AUC Asthma =\", auc_Asthma),\n",
        "  paste(\"AUC all_HPOS =\", auc_all_HPOS),\n",
        "  paste(\"AUC Decreased_T4 =\", auc_Decreased_T4)\n",
        "),\n",
        "col = c(\"red\", \"blue\", \"green\", \"pink\", \"orange\", \"purple\"),\n",
        "lty = c(1, 2, 3, 4, 5, 6),\n",
        "bty = \"n\"\n",
        ")\n"
      ],
      "metadata": {
        "colab": {
          "base_uri": "https://localhost:8080/",
          "height": 437
        },
        "id": "rcCcxzVhNpAj",
        "outputId": "93447c6e-036c-4a7c-fed4-2dfbb95bacba"
      },
      "execution_count": null,
      "outputs": [
        {
          "output_type": "display_data",
          "data": {
            "text/plain": [
              "Plot with title “Curvas ROC”"
            ],
            "image/png": "[encoded data removed]"
          },
          "metadata": {
            "image/png": {
              "width": 420,
              "height": 420
            }
          }
        }
      ]
    },
    {
      "cell_type": "code",
      "execution_count": null,
      "metadata": {
        "colab": {
          "base_uri": "https://localhost:8080/",
          "height": 437
        },
        "id": "vm-SlfKLtcg7",
        "outputId": "4c4185bf-0f56-4566-ce1f-955f2885b346"
      },
      "outputs": [
        {
          "data": {
            "image/png": "[encoded data removed]",
            "text/plain": [
              "plot without title"
            ]
          },
          "metadata": {
            "image/png": {
              "height": 420,
              "width": 420
            }
          },
          "output_type": "display_data"
        }
      ],
      "source": [
        "library(ggplot2)\n",
        "\n",
        "# Gráfico de barras del ranking para una variante específica\n",
        "variante <- \"GP9\"  # Variante específica que deseas analizar\n",
        "subset_tabla <- subset(tabla_resultados, Variante == variante)\n",
        "\n",
        "# Crear el gráfico de barras\n",
        "ggplot(subset_tabla, aes(x = Estrategia, y = Ranking)) +\n",
        "  geom_bar(stat = \"identity\", fill = \"steelblue\") +\n",
        "  labs(title = paste(\"Variante:\", variante), x = \"Estrategia\", y = \"Ranking\")\n"
      ]
    },
    {
      "cell_type": "code",
      "execution_count": null,
      "metadata": {
        "colab": {
          "base_uri": "https://localhost:8080/",
          "height": 437
        },
        "id": "9S0BN_Ieto5U",
        "outputId": "9ff5f665-f1f2-45e7-9a30-e23fbf270b11"
      },
      "outputs": [
        {
          "output_type": "display_data",
          "data": {
            "text/plain": [
              "plot without title"
            ],
            "image/png": "[encoded data removed]"
          },
          "metadata": {
            "image/png": {
              "width": 420,
              "height": 420
            }
          }
        }
      ],
      "source": [
        "library(ggplot2)\n",
        "\n",
        "# Gráfico de dispersión del ranking y puntaje fenotípico para todas las variantes\n",
        "ggplot(tabla_resultados, aes(x = Ranking, y = Phenotypic_Score, color = Estrategia)) +\n",
        "  geom_point() +\n",
        "  labs(title = \"Relación entre Ranking y Phenotypic Score\", x = \"Ranking\", y = \"Phenotypic Score\")\n"
      ]
    },
    {
      "cell_type": "code",
      "execution_count": null,
      "metadata": {
        "colab": {
          "base_uri": "https://localhost:8080/",
          "height": 169
        },
        "id": "H2aP9KOIvtJs",
        "outputId": "8fd8e057-d4a3-4550-cea3-b0d9b18daa54"
      },
      "outputs": [
        {
          "output_type": "error",
          "ename": "ERROR",
          "evalue": "ignored",
          "traceback": [
            "Error in eval(expr, envir, enclos): object 'tabla_resultados' not found\nTraceback:\n",
            "1. aov(Ranking ~ Variante + Estrategia, data = tabla_resultados)",
            "2. terms(formula, \"Error\", data = data)",
            "3. terms.formula(formula, \"Error\", data = data)"
          ]
        }
      ],
      "source": [
        "# ANOVA de dos factores para el ranking\n",
        "anova_ranking <- aov(Ranking ~ Variante + Estrategia, data = tabla_resultados)\n",
        "summary(anova_ranking)\n"
      ]
    },
    {
      "cell_type": "markdown",
      "metadata": {
        "id": "Hjlh8NurwKH5"
      },
      "source": [
        "En este caso, se observa lo siguiente:\n",
        "\n",
        "Variante: El valor de p es menor que 0.001 (***), lo que indica que hay diferencias significativas en el ranking entre las variantes. Esto significa que las variantes tienen un impacto significativo en el ranking.\n",
        "\n",
        "Estrategia: El valor de p es 0.835 (> 0.05), lo que indica que no hay diferencias significativas en el ranking entre las estrategias. Esto significa que las estrategias utilizadas no tienen un impacto significativo en el ranking.\n",
        "\n",
        "Residuals: Representa la variabilidad no explicada por los factores. En este caso, se obtiene una suma de cuadrados de 1220 y un promedio de cuadrados de 12.3.\n",
        "\n",
        "En resumen, el análisis indica que las variantes tienen un efecto significativo en el ranking, mientras que las estrategias utilizadas no muestran diferencias significativas en el ranking."
      ]
    },
    {
      "cell_type": "code",
      "source": [
        "# Lectura del archivo CSV\n",
        "data_asthma <- read.csv(\"/content/-genesT4.csv\")\n",
        "\n",
        "# Obtener los niveles únicos de la columna de estrategia\n",
        "estrategias <- unique(data_asthma$Estrategia)\n",
        "\n",
        "# Realizar pruebas de Wilcoxon-Mann-Whitney para cada par de estrategias\n",
        "results <- list()\n",
        "for (i in 1:(length(estrategias)-1)) {\n",
        "  for (j in (i+1):length(estrategias)) {\n",
        "    estrategia1 <- estrategias[i]\n",
        "    estrategia2 <- estrategias[j]\n",
        "    subset_data <- data_asthma[data_asthma$Estrategia %in% c(estrategia1, estrategia2), ]\n",
        "    result <- wilcox.test(subset_data$Ranking ~ subset_data$Estrategia,\n",
        "                          alternative = \"two.sided\",\n",
        "                          paired = FALSE,\n",
        "                          exact = FALSE)\n",
        "    test_name <- paste(estrategia1, \"-\", estrategia2)\n",
        "    results[[test_name]] <- result\n",
        "  }\n",
        "}\n",
        "\n",
        "# Imprimir los resultados\n",
        "for (test_name in names(results)) {\n",
        "  cat(test_name, \":\\n\")\n",
        "  print(results[[test_name]])\n",
        "  cat(\"\\n\")\n",
        "}\n"
      ],
      "metadata": {
        "colab": {
          "base_uri": "https://localhost:8080/"
        },
        "id": "AB_PNU-1R6x1",
        "outputId": "9ede854b-7044-45be-8e7d-07ad6b69f91d"
      },
      "execution_count": null,
      "outputs": [
        {
          "output_type": "stream",
          "name": "stdout",
          "text": [
            "Asthma - Asthma_ARS :\n",
            "\n",
            "\tWilcoxon rank sum test with continuity correction\n",
            "\n",
            "data:  subset_data$Ranking by subset_data$Estrategia\n",
            "W = 19.5, p-value = 0.8721\n",
            "alternative hypothesis: true location shift is not equal to 0\n",
            "\n",
            "\n",
            "Asthma - Asthma_ARP :\n",
            "\n",
            "\tWilcoxon rank sum test with continuity correction\n",
            "\n",
            "data:  subset_data$Ranking by subset_data$Estrategia\n",
            "W = 19, p-value = 0.9357\n",
            "alternative hypothesis: true location shift is not equal to 0\n",
            "\n",
            "\n",
            "Asthma - Ab_Resp_system :\n",
            "\n",
            "\tWilcoxon rank sum test with continuity correction\n",
            "\n",
            "data:  subset_data$Ranking by subset_data$Estrategia\n",
            "W = 17, p-value = 0.936\n",
            "alternative hypothesis: true location shift is not equal to 0\n",
            "\n",
            "\n",
            "Asthma - Asthma_Ig_hypers :\n",
            "\n",
            "\tWilcoxon rank sum test with continuity correction\n",
            "\n",
            "data:  subset_data$Ranking by subset_data$Estrategia\n",
            "W = 18, p-value = 1\n",
            "alternative hypothesis: true location shift is not equal to 0\n",
            "\n",
            "\n",
            "Asthma - Asthma_Abnormality_Igsystem :\n",
            "\n",
            "\tWilcoxon rank sum test with continuity correction\n",
            "\n",
            "data:  subset_data$Ranking by subset_data$Estrategia\n",
            "W = 19.5, p-value = 0.8721\n",
            "alternative hypothesis: true location shift is not equal to 0\n",
            "\n",
            "\n",
            "Asthma - Ab_immune_system :\n",
            "\n",
            "\tWilcoxon rank sum test with continuity correction\n",
            "\n",
            "data:  subset_data$Ranking by subset_data$Estrategia\n",
            "W = 21.5, p-value = 0.6304\n",
            "alternative hypothesis: true location shift is not equal to 0\n",
            "\n",
            "\n",
            "Asthma - Decreased_T4 :\n",
            "\n",
            "\tWilcoxon rank sum test with continuity correction\n",
            "\n",
            "data:  subset_data$Ranking by subset_data$Estrategia\n",
            "W = 28.5, p-value = 0.1075\n",
            "alternative hypothesis: true location shift is not equal to 0\n",
            "\n",
            "\n",
            "Asthma - Increased_T4 :\n",
            "\n",
            "\tWilcoxon rank sum test with continuity correction\n",
            "\n",
            "data:  subset_data$Ranking by subset_data$Estrategia\n",
            "W = 27, p-value = 0.172\n",
            "alternative hypothesis: true location shift is not equal to 0\n",
            "\n",
            "\n",
            "Asthma - Ab_endocrine_system :\n",
            "\n",
            "\tWilcoxon rank sum test with continuity correction\n",
            "\n",
            "data:  subset_data$Ranking by subset_data$Estrategia\n",
            "W = 12, p-value = 0.3768\n",
            "alternative hypothesis: true location shift is not equal to 0\n",
            "\n",
            "\n",
            "Asthma - all_HPOS :\n",
            "\n",
            "\tWilcoxon rank sum test with continuity correction\n",
            "\n",
            "data:  subset_data$Ranking by subset_data$Estrategia\n",
            "W = 9, p-value = 0.172\n",
            "alternative hypothesis: true location shift is not equal to 0\n",
            "\n",
            "\n",
            "Asthma_ARS - Asthma_ARP :\n",
            "\n",
            "\tWilcoxon rank sum test with continuity correction\n",
            "\n",
            "data:  subset_data$Ranking by subset_data$Estrategia\n",
            "W = 18.5, p-value = 1\n",
            "alternative hypothesis: true location shift is not equal to 0\n",
            "\n",
            "\n",
            "Asthma_ARS - Ab_Resp_system :\n",
            "\n",
            "\tWilcoxon rank sum test with continuity correction\n",
            "\n",
            "data:  subset_data$Ranking by subset_data$Estrategia\n",
            "W = 18.5, p-value = 1\n",
            "alternative hypothesis: true location shift is not equal to 0\n",
            "\n",
            "\n",
            "Asthma_ARS - Asthma_Ig_hypers :\n",
            "\n",
            "\tWilcoxon rank sum test with continuity correction\n",
            "\n",
            "data:  subset_data$Ranking by subset_data$Estrategia\n",
            "W = 16.5, p-value = 0.8721\n",
            "alternative hypothesis: true location shift is not equal to 0\n",
            "\n",
            "\n",
            "Asthma_ARS - Asthma_Abnormality_Igsystem :\n",
            "\n",
            "\tWilcoxon rank sum test with continuity correction\n",
            "\n",
            "data:  subset_data$Ranking by subset_data$Estrategia\n",
            "W = 18, p-value = 1\n",
            "alternative hypothesis: true location shift is not equal to 0\n",
            "\n",
            "\n",
            "Asthma_ARS - Ab_immune_system :\n",
            "\n",
            "\tWilcoxon rank sum test with continuity correction\n",
            "\n",
            "data:  subset_data$Ranking by subset_data$Estrategia\n",
            "W = 22, p-value = 0.5752\n",
            "alternative hypothesis: true location shift is not equal to 0\n",
            "\n",
            "\n",
            "Asthma_ARS - Decreased_T4 :\n",
            "\n",
            "\tWilcoxon rank sum test with continuity correction\n",
            "\n",
            "data:  subset_data$Ranking by subset_data$Estrategia\n",
            "W = 27, p-value = 0.172\n",
            "alternative hypothesis: true location shift is not equal to 0\n",
            "\n",
            "\n",
            "Asthma_ARS - Increased_T4 :\n",
            "\n",
            "\tWilcoxon rank sum test with continuity correction\n",
            "\n",
            "data:  subset_data$Ranking by subset_data$Estrategia\n",
            "W = 26, p-value = 0.2281\n",
            "alternative hypothesis: true location shift is not equal to 0\n",
            "\n",
            "\n",
            "Asthma_ARS - Ab_endocrine_system :\n",
            "\n",
            "\tWilcoxon rank sum test with continuity correction\n",
            "\n",
            "data:  subset_data$Ranking by subset_data$Estrategia\n",
            "W = 13, p-value = 0.4696\n",
            "alternative hypothesis: true location shift is not equal to 0\n",
            "\n",
            "\n",
            "Asthma_ARS - all_HPOS :\n",
            "\n",
            "\tWilcoxon rank sum test with continuity correction\n",
            "\n",
            "data:  subset_data$Ranking by subset_data$Estrategia\n",
            "W = 10, p-value = 0.2281\n",
            "alternative hypothesis: true location shift is not equal to 0\n",
            "\n",
            "\n",
            "Asthma_ARP - Ab_Resp_system :\n",
            "\n",
            "\tWilcoxon rank sum test with continuity correction\n",
            "\n",
            "data:  subset_data$Ranking by subset_data$Estrategia\n",
            "W = 18, p-value = 1\n",
            "alternative hypothesis: true location shift is not equal to 0\n",
            "\n",
            "\n",
            "Asthma_ARP - Asthma_Ig_hypers :\n",
            "\n",
            "\tWilcoxon rank sum test with continuity correction\n",
            "\n",
            "data:  subset_data$Ranking by subset_data$Estrategia\n",
            "W = 17, p-value = 0.9357\n",
            "alternative hypothesis: true location shift is not equal to 0\n",
            "\n",
            "\n",
            "Asthma_ARP - Asthma_Abnormality_Igsystem :\n",
            "\n",
            "\tWilcoxon rank sum test with continuity correction\n",
            "\n",
            "data:  subset_data$Ranking by subset_data$Estrategia\n",
            "W = 17.5, p-value = 1\n",
            "alternative hypothesis: true location shift is not equal to 0\n",
            "\n",
            "\n",
            "Asthma_ARP - Ab_immune_system :\n",
            "\n",
            "\tWilcoxon rank sum test with continuity correction\n",
            "\n",
            "data:  subset_data$Ranking by subset_data$Estrategia\n",
            "W = 22, p-value = 0.5752\n",
            "alternative hypothesis: true location shift is not equal to 0\n",
            "\n",
            "\n",
            "Asthma_ARP - Decreased_T4 :\n",
            "\n",
            "\tWilcoxon rank sum test with continuity correction\n",
            "\n",
            "data:  subset_data$Ranking by subset_data$Estrategia\n",
            "W = 27.5, p-value = 0.1474\n",
            "alternative hypothesis: true location shift is not equal to 0\n",
            "\n",
            "\n",
            "Asthma_ARP - Increased_T4 :\n",
            "\n",
            "\tWilcoxon rank sum test with continuity correction\n",
            "\n",
            "data:  subset_data$Ranking by subset_data$Estrategia\n",
            "W = 26, p-value = 0.2281\n",
            "alternative hypothesis: true location shift is not equal to 0\n",
            "\n",
            "\n",
            "Asthma_ARP - Ab_endocrine_system :\n",
            "\n",
            "\tWilcoxon rank sum test with continuity correction\n",
            "\n",
            "data:  subset_data$Ranking by subset_data$Estrategia\n",
            "W = 12.5, p-value = 0.4225\n",
            "alternative hypothesis: true location shift is not equal to 0\n",
            "\n",
            "\n",
            "Asthma_ARP - all_HPOS :\n",
            "\n",
            "\tWilcoxon rank sum test with continuity correction\n",
            "\n",
            "data:  subset_data$Ranking by subset_data$Estrategia\n",
            "W = 10, p-value = 0.2281\n",
            "alternative hypothesis: true location shift is not equal to 0\n",
            "\n",
            "\n",
            "Ab_Resp_system - Asthma_Ig_hypers :\n",
            "\n",
            "\tWilcoxon rank sum test with continuity correction\n",
            "\n",
            "data:  subset_data$Ranking by subset_data$Estrategia\n",
            "W = 17, p-value = 0.936\n",
            "alternative hypothesis: true location shift is not equal to 0\n",
            "\n",
            "\n",
            "Ab_Resp_system - Asthma_Abnormality_Igsystem :\n",
            "\n",
            "\tWilcoxon rank sum test with continuity correction\n",
            "\n",
            "data:  subset_data$Ranking by subset_data$Estrategia\n",
            "W = 18.5, p-value = 1\n",
            "alternative hypothesis: true location shift is not equal to 0\n",
            "\n",
            "\n",
            "Ab_Resp_system - Ab_immune_system :\n",
            "\n",
            "\tWilcoxon rank sum test with continuity correction\n",
            "\n",
            "data:  subset_data$Ranking by subset_data$Estrategia\n",
            "W = 21.5, p-value = 0.6304\n",
            "alternative hypothesis: true location shift is not equal to 0\n",
            "\n",
            "\n",
            "Ab_Resp_system - Decreased_T4 :\n",
            "\n",
            "\tWilcoxon rank sum test with continuity correction\n",
            "\n",
            "data:  subset_data$Ranking by subset_data$Estrategia\n",
            "W = 27, p-value = 0.172\n",
            "alternative hypothesis: true location shift is not equal to 0\n",
            "\n",
            "\n",
            "Ab_Resp_system - Increased_T4 :\n",
            "\n",
            "\tWilcoxon rank sum test with continuity correction\n",
            "\n",
            "data:  subset_data$Ranking by subset_data$Estrategia\n",
            "W = 25, p-value = 0.2963\n",
            "alternative hypothesis: true location shift is not equal to 0\n",
            "\n",
            "\n",
            "Ab_Resp_system - Ab_endocrine_system :\n",
            "\n",
            "\tWilcoxon rank sum test with continuity correction\n",
            "\n",
            "data:  subset_data$Ranking by subset_data$Estrategia\n",
            "W = 13.5, p-value = 0.5211\n",
            "alternative hypothesis: true location shift is not equal to 0\n",
            "\n",
            "\n",
            "Ab_Resp_system - all_HPOS :\n",
            "\n",
            "\tWilcoxon rank sum test with continuity correction\n",
            "\n",
            "data:  subset_data$Ranking by subset_data$Estrategia\n",
            "W = 25.5, p-value = 0.2598\n",
            "alternative hypothesis: true location shift is not equal to 0\n",
            "\n",
            "\n",
            "Asthma_Ig_hypers - Asthma_Abnormality_Igsystem :\n",
            "\n",
            "\tWilcoxon rank sum test with continuity correction\n",
            "\n",
            "data:  subset_data$Ranking by subset_data$Estrategia\n",
            "W = 16.5, p-value = 0.8721\n",
            "alternative hypothesis: true location shift is not equal to 0\n",
            "\n",
            "\n",
            "Asthma_Ig_hypers - Ab_immune_system :\n",
            "\n",
            "\tWilcoxon rank sum test with continuity correction\n",
            "\n",
            "data:  subset_data$Ranking by subset_data$Estrategia\n",
            "W = 21.5, p-value = 0.6304\n",
            "alternative hypothesis: true location shift is not equal to 0\n",
            "\n",
            "\n",
            "Asthma_Ig_hypers - Decreased_T4 :\n",
            "\n",
            "\tWilcoxon rank sum test with continuity correction\n",
            "\n",
            "data:  subset_data$Ranking by subset_data$Estrategia\n",
            "W = 28.5, p-value = 0.1075\n",
            "alternative hypothesis: true location shift is not equal to 0\n",
            "\n",
            "\n",
            "Asthma_Ig_hypers - Increased_T4 :\n",
            "\n",
            "\tWilcoxon rank sum test with continuity correction\n",
            "\n",
            "data:  subset_data$Ranking by subset_data$Estrategia\n",
            "W = 27, p-value = 0.172\n",
            "alternative hypothesis: true location shift is not equal to 0\n",
            "\n",
            "\n",
            "Asthma_Ig_hypers - Ab_endocrine_system :\n",
            "\n",
            "\tWilcoxon rank sum test with continuity correction\n",
            "\n",
            "data:  subset_data$Ranking by subset_data$Estrategia\n",
            "W = 12, p-value = 0.3768\n",
            "alternative hypothesis: true location shift is not equal to 0\n",
            "\n",
            "\n",
            "Asthma_Ig_hypers - all_HPOS :\n",
            "\n",
            "\tWilcoxon rank sum test with continuity correction\n",
            "\n",
            "data:  subset_data$Ranking by subset_data$Estrategia\n",
            "W = 9, p-value = 0.172\n",
            "alternative hypothesis: true location shift is not equal to 0\n",
            "\n",
            "\n",
            "Asthma_Abnormality_Igsystem - Ab_immune_system :\n",
            "\n",
            "\tWilcoxon rank sum test with continuity correction\n",
            "\n",
            "data:  subset_data$Ranking by subset_data$Estrategia\n",
            "W = 22, p-value = 0.5752\n",
            "alternative hypothesis: true location shift is not equal to 0\n",
            "\n",
            "\n",
            "Asthma_Abnormality_Igsystem - Decreased_T4 :\n",
            "\n",
            "\tWilcoxon rank sum test with continuity correction\n",
            "\n",
            "data:  subset_data$Ranking by subset_data$Estrategia\n",
            "W = 27, p-value = 0.172\n",
            "alternative hypothesis: true location shift is not equal to 0\n",
            "\n",
            "\n",
            "Asthma_Abnormality_Igsystem - Increased_T4 :\n",
            "\n",
            "\tWilcoxon rank sum test with continuity correction\n",
            "\n",
            "data:  subset_data$Ranking by subset_data$Estrategia\n",
            "W = 26, p-value = 0.2281\n",
            "alternative hypothesis: true location shift is not equal to 0\n",
            "\n",
            "\n",
            "Asthma_Abnormality_Igsystem - Ab_endocrine_system :\n",
            "\n",
            "\tWilcoxon rank sum test with continuity correction\n",
            "\n",
            "data:  subset_data$Ranking by subset_data$Estrategia\n",
            "W = 13, p-value = 0.4696\n",
            "alternative hypothesis: true location shift is not equal to 0\n",
            "\n",
            "\n",
            "Asthma_Abnormality_Igsystem - all_HPOS :\n",
            "\n",
            "\tWilcoxon rank sum test with continuity correction\n",
            "\n",
            "data:  subset_data$Ranking by subset_data$Estrategia\n",
            "W = 10, p-value = 0.2281\n",
            "alternative hypothesis: true location shift is not equal to 0\n",
            "\n",
            "\n",
            "Ab_immune_system - Decreased_T4 :\n",
            "\n",
            "\tWilcoxon rank sum test with continuity correction\n",
            "\n",
            "data:  subset_data$Ranking by subset_data$Estrategia\n",
            "W = 27.5, p-value = 0.1488\n",
            "alternative hypothesis: true location shift is not equal to 0\n",
            "\n",
            "\n",
            "Ab_immune_system - Increased_T4 :\n",
            "\n",
            "\tWilcoxon rank sum test with continuity correction\n",
            "\n",
            "data:  subset_data$Ranking by subset_data$Estrategia\n",
            "W = 27.5, p-value = 0.1488\n",
            "alternative hypothesis: true location shift is not equal to 0\n",
            "\n",
            "\n",
            "Ab_immune_system - Ab_endocrine_system :\n",
            "\n",
            "\tWilcoxon rank sum test with continuity correction\n",
            "\n",
            "data:  subset_data$Ranking by subset_data$Estrategia\n",
            "W = 11, p-value = 0.2963\n",
            "alternative hypothesis: true location shift is not equal to 0\n",
            "\n",
            "\n",
            "Ab_immune_system - all_HPOS :\n",
            "\n",
            "\tWilcoxon rank sum test with continuity correction\n",
            "\n",
            "data:  subset_data$Ranking by subset_data$Estrategia\n",
            "W = 27, p-value = 0.172\n",
            "alternative hypothesis: true location shift is not equal to 0\n",
            "\n",
            "\n",
            "Decreased_T4 - Increased_T4 :\n",
            "\n",
            "\tWilcoxon rank sum test with continuity correction\n",
            "\n",
            "data:  subset_data$Ranking by subset_data$Estrategia\n",
            "W = 17.5, p-value = 1\n",
            "alternative hypothesis: true location shift is not equal to 0\n",
            "\n",
            "\n",
            "Decreased_T4 - Ab_endocrine_system :\n",
            "\n",
            "\tWilcoxon rank sum test with continuity correction\n",
            "\n",
            "data:  subset_data$Ranking by subset_data$Estrategia\n",
            "W = 20.5, p-value = 0.7475\n",
            "alternative hypothesis: true location shift is not equal to 0\n",
            "\n",
            "\n",
            "Decreased_T4 - all_HPOS :\n",
            "\n",
            "\tWilcoxon rank sum test with continuity correction\n",
            "\n",
            "data:  subset_data$Ranking by subset_data$Estrategia\n",
            "W = 18.5, p-value = 1\n",
            "alternative hypothesis: true location shift is not equal to 0\n",
            "\n",
            "\n",
            "Increased_T4 - Ab_endocrine_system :\n",
            "\n",
            "\tWilcoxon rank sum test with continuity correction\n",
            "\n",
            "data:  subset_data$Ranking by subset_data$Estrategia\n",
            "W = 20, p-value = 0.8089\n",
            "alternative hypothesis: true location shift is not equal to 0\n",
            "\n",
            "\n",
            "Increased_T4 - all_HPOS :\n",
            "\n",
            "\tWilcoxon rank sum test with continuity correction\n",
            "\n",
            "data:  subset_data$Ranking by subset_data$Estrategia\n",
            "W = 17, p-value = 0.9357\n",
            "alternative hypothesis: true location shift is not equal to 0\n",
            "\n",
            "\n",
            "Ab_endocrine_system - all_HPOS :\n",
            "\n",
            "\tWilcoxon rank sum test with continuity correction\n",
            "\n",
            "data:  subset_data$Ranking by subset_data$Estrategia\n",
            "W = 21, p-value = 0.6868\n",
            "alternative hypothesis: true location shift is not equal to 0\n",
            "\n",
            "\n"
          ]
        }
      ]
    },
    {
      "cell_type": "code",
      "source": [
        "# Lectura del archivo CSV\n",
        "data_asthma <- read.csv(\"/content/-genesT4.csv\")\n",
        "data_asthma$Phenotypic_Score <- as.numeric(data_asthma$Phenotypic_Score)\n",
        "\n",
        "# Obtener los niveles únicos de la columna de estrategia\n",
        "estrategias <- unique(data_asthma$Estrategia)\n",
        "\n",
        "# Realizar pruebas de Wilcoxon-Mann-Whitney para cada par de estrategias en los Phenotypic Scores\n",
        "results <- list()\n",
        "for (i in 1:(length(estrategias)-1)) {\n",
        "  for (j in (i+1):length(estrategias)) {\n",
        "    estrategia1 <- estrategias[i]\n",
        "    estrategia2 <- estrategias[j]\n",
        "    subset_data <- data_asthma[data_asthma$Estrategia %in% c(estrategia1, estrategia2), ]\n",
        "    result <- wilcox.test(subset_data$Phenotypic_Score ~ subset_data$Estrategia,\n",
        "                          alternative = \"two.sided\",\n",
        "                          paired = FALSE,\n",
        "                          exact = FALSE)\n",
        "    test_name <- paste(estrategia1, \"-\", estrategia2)\n",
        "    results[[test_name]] <- result\n",
        "  }\n",
        "}\n",
        "\n",
        "# Imprimir los resultados\n",
        "for (test_name in names(results)) {\n",
        "  cat(test_name, \":\\n\")\n",
        "  print(results[[test_name]])\n",
        "  cat(\"\\n\")\n",
        "}\n"
      ],
      "metadata": {
        "colab": {
          "base_uri": "https://localhost:8080/",
          "height": 257
        },
        "id": "KD-AWV56TVdP",
        "outputId": "4e98c967-c74d-4a30-fa47-af8a702268de"
      },
      "execution_count": null,
      "outputs": [
        {
          "output_type": "stream",
          "name": "stderr",
          "text": [
            "Warning message in eval(expr, envir, enclos):\n",
            "“NAs introduced by coercion”\n"
          ]
        },
        {
          "output_type": "error",
          "ename": "ERROR",
          "evalue": "ignored",
          "traceback": [
            "Error in wilcox.test.formula(subset_data$Phenotypic_Score ~ subset_data$Estrategia, : grouping factor must have exactly 2 levels\nTraceback:\n",
            "1. wilcox.test(subset_data$Phenotypic_Score ~ subset_data$Estrategia, \n .     alternative = \"two.sided\", paired = FALSE, exact = FALSE)",
            "2. wilcox.test.formula(subset_data$Phenotypic_Score ~ subset_data$Estrategia, \n .     alternative = \"two.sided\", paired = FALSE, exact = FALSE)",
            "3. stop(\"grouping factor must have exactly 2 levels\")"
          ]
        }
      ]
    }
  ],
  "metadata": {
    "colab": {
      "provenance": [],
      "authorship_tag": "ABX9TyNOjPaHP08w/fZ/Jz6Ro76E",
      "include_colab_link": true
    },
    "kernelspec": {
      "display_name": "R",
      "name": "ir"
    },
    "language_info": {
      "name": "R"
    }
  },
  "nbformat": 4,
  "nbformat_minor": 0
}